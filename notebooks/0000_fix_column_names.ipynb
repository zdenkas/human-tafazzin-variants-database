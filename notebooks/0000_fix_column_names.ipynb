{
 "cells": [
  {
   "cell_type": "markdown",
   "id": "a3c7ffab-e44b-4cde-80c5-bfac321be632",
   "metadata": {},
   "source": [
    "# Fix column names \n",
    "\n",
    "This notebook:\n",
    "* removes empty column in `pathogenic` sheet\n",
    "* fixes column names to be consistent among excel sheets\n",
    "\n",
    "```\n",
    "pathogenic: \n",
    "\"Location in  Genome release  37 (hg19)\" (orig) -> \"Location in Genome release 37 (hg19)\" (new)\n",
    "\"Location in Genome release  38 (hg38)\" (orig) -> \"Location in Genome release 38 (hg38)\" (new)\n",
    "\"Protein or mRNA variants\" (orig) -> \"Protein or mRNA Variants\" (new)\n",
    "\" Functional outcome (MLCL/CL ratio)\" (orig) -> \"Functional outcome (MLCL/CL ratio)\" (new)\n",
    "\"Taffazin Functional motifs \" (orig) -> \"Taffazin Functional motifs\" (new)\n",
    "\n",
    "benign:\n",
    "\"Location in  Genome release 37 (hg19)\" (orig) -> \"Location in Genome release 37 (hg19)\" (new)\n",
    "\"Splicing prediction\" (orig) -> \"Splicing Prediction\" (new)\n",
    "\n",
    "vus:\n",
    "\"Location in  Genome release 37 (hg19)\" (orig) -> \"Location in Genome release 37 (hg19)\" (new)\n",
    "\n",
    "exon5:\n",
    "\"Genome Assembly Release 37\" (orig) -> \"Location in Genome release 37 (hg19)\" (new)\n",
    "\"Genome Assembly Release 38\" (orig) -> \"Location in Genome release 38 (hg38)\" (new)\n",
    "```"
   ]
  },
  {
   "cell_type": "code",
   "execution_count": 1,
   "id": "6873ddff-591a-4845-8efa-48409a65224b",
   "metadata": {},
   "outputs": [],
   "source": [
    "import pandas as pd\n",
    "import os\n",
    "import helpers"
   ]
  },
  {
   "cell_type": "code",
   "execution_count": 2,
   "id": "868917a4-9e4a-4485-b923-42b115c7ce2b",
   "metadata": {},
   "outputs": [
    {
     "name": "stdout",
     "output_type": "stream",
     "text": [
      "version number: 0000\n",
      "database output path: ../database_versions/0000_2023-10-30-12-58-35-482589_Human-TAFAZZIN-Variants-Database.xlsx\n"
     ]
    }
   ],
   "source": [
    "input_path = '../database_original/[Data Only] Human TAFAZZIN Variants Database_v07-20-2023.xlsx'\n",
    "output_path = helpers.create_database_output_path()"
   ]
  },
  {
   "cell_type": "markdown",
   "id": "267b5d96-6e2e-4bb3-acba-942a9e405c35",
   "metadata": {},
   "source": [
    "# Load data"
   ]
  },
  {
   "cell_type": "code",
   "execution_count": 3,
   "id": "dba55a7f-8256-4589-bec1-1cf9e370e443",
   "metadata": {},
   "outputs": [],
   "source": [
    "if not os.path.exists(input_path):\n",
    "    print('Please download the original database into `database_original` folder from https://drive.google.com/drive/folders/1O2MKa5FHsvq3hyjOVSsOZf37xkwKYAJ8 ')"
   ]
  },
  {
   "cell_type": "code",
   "execution_count": 4,
   "id": "f6a330cb-9ab6-4cd3-8183-2b6eac310013",
   "metadata": {},
   "outputs": [
    {
     "name": "stdout",
     "output_type": "stream",
     "text": [
      "['1.PATHOGENIC LIKELY_v07062023', '2.VUS_v01222023', '3.BENIGN_v09012021', '4.EXON 5_v01012020']\n"
     ]
    }
   ],
   "source": [
    "xls = pd.ExcelFile(input_path)\n",
    "sheet_names = xls.sheet_names\n",
    "print(sheet_names)"
   ]
  },
  {
   "cell_type": "code",
   "execution_count": 5,
   "id": "ecc93335-c0f7-4d6f-af60-0a67a8245ea5",
   "metadata": {},
   "outputs": [],
   "source": [
    "pathogenic_sheet_names = [a for a in sheet_names if 'PATHOGENIC' in a] \n",
    "assert len(pathogenic_sheet_names) == 1, 'we expect just one \"PATHOGENIC\" sheet'\n",
    "df_pathogenic = pd.read_excel(xls, pathogenic_sheet_names[0])\n",
    "    \n",
    "vus_sheet_names = [a for a in sheet_names if 'VUS' in a] \n",
    "assert len(vus_sheet_names) == 1, 'we expect just one \"VUS\" sheet'\n",
    "df_vus = pd.read_excel(xls, vus_sheet_names[0])\n",
    "    \n",
    "benign_sheet_names = [a for a in sheet_names if 'BENIGN' in a] \n",
    "assert len(benign_sheet_names) == 1, 'we expect just one \"BENIGN\" sheet'\n",
    "df_benign = pd.read_excel(xls, benign_sheet_names[0])\n",
    "    \n",
    "exon5_sheet_names = [a for a in sheet_names if 'EXON 5' in a] \n",
    "assert len(exon5_sheet_names) == 1, 'we expect just one \"EXON 5\" sheet'\n",
    "df_exon5 = pd.read_excel(xls, exon5_sheet_names[0])    "
   ]
  },
  {
   "cell_type": "code",
   "execution_count": 6,
   "id": "021f8a54-4232-4eff-80a0-cefb35937ac3",
   "metadata": {},
   "outputs": [
    {
     "name": "stdout",
     "output_type": "stream",
     "text": [
      "(406, 16)\n"
     ]
    },
    {
     "data": {
      "text/html": [
       "<div>\n",
       "<style scoped>\n",
       "    .dataframe tbody tr th:only-of-type {\n",
       "        vertical-align: middle;\n",
       "    }\n",
       "\n",
       "    .dataframe tbody tr th {\n",
       "        vertical-align: top;\n",
       "    }\n",
       "\n",
       "    .dataframe thead th {\n",
       "        text-align: right;\n",
       "    }\n",
       "</style>\n",
       "<table border=\"1\" class=\"dataframe\">\n",
       "  <thead>\n",
       "    <tr style=\"text-align: right;\">\n",
       "      <th></th>\n",
       "      <th>Location</th>\n",
       "      <th>Location in  Genome release  37 (hg19)</th>\n",
       "      <th>Location in Genome release  38 (hg38)</th>\n",
       "      <th>Protein Variant Type</th>\n",
       "      <th>Impact of Variant</th>\n",
       "      <th>DNA Modifications</th>\n",
       "      <th>Protein or mRNA variants</th>\n",
       "      <th>Functional outcome (MLCL/CL ratio)</th>\n",
       "      <th>Taffazin Functional motifs</th>\n",
       "      <th>Method of Validation</th>\n",
       "      <th>References</th>\n",
       "      <th>Source</th>\n",
       "      <th>Additional variants in other genes</th>\n",
       "      <th>Location and Order of Discovery</th>\n",
       "      <th>Notes</th>\n",
       "      <th>Unnamed: 15</th>\n",
       "    </tr>\n",
       "  </thead>\n",
       "  <tbody>\n",
       "    <tr>\n",
       "      <th>0</th>\n",
       "      <td>Exon 1</td>\n",
       "      <td>X:153640189</td>\n",
       "      <td>X:154411852</td>\n",
       "      <td>Frameshift</td>\n",
       "      <td>NaN</td>\n",
       "      <td>c.9_10dupG</td>\n",
       "      <td>p.His4Alafs*130</td>\n",
       "      <td>MLCL/CL elevated</td>\n",
       "      <td>NaN</td>\n",
       "      <td>NaN</td>\n",
       "      <td>Ref. 1 (Pat.1); Ref. 80;  Ref. 113</td>\n",
       "      <td>NaN</td>\n",
       "      <td>NaN</td>\n",
       "      <td>1-1</td>\n",
       "      <td>NaN</td>\n",
       "      <td>NaN</td>\n",
       "    </tr>\n",
       "    <tr>\n",
       "      <th>1</th>\n",
       "      <td>Exon 1</td>\n",
       "      <td>X:153640197 - 153640198</td>\n",
       "      <td>X: 154411860 - 154411861</td>\n",
       "      <td>Frameshift</td>\n",
       "      <td>NaN</td>\n",
       "      <td>c.18_22dup</td>\n",
       "      <td>p.Pro8fs*</td>\n",
       "      <td>NaN</td>\n",
       "      <td>NaN</td>\n",
       "      <td>NaN</td>\n",
       "      <td>Ref. 140;  Ref.83</td>\n",
       "      <td>ClinVar</td>\n",
       "      <td>NaN</td>\n",
       "      <td>1-12</td>\n",
       "      <td>NaN</td>\n",
       "      <td>NaN</td>\n",
       "    </tr>\n",
       "    <tr>\n",
       "      <th>2</th>\n",
       "      <td>Exon 1</td>\n",
       "      <td>X:153640219_241</td>\n",
       "      <td>X:154411882_904</td>\n",
       "      <td>Frameshift</td>\n",
       "      <td>NaN</td>\n",
       "      <td>c.39_60del22</td>\n",
       "      <td>p.Pro14Alafs*19</td>\n",
       "      <td>MLCL/CL elevated</td>\n",
       "      <td>NaN</td>\n",
       "      <td>NaN</td>\n",
       "      <td>Ref. 95 (Pat. 1)</td>\n",
       "      <td>NaN</td>\n",
       "      <td>Mitochondrial: m.1555A&gt;G in 12S rRNA, homoplasmic</td>\n",
       "      <td>1-11</td>\n",
       "      <td>NaN</td>\n",
       "      <td>NaN</td>\n",
       "    </tr>\n",
       "  </tbody>\n",
       "</table>\n",
       "</div>"
      ],
      "text/plain": [
       "  Location Location in  Genome release  37 (hg19)  \\\n",
       "0   Exon 1                            X:153640189   \n",
       "1   Exon 1                X:153640197 - 153640198   \n",
       "2   Exon 1                        X:153640219_241   \n",
       "\n",
       "  Location in Genome release  38 (hg38) Protein Variant Type  \\\n",
       "0                           X:154411852           Frameshift   \n",
       "1              X: 154411860 - 154411861           Frameshift   \n",
       "2                       X:154411882_904           Frameshift   \n",
       "\n",
       "  Impact of Variant DNA Modifications Protein or mRNA variants  \\\n",
       "0               NaN        c.9_10dupG          p.His4Alafs*130   \n",
       "1               NaN        c.18_22dup                p.Pro8fs*   \n",
       "2               NaN      c.39_60del22          p.Pro14Alafs*19   \n",
       "\n",
       "   Functional outcome (MLCL/CL ratio)  Taffazin Functional motifs   \\\n",
       "0                    MLCL/CL elevated                          NaN   \n",
       "1                                 NaN                          NaN   \n",
       "2                    MLCL/CL elevated                          NaN   \n",
       "\n",
       "  Method of Validation                          References   Source  \\\n",
       "0                  NaN  Ref. 1 (Pat.1); Ref. 80;  Ref. 113      NaN   \n",
       "1                  NaN                   Ref. 140;  Ref.83  ClinVar   \n",
       "2                  NaN                    Ref. 95 (Pat. 1)      NaN   \n",
       "\n",
       "                  Additional variants in other genes  \\\n",
       "0                                                NaN   \n",
       "1                                                NaN   \n",
       "2  Mitochondrial: m.1555A>G in 12S rRNA, homoplasmic   \n",
       "\n",
       "  Location and Order of Discovery Notes Unnamed: 15  \n",
       "0                             1-1   NaN         NaN  \n",
       "1                            1-12   NaN         NaN  \n",
       "2                            1-11   NaN         NaN  "
      ]
     },
     "execution_count": 6,
     "metadata": {},
     "output_type": "execute_result"
    }
   ],
   "source": [
    "print(df_pathogenic.shape)\n",
    "df_pathogenic.head(3)"
   ]
  },
  {
   "cell_type": "code",
   "execution_count": 7,
   "id": "ce543a4b-5061-4391-9148-1b475a2ec550",
   "metadata": {},
   "outputs": [
    {
     "name": "stdout",
     "output_type": "stream",
     "text": [
      "(126, 12)\n"
     ]
    },
    {
     "data": {
      "text/html": [
       "<div>\n",
       "<style scoped>\n",
       "    .dataframe tbody tr th:only-of-type {\n",
       "        vertical-align: middle;\n",
       "    }\n",
       "\n",
       "    .dataframe tbody tr th {\n",
       "        vertical-align: top;\n",
       "    }\n",
       "\n",
       "    .dataframe thead th {\n",
       "        text-align: right;\n",
       "    }\n",
       "</style>\n",
       "<table border=\"1\" class=\"dataframe\">\n",
       "  <thead>\n",
       "    <tr style=\"text-align: right;\">\n",
       "      <th></th>\n",
       "      <th>Location</th>\n",
       "      <th>Location in  Genome release 37 (hg19)</th>\n",
       "      <th>Location in Genome release 38 (hg38)</th>\n",
       "      <th>DNA Modifications</th>\n",
       "      <th>Protein or mRNA Variants</th>\n",
       "      <th>References &amp; population frequency</th>\n",
       "      <th>Source</th>\n",
       "      <th>SIFT prediction</th>\n",
       "      <th>PolyPhen2 prediction</th>\n",
       "      <th>Amino acid conservation &amp; comments</th>\n",
       "      <th>Additional variants in other genes</th>\n",
       "      <th>Notes</th>\n",
       "    </tr>\n",
       "  </thead>\n",
       "  <tbody>\n",
       "    <tr>\n",
       "      <th>0</th>\n",
       "      <td>Exon 1</td>\n",
       "      <td>X:153640193</td>\n",
       "      <td>X:154411856</td>\n",
       "      <td>c.13G&gt;T</td>\n",
       "      <td>p.Val5Leu</td>\n",
       "      <td>gnomad exomes; Ashk Jewish female  5/99652</td>\n",
       "      <td>ClinVar; LMM 2011; GeneDX 2017;  Invitae 2020;...</td>\n",
       "      <td>tolerated; 0.14</td>\n",
       "      <td>0.984</td>\n",
       "      <td>Vertebrates 100% Val;  invertebrates have Ile</td>\n",
       "      <td>NaN</td>\n",
       "      <td>NaN</td>\n",
       "    </tr>\n",
       "    <tr>\n",
       "      <th>1</th>\n",
       "      <td>Exon 1</td>\n",
       "      <td>X:153640197_198</td>\n",
       "      <td>X:154411860_861</td>\n",
       "      <td>c.17_18insA</td>\n",
       "      <td>fs*</td>\n",
       "      <td>Ref. 57</td>\n",
       "      <td>NaN</td>\n",
       "      <td>NaN</td>\n",
       "      <td>NaN</td>\n",
       "      <td>NaN</td>\n",
       "      <td>NaN</td>\n",
       "      <td>Not in ClinVar</td>\n",
       "    </tr>\n",
       "    <tr>\n",
       "      <th>2</th>\n",
       "      <td>Exon 1</td>\n",
       "      <td>X:153640207</td>\n",
       "      <td>X:154411870</td>\n",
       "      <td>c.27C&gt;G</td>\n",
       "      <td>p.Phe9Leu</td>\n",
       "      <td>NaN</td>\n",
       "      <td>ClinVar; Invitae 2020; Ambry 2020</td>\n",
       "      <td>deleterious</td>\n",
       "      <td>benign</td>\n",
       "      <td>vertebrates 100%</td>\n",
       "      <td>NaN</td>\n",
       "      <td>Not in ExAC</td>\n",
       "    </tr>\n",
       "  </tbody>\n",
       "</table>\n",
       "</div>"
      ],
      "text/plain": [
       "  Location Location in  Genome release 37 (hg19)  \\\n",
       "0   Exon 1                           X:153640193   \n",
       "1   Exon 1                       X:153640197_198   \n",
       "2   Exon 1                           X:153640207   \n",
       "\n",
       "  Location in Genome release 38 (hg38) DNA Modifications  \\\n",
       "0                          X:154411856           c.13G>T   \n",
       "1                      X:154411860_861       c.17_18insA   \n",
       "2                          X:154411870           c.27C>G   \n",
       "\n",
       "  Protein or mRNA Variants           References & population frequency  \\\n",
       "0                p.Val5Leu  gnomad exomes; Ashk Jewish female  5/99652   \n",
       "1                      fs*                                     Ref. 57   \n",
       "2                p.Phe9Leu                                         NaN   \n",
       "\n",
       "                                              Source  SIFT prediction  \\\n",
       "0  ClinVar; LMM 2011; GeneDX 2017;  Invitae 2020;...  tolerated; 0.14   \n",
       "1                                                NaN              NaN   \n",
       "2                  ClinVar; Invitae 2020; Ambry 2020      deleterious   \n",
       "\n",
       "  PolyPhen2 prediction             Amino acid conservation & comments  \\\n",
       "0                0.984  Vertebrates 100% Val;  invertebrates have Ile   \n",
       "1                  NaN                                            NaN   \n",
       "2               benign                               vertebrates 100%   \n",
       "\n",
       "  Additional variants in other genes           Notes  \n",
       "0                                NaN             NaN  \n",
       "1                                NaN  Not in ClinVar  \n",
       "2                                NaN     Not in ExAC  "
      ]
     },
     "execution_count": 7,
     "metadata": {},
     "output_type": "execute_result"
    }
   ],
   "source": [
    "print(df_vus.shape)\n",
    "df_vus.head(3)"
   ]
  },
  {
   "cell_type": "code",
   "execution_count": 8,
   "id": "63526888-dcf5-4c62-82bb-b3facb9cd676",
   "metadata": {},
   "outputs": [
    {
     "name": "stdout",
     "output_type": "stream",
     "text": [
      "(178, 13)\n"
     ]
    },
    {
     "data": {
      "text/html": [
       "<div>\n",
       "<style scoped>\n",
       "    .dataframe tbody tr th:only-of-type {\n",
       "        vertical-align: middle;\n",
       "    }\n",
       "\n",
       "    .dataframe tbody tr th {\n",
       "        vertical-align: top;\n",
       "    }\n",
       "\n",
       "    .dataframe thead th {\n",
       "        text-align: right;\n",
       "    }\n",
       "</style>\n",
       "<table border=\"1\" class=\"dataframe\">\n",
       "  <thead>\n",
       "    <tr style=\"text-align: right;\">\n",
       "      <th></th>\n",
       "      <th>Location</th>\n",
       "      <th>Location in  Genome release 37 (hg19)</th>\n",
       "      <th>Location in Genome release 38 (hg38)</th>\n",
       "      <th>DNA Modifications</th>\n",
       "      <th>Protein or mRNA Variants</th>\n",
       "      <th>References &amp; population frequency</th>\n",
       "      <th>Source</th>\n",
       "      <th>Amino acid conservation &amp; comments</th>\n",
       "      <th>SIFT prediction</th>\n",
       "      <th>PolyPhen2 prediction</th>\n",
       "      <th>Splicing prediction</th>\n",
       "      <th>Additional variants in other genes</th>\n",
       "      <th>Notes</th>\n",
       "    </tr>\n",
       "  </thead>\n",
       "  <tbody>\n",
       "    <tr>\n",
       "      <th>0</th>\n",
       "      <td>5'UTR</td>\n",
       "      <td>X:153640060-153640061</td>\n",
       "      <td>X:154411724-154411725</td>\n",
       "      <td>c.-119 (or '-121_-119) insert/del T</td>\n",
       "      <td>NaN</td>\n",
       "      <td>ExAC 5786/6746 alleles; 3249 homozy; 1111 hemizy</td>\n",
       "      <td>ClinVar</td>\n",
       "      <td>NaN</td>\n",
       "      <td>NaN</td>\n",
       "      <td>NaN</td>\n",
       "      <td>NaN</td>\n",
       "      <td>NaN</td>\n",
       "      <td>Benign</td>\n",
       "    </tr>\n",
       "    <tr>\n",
       "      <th>1</th>\n",
       "      <td>5'UTR</td>\n",
       "      <td>X:153640093</td>\n",
       "      <td>X:154411756</td>\n",
       "      <td>c.-88G &gt; C</td>\n",
       "      <td>NaN</td>\n",
       "      <td>ExAC 28/6688; 13 hemizyg; Ref. 4; Ref. 14</td>\n",
       "      <td>ClinVar Jun 2016</td>\n",
       "      <td>NaN</td>\n",
       "      <td>NaN</td>\n",
       "      <td>NaN</td>\n",
       "      <td>NaN</td>\n",
       "      <td>NaN</td>\n",
       "      <td>NaN</td>\n",
       "    </tr>\n",
       "    <tr>\n",
       "      <th>2</th>\n",
       "      <td>5'UTR</td>\n",
       "      <td>X:153640097</td>\n",
       "      <td>X:154411760</td>\n",
       "      <td>c.-84C&gt;G</td>\n",
       "      <td>NaN</td>\n",
       "      <td>NaN</td>\n",
       "      <td>NaN</td>\n",
       "      <td>NaN</td>\n",
       "      <td>NaN</td>\n",
       "      <td>NaN</td>\n",
       "      <td>NaN</td>\n",
       "      <td>NaN</td>\n",
       "      <td>NaN</td>\n",
       "    </tr>\n",
       "  </tbody>\n",
       "</table>\n",
       "</div>"
      ],
      "text/plain": [
       "  Location Location in  Genome release 37 (hg19)  \\\n",
       "0    5'UTR                 X:153640060-153640061   \n",
       "1    5'UTR                           X:153640093   \n",
       "2    5'UTR                          X:153640097    \n",
       "\n",
       "  Location in Genome release 38 (hg38)                    DNA Modifications  \\\n",
       "0                X:154411724-154411725  c.-119 (or '-121_-119) insert/del T   \n",
       "1                          X:154411756                           c.-88G > C   \n",
       "2                          X:154411760                             c.-84C>G   \n",
       "\n",
       "  Protein or mRNA Variants                 References & population frequency  \\\n",
       "0                      NaN  ExAC 5786/6746 alleles; 3249 homozy; 1111 hemizy   \n",
       "1                      NaN         ExAC 28/6688; 13 hemizyg; Ref. 4; Ref. 14   \n",
       "2                      NaN                                               NaN   \n",
       "\n",
       "             Source Amino acid conservation & comments SIFT prediction  \\\n",
       "0           ClinVar                                NaN             NaN   \n",
       "1  ClinVar Jun 2016                                NaN             NaN   \n",
       "2               NaN                                NaN             NaN   \n",
       "\n",
       "  PolyPhen2 prediction Splicing prediction Additional variants in other genes  \\\n",
       "0                  NaN                 NaN                                NaN   \n",
       "1                  NaN                 NaN                                NaN   \n",
       "2                  NaN                 NaN                                NaN   \n",
       "\n",
       "    Notes  \n",
       "0  Benign  \n",
       "1     NaN  \n",
       "2     NaN  "
      ]
     },
     "execution_count": 8,
     "metadata": {},
     "output_type": "execute_result"
    }
   ],
   "source": [
    "print(df_benign.shape)\n",
    "df_benign.head(3)"
   ]
  },
  {
   "cell_type": "code",
   "execution_count": 9,
   "id": "c34cfb4b-f0bc-4cd7-92bf-fb10b3bb7872",
   "metadata": {},
   "outputs": [
    {
     "name": "stdout",
     "output_type": "stream",
     "text": [
      "(11, 13)\n"
     ]
    },
    {
     "data": {
      "text/html": [
       "<div>\n",
       "<style scoped>\n",
       "    .dataframe tbody tr th:only-of-type {\n",
       "        vertical-align: middle;\n",
       "    }\n",
       "\n",
       "    .dataframe tbody tr th {\n",
       "        vertical-align: top;\n",
       "    }\n",
       "\n",
       "    .dataframe thead th {\n",
       "        text-align: right;\n",
       "    }\n",
       "</style>\n",
       "<table border=\"1\" class=\"dataframe\">\n",
       "  <thead>\n",
       "    <tr style=\"text-align: right;\">\n",
       "      <th></th>\n",
       "      <th>Location</th>\n",
       "      <th>Classification</th>\n",
       "      <th>Genome Assembly Release 37</th>\n",
       "      <th>Genome Assembly Release 38</th>\n",
       "      <th>DNA Modifications</th>\n",
       "      <th>Protein or mRNA Variants</th>\n",
       "      <th>References &amp; population frequency</th>\n",
       "      <th>Source</th>\n",
       "      <th>Amino acid conservation &amp; comments</th>\n",
       "      <th>SIFT prediction</th>\n",
       "      <th>PolyPhen2 prediction</th>\n",
       "      <th>Splicing Prediction</th>\n",
       "      <th>Notes</th>\n",
       "    </tr>\n",
       "  </thead>\n",
       "  <tbody>\n",
       "    <tr>\n",
       "      <th>0</th>\n",
       "      <td>Exon 5</td>\n",
       "      <td>VUS</td>\n",
       "      <td>X:153642485</td>\n",
       "      <td>X:154414148_52</td>\n",
       "      <td>c.418_422del ACAGGinsA</td>\n",
       "      <td>p.Arg142ThrfsX41</td>\n",
       "      <td>ExAC 1/79840; 1 hemizyg (LOW CONFIDENCE)</td>\n",
       "      <td>NaN</td>\n",
       "      <td>NaN</td>\n",
       "      <td>NaN</td>\n",
       "      <td>NaN</td>\n",
       "      <td>NaN</td>\n",
       "      <td>Not in ClinVar</td>\n",
       "    </tr>\n",
       "    <tr>\n",
       "      <th>1</th>\n",
       "      <td>Exon 5</td>\n",
       "      <td>VUS</td>\n",
       "      <td>X:153642486</td>\n",
       "      <td>X:154414149</td>\n",
       "      <td>c.419C&gt;T</td>\n",
       "      <td>p.Thr140Ile</td>\n",
       "      <td>Ref. 83</td>\n",
       "      <td>ClinVar Jan 2014</td>\n",
       "      <td>Not all primates</td>\n",
       "      <td>Tolerated; 0.36</td>\n",
       "      <td>0.0</td>\n",
       "      <td>Acceptor much reduced; donor small reduction</td>\n",
       "      <td>VUS; not in ExAC</td>\n",
       "    </tr>\n",
       "    <tr>\n",
       "      <th>2</th>\n",
       "      <td>Exon 5</td>\n",
       "      <td>VUS</td>\n",
       "      <td>X:153642492_95</td>\n",
       "      <td>X:154414155_58</td>\n",
       "      <td>c.425_428delGGCA  or  c.419_422delCAGG</td>\n",
       "      <td>p.Arg142ThrfsX41</td>\n",
       "      <td>Ref. 83</td>\n",
       "      <td>ClinVar Feb 2017</td>\n",
       "      <td>Should only manifest in FL variant</td>\n",
       "      <td>NaN</td>\n",
       "      <td>NaN</td>\n",
       "      <td>NaN</td>\n",
       "      <td>Likely path. Var ID 423852; Not in ExAC</td>\n",
       "    </tr>\n",
       "  </tbody>\n",
       "</table>\n",
       "</div>"
      ],
      "text/plain": [
       "  Location Classification Genome Assembly Release 37  \\\n",
       "0   Exon 5            VUS                X:153642485   \n",
       "1   Exon 5            VUS                X:153642486   \n",
       "2   Exon 5            VUS           X:153642492_95     \n",
       "\n",
       "  Genome Assembly Release 38                       DNA Modifications  \\\n",
       "0             X:154414148_52                  c.418_422del ACAGGinsA   \n",
       "1                X:154414149                                c.419C>T   \n",
       "2             X:154414155_58  c.425_428delGGCA  or  c.419_422delCAGG   \n",
       "\n",
       "  Protein or mRNA Variants         References & population frequency  \\\n",
       "0         p.Arg142ThrfsX41  ExAC 1/79840; 1 hemizyg (LOW CONFIDENCE)   \n",
       "1              p.Thr140Ile                                   Ref. 83   \n",
       "2         p.Arg142ThrfsX41                                   Ref. 83   \n",
       "\n",
       "             Source  Amino acid conservation & comments  SIFT prediction  \\\n",
       "0               NaN                                 NaN              NaN   \n",
       "1  ClinVar Jan 2014                    Not all primates  Tolerated; 0.36   \n",
       "2  ClinVar Feb 2017  Should only manifest in FL variant              NaN   \n",
       "\n",
       "   PolyPhen2 prediction                           Splicing Prediction  \\\n",
       "0                   NaN                                           NaN   \n",
       "1                   0.0  Acceptor much reduced; donor small reduction   \n",
       "2                   NaN                                           NaN   \n",
       "\n",
       "                                     Notes  \n",
       "0                           Not in ClinVar  \n",
       "1                         VUS; not in ExAC  \n",
       "2  Likely path. Var ID 423852; Not in ExAC  "
      ]
     },
     "execution_count": 9,
     "metadata": {},
     "output_type": "execute_result"
    }
   ],
   "source": [
    "print(df_exon5.shape)\n",
    "df_exon5.head(3)"
   ]
  },
  {
   "cell_type": "markdown",
   "id": "bcc4e214-448a-4b3d-9566-9f926715d918",
   "metadata": {},
   "source": [
    "# Inspect column names"
   ]
  },
  {
   "cell_type": "code",
   "execution_count": 10,
   "id": "66791300-5a11-46bd-af41-a98a2dad68f0",
   "metadata": {},
   "outputs": [],
   "source": [
    "columns_all = list(df_pathogenic.columns) + list(df_benign.columns) + \\\n",
    "            list(df_vus.columns) + list(df_exon5.columns)"
   ]
  },
  {
   "cell_type": "code",
   "execution_count": 11,
   "id": "82f3f609-cd9f-4c26-bb06-9bfbfd68ab99",
   "metadata": {},
   "outputs": [],
   "source": [
    "columns_not_in_all = [x for x in set(columns_all) if columns_all.count(x) != 4]"
   ]
  },
  {
   "cell_type": "code",
   "execution_count": 12,
   "id": "74b04f42-4b36-4b86-bcad-97b5b81d9bf7",
   "metadata": {},
   "outputs": [
    {
     "name": "stdout",
     "output_type": "stream",
     "text": [
      "Column names, which are not present in all 4 sheets:\n"
     ]
    },
    {
     "data": {
      "text/plain": [
       "[' Functional outcome (MLCL/CL ratio)',\n",
       " 'Additional variants in other genes',\n",
       " 'Amino acid conservation & comments',\n",
       " 'Classification',\n",
       " 'Genome Assembly Release 37',\n",
       " 'Genome Assembly Release 38',\n",
       " 'Impact of Variant',\n",
       " 'Location and Order of Discovery',\n",
       " 'Location in  Genome release  37 (hg19)',\n",
       " 'Location in  Genome release 37 (hg19)',\n",
       " 'Location in Genome release  38 (hg38)',\n",
       " 'Location in Genome release 38 (hg38)',\n",
       " 'Method of Validation',\n",
       " 'PolyPhen2 prediction',\n",
       " 'Protein Variant Type',\n",
       " 'Protein or mRNA Variants',\n",
       " 'Protein or mRNA variants',\n",
       " 'References',\n",
       " 'References & population frequency',\n",
       " 'SIFT prediction',\n",
       " 'Splicing Prediction',\n",
       " 'Splicing prediction',\n",
       " 'Taffazin Functional motifs ',\n",
       " 'Unnamed: 15']"
      ]
     },
     "execution_count": 12,
     "metadata": {},
     "output_type": "execute_result"
    }
   ],
   "source": [
    "print('Column names, which are not present in all 4 sheets:')\n",
    "sorted(columns_not_in_all)"
   ]
  },
  {
   "cell_type": "markdown",
   "id": "4da7f5bd-e613-43f5-bfca-7274543c7697",
   "metadata": {},
   "source": [
    "### Column names missing in some sheets, but seem to be OK:\n",
    "\n",
    "--> no action needed"
   ]
  },
  {
   "cell_type": "code",
   "execution_count": 13,
   "id": "327b3a2b-58ac-496f-8429-f05cc950001b",
   "metadata": {},
   "outputs": [],
   "source": [
    "columns_missing_seem_ok = ['Functional outcome (MLCL/CL ratio)', # only in df_pathogenic\n",
    "    'Additional variants in other genes', # not in exon5\n",
    "    'Amino acid conservation & comments', # not in df_pathogenic\n",
    "    'Classification', # only in exon5\n",
    "    'Impact of Variant', # only in df_pathogenic\n",
    "    'Location and Order of Discovery', # only in df_pathogenic\n",
    "    'Method of Validation'] # only in df_pathogenic"
   ]
  },
  {
   "cell_type": "code",
   "execution_count": 14,
   "id": "917a2c53-b349-4917-93bb-a7c44fc86ea6",
   "metadata": {},
   "outputs": [
    {
     "data": {
      "text/plain": [
       "24"
      ]
     },
     "execution_count": 14,
     "metadata": {},
     "output_type": "execute_result"
    }
   ],
   "source": [
    "len(columns_not_in_all)"
   ]
  },
  {
   "cell_type": "code",
   "execution_count": 15,
   "id": "e68b8f8e-3ca8-4d08-a5cb-0cc910e040f4",
   "metadata": {},
   "outputs": [],
   "source": [
    "columns_not_in_all = [x for x in columns_not_in_all if x not in columns_missing_seem_ok]"
   ]
  },
  {
   "cell_type": "code",
   "execution_count": 16,
   "id": "7b86468a-f531-452f-a12f-9f6e2e089593",
   "metadata": {},
   "outputs": [
    {
     "data": {
      "text/plain": [
       "18"
      ]
     },
     "execution_count": 16,
     "metadata": {},
     "output_type": "execute_result"
    }
   ],
   "source": [
    "len(columns_not_in_all)"
   ]
  },
  {
   "cell_type": "markdown",
   "id": "21ff9456-a4fe-49bc-ad15-b9ff542d1721",
   "metadata": {},
   "source": [
    "### Column names are missing, but column renaming is not enough, more parsing will be needed:\n",
    "\n",
    "--> work left to be done in next notebooks TODO"
   ]
  },
  {
   "cell_type": "code",
   "execution_count": 17,
   "id": "d0db61d2-1ca1-4a7c-b3f9-e6310726f2d1",
   "metadata": {},
   "outputs": [],
   "source": [
    "columns_missing_more_parsing_needed = ['PolyPhen2 prediction', # column not in df_pathogenic, but this info can be extracted from 'Method of Validation'\n",
    "    'SIFT prediction', # column not in df_pathogenic, but this info can be extracted from 'Method of Validation'\n",
    "    'Protein Variant Type', # only in df_pathogenic, should be added also to other sheets\n",
    "    'References', # only in df_pathogenic, should be made consistent with other sheets, where similar column contains population frequency, see below\n",
    "    'References & population frequency'] # not in df_pathogenic, see above"
   ]
  },
  {
   "cell_type": "code",
   "execution_count": 18,
   "id": "bd4551b7-7aad-4517-b10c-85bb4dd2e3f3",
   "metadata": {},
   "outputs": [],
   "source": [
    "columns_not_in_all = [x for x in columns_not_in_all if x not in columns_missing_more_parsing_needed]"
   ]
  },
  {
   "cell_type": "code",
   "execution_count": 19,
   "id": "a6bed57c-ea9d-47dd-b3e0-142d6f6c10ab",
   "metadata": {},
   "outputs": [
    {
     "data": {
      "text/plain": [
       "13"
      ]
     },
     "execution_count": 19,
     "metadata": {},
     "output_type": "execute_result"
    }
   ],
   "source": [
    "len(columns_not_in_all)"
   ]
  },
  {
   "cell_type": "markdown",
   "id": "bc71f0e2-68bc-49dc-8543-6b1ab14adaec",
   "metadata": {},
   "source": [
    "# Rename columns:"
   ]
  },
  {
   "cell_type": "markdown",
   "id": "74b7a365-adcd-4d74-b9f1-59de0f903364",
   "metadata": {},
   "source": [
    "#### ' Functional outcome (MLCL/CL ratio)':\n",
    "\n",
    "reason: typo: space at the beginning"
   ]
  },
  {
   "cell_type": "code",
   "execution_count": 20,
   "id": "e5f80656-9da2-4bfa-b6de-769361bc8e9f",
   "metadata": {},
   "outputs": [],
   "source": [
    "new_col_name = 'Functional outcome (MLCL/CL ratio)'"
   ]
  },
  {
   "cell_type": "code",
   "execution_count": 21,
   "id": "f3ba4d87-bd4d-42c5-b66e-09759566f80d",
   "metadata": {},
   "outputs": [
    {
     "data": {
      "text/plain": [
       "1"
      ]
     },
     "execution_count": 21,
     "metadata": {},
     "output_type": "execute_result"
    }
   ],
   "source": [
    "columns_all.count(' Functional outcome (MLCL/CL ratio)')"
   ]
  },
  {
   "cell_type": "code",
   "execution_count": 22,
   "id": "72bbf80f-d93d-49fb-9d41-7f37a2d513ae",
   "metadata": {},
   "outputs": [
    {
     "data": {
      "text/plain": [
       "True"
      ]
     },
     "execution_count": 22,
     "metadata": {},
     "output_type": "execute_result"
    }
   ],
   "source": [
    "' Functional outcome (MLCL/CL ratio)'in df_pathogenic"
   ]
  },
  {
   "cell_type": "code",
   "execution_count": 23,
   "id": "4969b16a-9139-4bfe-b67f-c471eaa3a3ce",
   "metadata": {},
   "outputs": [],
   "source": [
    "df_pathogenic.rename(columns={' Functional outcome (MLCL/CL ratio)': new_col_name.strip()}, inplace=True)"
   ]
  },
  {
   "cell_type": "code",
   "execution_count": 24,
   "id": "04e0abd1-9564-4b4e-9992-90419da0a0fd",
   "metadata": {},
   "outputs": [],
   "source": [
    "assert new_col_name in df_pathogenic.columns"
   ]
  },
  {
   "cell_type": "code",
   "execution_count": 25,
   "id": "1e79a01f-89b0-4cae-a204-dcd5325ffc05",
   "metadata": {},
   "outputs": [],
   "source": [
    "columns_not_in_all.remove(' Functional outcome (MLCL/CL ratio)')"
   ]
  },
  {
   "cell_type": "code",
   "execution_count": 26,
   "id": "108037ae-7bb8-4467-be84-35282a2c3b14",
   "metadata": {},
   "outputs": [
    {
     "data": {
      "text/plain": [
       "12"
      ]
     },
     "execution_count": 26,
     "metadata": {},
     "output_type": "execute_result"
    }
   ],
   "source": [
    "len(columns_not_in_all)"
   ]
  },
  {
   "cell_type": "markdown",
   "id": "720977b8-7d06-4cb2-ba25-d32e8ade764e",
   "metadata": {},
   "source": [
    "#### 'Genome Assembly Release 37'\n",
    "#### 'Location in  Genome release  37 (hg19)'\n",
    "#### 'Location in  Genome release 37 (hg19)'\n",
    "\n",
    "reason: typo: names inconsistent, spaces in names"
   ]
  },
  {
   "cell_type": "code",
   "execution_count": 27,
   "id": "d815f0de-bd20-4768-9f94-7da4993bc5c6",
   "metadata": {},
   "outputs": [],
   "source": [
    "new_col_name = 'Location in Genome release 37 (hg19)' # new name with fixed spaces"
   ]
  },
  {
   "cell_type": "code",
   "execution_count": 28,
   "id": "10234a41-9fdc-42b8-9064-37b361a20532",
   "metadata": {},
   "outputs": [
    {
     "data": {
      "text/plain": [
       "1"
      ]
     },
     "execution_count": 28,
     "metadata": {},
     "output_type": "execute_result"
    }
   ],
   "source": [
    "columns_all.count('Genome Assembly Release 37')"
   ]
  },
  {
   "cell_type": "code",
   "execution_count": 29,
   "id": "1840f825-7696-4a26-9fc3-b7cee5538655",
   "metadata": {},
   "outputs": [
    {
     "data": {
      "text/plain": [
       "True"
      ]
     },
     "execution_count": 29,
     "metadata": {},
     "output_type": "execute_result"
    }
   ],
   "source": [
    "'Genome Assembly Release 37' in df_exon5"
   ]
  },
  {
   "cell_type": "code",
   "execution_count": 30,
   "id": "47162b47-0662-45bc-a481-a57ea2cc1cbf",
   "metadata": {},
   "outputs": [],
   "source": [
    "df_exon5.rename(\n",
    "    columns={'Genome Assembly Release 37': new_col_name}, inplace=True)"
   ]
  },
  {
   "cell_type": "code",
   "execution_count": 31,
   "id": "6352ac2d-407b-4066-9566-bd52613be8d2",
   "metadata": {},
   "outputs": [
    {
     "data": {
      "text/plain": [
       "1"
      ]
     },
     "execution_count": 31,
     "metadata": {},
     "output_type": "execute_result"
    }
   ],
   "source": [
    "columns_all.count('Location in  Genome release  37 (hg19)')"
   ]
  },
  {
   "cell_type": "code",
   "execution_count": 32,
   "id": "7d6c64c1-1c33-44e0-be82-640a4e1ea928",
   "metadata": {},
   "outputs": [],
   "source": [
    "df_pathogenic.rename(\n",
    "    columns={'Location in  Genome release  37 (hg19)': new_col_name}, inplace=True)"
   ]
  },
  {
   "cell_type": "code",
   "execution_count": 33,
   "id": "16d1776a-f6ca-4f54-85a5-616d2edc7c0d",
   "metadata": {},
   "outputs": [
    {
     "data": {
      "text/plain": [
       "2"
      ]
     },
     "execution_count": 33,
     "metadata": {},
     "output_type": "execute_result"
    }
   ],
   "source": [
    "columns_all.count('Location in  Genome release 37 (hg19)')"
   ]
  },
  {
   "cell_type": "code",
   "execution_count": 34,
   "id": "1bc1e1a8-d49b-4a08-8be7-963f159f9a63",
   "metadata": {},
   "outputs": [
    {
     "data": {
      "text/plain": [
       "True"
      ]
     },
     "execution_count": 34,
     "metadata": {},
     "output_type": "execute_result"
    }
   ],
   "source": [
    "'Location in  Genome release 37 (hg19)' in df_vus"
   ]
  },
  {
   "cell_type": "code",
   "execution_count": 35,
   "id": "5730e7b9-e299-4777-ac7d-d09a1a624f2c",
   "metadata": {},
   "outputs": [
    {
     "data": {
      "text/plain": [
       "True"
      ]
     },
     "execution_count": 35,
     "metadata": {},
     "output_type": "execute_result"
    }
   ],
   "source": [
    "'Location in  Genome release 37 (hg19)' in df_benign"
   ]
  },
  {
   "cell_type": "code",
   "execution_count": 36,
   "id": "25637c2b-98d9-4c5d-bb90-34696908338c",
   "metadata": {},
   "outputs": [],
   "source": [
    "df_benign.rename(columns={\n",
    "    'Location in  Genome release 37 (hg19)': new_col_name}, inplace=True)"
   ]
  },
  {
   "cell_type": "code",
   "execution_count": 37,
   "id": "a3708b1a-6b5c-4414-94ce-ea13cc7a9326",
   "metadata": {},
   "outputs": [],
   "source": [
    "df_vus.rename(\n",
    "    columns={'Location in  Genome release 37 (hg19)': new_col_name}, inplace=True)"
   ]
  },
  {
   "cell_type": "code",
   "execution_count": 38,
   "id": "3c18ee2a-bce5-4e89-be2e-c99ded73631e",
   "metadata": {},
   "outputs": [],
   "source": [
    "assert new_col_name in df_exon5"
   ]
  },
  {
   "cell_type": "code",
   "execution_count": 39,
   "id": "0be5f992-ff89-4615-8353-3aa49832d3ab",
   "metadata": {},
   "outputs": [],
   "source": [
    "assert new_col_name in df_pathogenic"
   ]
  },
  {
   "cell_type": "code",
   "execution_count": 40,
   "id": "c625eeab-8842-400e-a7cf-4d060c2ebd34",
   "metadata": {},
   "outputs": [],
   "source": [
    "assert new_col_name in df_benign.columns"
   ]
  },
  {
   "cell_type": "code",
   "execution_count": 41,
   "id": "bf6364b5-663c-4dfc-8926-9e20ac3f8f6d",
   "metadata": {},
   "outputs": [],
   "source": [
    "assert new_col_name in df_vus.columns"
   ]
  },
  {
   "cell_type": "code",
   "execution_count": 42,
   "id": "df057c83-4925-4b02-9111-881ea9df2806",
   "metadata": {},
   "outputs": [],
   "source": [
    "columns_not_in_all.remove('Genome Assembly Release 37')"
   ]
  },
  {
   "cell_type": "code",
   "execution_count": 43,
   "id": "dd692cba-012f-48b9-9771-bb344a989eb2",
   "metadata": {},
   "outputs": [],
   "source": [
    "columns_not_in_all.remove('Location in  Genome release  37 (hg19)')"
   ]
  },
  {
   "cell_type": "code",
   "execution_count": 44,
   "id": "f19ff0ac-9383-474c-8742-0ee04fad9215",
   "metadata": {},
   "outputs": [],
   "source": [
    "columns_not_in_all.remove('Location in  Genome release 37 (hg19)')"
   ]
  },
  {
   "cell_type": "code",
   "execution_count": 45,
   "id": "6a16d034-4d35-4f04-b9f2-77bc21d06a45",
   "metadata": {},
   "outputs": [
    {
     "data": {
      "text/plain": [
       "9"
      ]
     },
     "execution_count": 45,
     "metadata": {},
     "output_type": "execute_result"
    }
   ],
   "source": [
    "len(columns_not_in_all)"
   ]
  },
  {
   "cell_type": "markdown",
   "id": "2ce6fc88-cc94-4947-91de-f26b8e325280",
   "metadata": {},
   "source": [
    "#### 'Genome Assembly Release 38'\n",
    "#### 'Location in Genome release  38 (hg38)',\n",
    "#### 'Location in Genome release 38 (hg38)'\n",
    "\n",
    "reason: typo: names inconsistent, spaces in names"
   ]
  },
  {
   "cell_type": "code",
   "execution_count": 46,
   "id": "2a57f3e4-c630-4747-9413-179955d57232",
   "metadata": {},
   "outputs": [],
   "source": [
    "new_col_name = 'Location in Genome release 38 (hg38)'"
   ]
  },
  {
   "cell_type": "code",
   "execution_count": 47,
   "id": "58d26f57-d104-489a-a7b5-b666ff313f11",
   "metadata": {},
   "outputs": [
    {
     "data": {
      "text/plain": [
       "1"
      ]
     },
     "execution_count": 47,
     "metadata": {},
     "output_type": "execute_result"
    }
   ],
   "source": [
    "columns_all.count('Genome Assembly Release 38')"
   ]
  },
  {
   "cell_type": "code",
   "execution_count": 48,
   "id": "e5c9daf0-0643-4224-9470-9ad2798cb491",
   "metadata": {},
   "outputs": [
    {
     "data": {
      "text/plain": [
       "True"
      ]
     },
     "execution_count": 48,
     "metadata": {},
     "output_type": "execute_result"
    }
   ],
   "source": [
    "'Genome Assembly Release 38' in df_exon5"
   ]
  },
  {
   "cell_type": "code",
   "execution_count": 49,
   "id": "30552863-189f-46a8-a65b-74e85bc583e9",
   "metadata": {},
   "outputs": [],
   "source": [
    "df_exon5.rename(\n",
    "    columns={'Genome Assembly Release 38': new_col_name}, inplace=True)"
   ]
  },
  {
   "cell_type": "code",
   "execution_count": 50,
   "id": "bc9e88fa-3513-43c9-8c13-78e70821100f",
   "metadata": {},
   "outputs": [
    {
     "data": {
      "text/plain": [
       "1"
      ]
     },
     "execution_count": 50,
     "metadata": {},
     "output_type": "execute_result"
    }
   ],
   "source": [
    "columns_all.count('Location in Genome release  38 (hg38)')"
   ]
  },
  {
   "cell_type": "code",
   "execution_count": 51,
   "id": "b68be31c-a7dd-489c-af69-cc3901280702",
   "metadata": {},
   "outputs": [
    {
     "data": {
      "text/plain": [
       "True"
      ]
     },
     "execution_count": 51,
     "metadata": {},
     "output_type": "execute_result"
    }
   ],
   "source": [
    "'Location in Genome release  38 (hg38)' in df_pathogenic"
   ]
  },
  {
   "cell_type": "code",
   "execution_count": 52,
   "id": "2689d8f3-50d0-489b-b977-c13a327a1925",
   "metadata": {},
   "outputs": [],
   "source": [
    "df_pathogenic.rename(\n",
    "    columns={'Location in Genome release  38 (hg38)': new_col_name}, inplace=True)"
   ]
  },
  {
   "cell_type": "code",
   "execution_count": 53,
   "id": "aff40199-1ed3-4802-a3d7-e5effa329fca",
   "metadata": {},
   "outputs": [],
   "source": [
    "assert new_col_name in df_exon5"
   ]
  },
  {
   "cell_type": "code",
   "execution_count": 54,
   "id": "e4076cbd-089e-47d8-9e1a-2858c1fb0c85",
   "metadata": {},
   "outputs": [],
   "source": [
    "assert new_col_name in df_pathogenic"
   ]
  },
  {
   "cell_type": "code",
   "execution_count": 55,
   "id": "a9f5b2c2-8865-4c23-9a46-16abfacb3b5a",
   "metadata": {},
   "outputs": [],
   "source": [
    "assert new_col_name in df_benign"
   ]
  },
  {
   "cell_type": "code",
   "execution_count": 56,
   "id": "1775fe7d-d917-4fec-83ad-5a7f6b32a623",
   "metadata": {},
   "outputs": [],
   "source": [
    "assert new_col_name in df_vus"
   ]
  },
  {
   "cell_type": "code",
   "execution_count": 57,
   "id": "348cbf6f-a1a4-4dab-8c86-2ce22be85efc",
   "metadata": {},
   "outputs": [],
   "source": [
    "columns_not_in_all.remove('Genome Assembly Release 38')"
   ]
  },
  {
   "cell_type": "code",
   "execution_count": 58,
   "id": "f586db7c-ff8f-4704-8fed-b3318e2a6084",
   "metadata": {},
   "outputs": [],
   "source": [
    "columns_not_in_all.remove('Location in Genome release  38 (hg38)')"
   ]
  },
  {
   "cell_type": "code",
   "execution_count": 59,
   "id": "5b6a5e8b-5bd3-489d-9c75-027cdb772672",
   "metadata": {},
   "outputs": [],
   "source": [
    "columns_not_in_all.remove('Location in Genome release 38 (hg38)')"
   ]
  },
  {
   "cell_type": "code",
   "execution_count": 60,
   "id": "914df3ed-55dc-4c4b-b52d-f928e1541818",
   "metadata": {},
   "outputs": [
    {
     "data": {
      "text/plain": [
       "6"
      ]
     },
     "execution_count": 60,
     "metadata": {},
     "output_type": "execute_result"
    }
   ],
   "source": [
    "len(columns_not_in_all)"
   ]
  },
  {
   "cell_type": "markdown",
   "id": "8474d308-f3ff-40e3-8993-b83a9aad44f5",
   "metadata": {},
   "source": [
    "#### 'Protein or mRNA Variants',\n",
    "#### 'Protein or mRNA variants'"
   ]
  },
  {
   "cell_type": "markdown",
   "id": "e2b7ca8e-3fca-4d13-9ba7-bc4b86f569c7",
   "metadata": {},
   "source": [
    "reason: typo: names inconsistent, spaces in names"
   ]
  },
  {
   "cell_type": "code",
   "execution_count": 61,
   "id": "21b24427-961c-471e-83c9-9e8d011ba5cc",
   "metadata": {},
   "outputs": [],
   "source": [
    "new_col_name = 'Protein or mRNA Variants'"
   ]
  },
  {
   "cell_type": "code",
   "execution_count": 62,
   "id": "efc9f390-9590-4810-b316-8ac6ffc241e7",
   "metadata": {},
   "outputs": [],
   "source": [
    "assert new_col_name in df_benign"
   ]
  },
  {
   "cell_type": "code",
   "execution_count": 63,
   "id": "510653c3-b420-40f7-8a30-b55adeec775b",
   "metadata": {},
   "outputs": [],
   "source": [
    "assert new_col_name in df_vus"
   ]
  },
  {
   "cell_type": "code",
   "execution_count": 64,
   "id": "24db98ce-938a-46a7-af7c-30b4e4f620a4",
   "metadata": {},
   "outputs": [],
   "source": [
    "assert new_col_name in df_exon5"
   ]
  },
  {
   "cell_type": "code",
   "execution_count": 65,
   "id": "14354c39-45ba-4d05-b9cd-b56e0cf8d141",
   "metadata": {},
   "outputs": [],
   "source": [
    "df_pathogenic.rename(\n",
    "    columns={'Protein or mRNA variants': new_col_name}, inplace=True)"
   ]
  },
  {
   "cell_type": "code",
   "execution_count": 66,
   "id": "bc8c083a-2120-450b-b658-9b2dcca7e40c",
   "metadata": {},
   "outputs": [],
   "source": [
    "assert new_col_name in df_pathogenic"
   ]
  },
  {
   "cell_type": "code",
   "execution_count": 67,
   "id": "bdab6b06-0b35-4225-900c-4da908b7da33",
   "metadata": {},
   "outputs": [],
   "source": [
    "columns_not_in_all.remove('Protein or mRNA Variants')"
   ]
  },
  {
   "cell_type": "code",
   "execution_count": 68,
   "id": "36235408-8564-4ac3-981f-ae253e6a447c",
   "metadata": {},
   "outputs": [],
   "source": [
    "columns_not_in_all.remove('Protein or mRNA variants')"
   ]
  },
  {
   "cell_type": "code",
   "execution_count": 69,
   "id": "b4af61eb-1c9e-4269-8a0e-872445fefa70",
   "metadata": {},
   "outputs": [
    {
     "data": {
      "text/plain": [
       "4"
      ]
     },
     "execution_count": 69,
     "metadata": {},
     "output_type": "execute_result"
    }
   ],
   "source": [
    "len(columns_not_in_all)"
   ]
  },
  {
   "cell_type": "markdown",
   "id": "60644f29-93d8-46af-b92c-d59c9fdca65e",
   "metadata": {
    "tags": []
   },
   "source": [
    "#### 'Taffazin Functional motifs '\n",
    "\n",
    "reason: space at the end of the column name"
   ]
  },
  {
   "cell_type": "code",
   "execution_count": 70,
   "id": "0516598c-054b-495c-a4e6-c37baca8f6eb",
   "metadata": {},
   "outputs": [
    {
     "data": {
      "text/plain": [
       "1"
      ]
     },
     "execution_count": 70,
     "metadata": {},
     "output_type": "execute_result"
    }
   ],
   "source": [
    "columns_all.count('Taffazin Functional motifs ')"
   ]
  },
  {
   "cell_type": "code",
   "execution_count": 71,
   "id": "a57b7a07-5768-45ad-b23c-8e5bfc4107b0",
   "metadata": {},
   "outputs": [
    {
     "data": {
      "text/plain": [
       "True"
      ]
     },
     "execution_count": 71,
     "metadata": {},
     "output_type": "execute_result"
    }
   ],
   "source": [
    "'Taffazin Functional motifs ' in df_pathogenic"
   ]
  },
  {
   "cell_type": "code",
   "execution_count": 72,
   "id": "83cf88dd-b7c9-4437-82bc-dfd7bdd85994",
   "metadata": {},
   "outputs": [],
   "source": [
    "new_col_name = 'Taffazin Functional motifs'"
   ]
  },
  {
   "cell_type": "code",
   "execution_count": 73,
   "id": "46491f1f-a6ce-4426-8202-a5e0dd13b3c2",
   "metadata": {},
   "outputs": [],
   "source": [
    "df_pathogenic.rename(\n",
    "    columns={'Taffazin Functional motifs ': new_col_name}, inplace=True)"
   ]
  },
  {
   "cell_type": "code",
   "execution_count": 74,
   "id": "c3faad4d-5986-4ae3-96eb-9aa8f42e2a63",
   "metadata": {
    "tags": []
   },
   "outputs": [],
   "source": [
    "assert new_col_name in df_pathogenic"
   ]
  },
  {
   "cell_type": "code",
   "execution_count": 75,
   "id": "245366a9-2a6e-4bd7-ba96-c490ae9b45af",
   "metadata": {},
   "outputs": [],
   "source": [
    "columns_not_in_all.remove('Taffazin Functional motifs ')"
   ]
  },
  {
   "cell_type": "code",
   "execution_count": 76,
   "id": "bf6b1aa7-bb99-42c5-b220-b183393b1c9e",
   "metadata": {},
   "outputs": [
    {
     "data": {
      "text/plain": [
       "3"
      ]
     },
     "execution_count": 76,
     "metadata": {},
     "output_type": "execute_result"
    }
   ],
   "source": [
    "len(columns_not_in_all)"
   ]
  },
  {
   "cell_type": "markdown",
   "id": "3738726b-9188-4b7f-8e53-96dd566610dc",
   "metadata": {},
   "source": [
    "#### 'Splicing Prediction'\n",
    "#### 'Splicing prediction'\n",
    "\n",
    "reason: inconsistent column names\n",
    "\n",
    "TODO why is this column not in pathogenic and vus?"
   ]
  },
  {
   "cell_type": "code",
   "execution_count": 77,
   "id": "9086d414-7387-4a86-af14-273bcdfe334e",
   "metadata": {},
   "outputs": [
    {
     "data": {
      "text/plain": [
       "1"
      ]
     },
     "execution_count": 77,
     "metadata": {},
     "output_type": "execute_result"
    }
   ],
   "source": [
    "columns_all.count('Splicing prediction')"
   ]
  },
  {
   "cell_type": "code",
   "execution_count": 78,
   "id": "7c73ddaa-293e-46d8-8ecd-353a29db0c92",
   "metadata": {},
   "outputs": [
    {
     "data": {
      "text/plain": [
       "1"
      ]
     },
     "execution_count": 78,
     "metadata": {},
     "output_type": "execute_result"
    }
   ],
   "source": [
    "columns_all.count('Splicing Prediction')"
   ]
  },
  {
   "cell_type": "code",
   "execution_count": 79,
   "id": "ebe05c6b-3dc7-4942-b88b-3bfc8ba2ce9f",
   "metadata": {},
   "outputs": [
    {
     "data": {
      "text/plain": [
       "True"
      ]
     },
     "execution_count": 79,
     "metadata": {},
     "output_type": "execute_result"
    }
   ],
   "source": [
    "'Splicing prediction' in df_benign"
   ]
  },
  {
   "cell_type": "code",
   "execution_count": 80,
   "id": "8f94b3eb-4738-414a-9215-e9b60bbdeea0",
   "metadata": {},
   "outputs": [
    {
     "data": {
      "text/plain": [
       "True"
      ]
     },
     "execution_count": 80,
     "metadata": {},
     "output_type": "execute_result"
    }
   ],
   "source": [
    "'Splicing Prediction' in df_exon5"
   ]
  },
  {
   "cell_type": "code",
   "execution_count": 81,
   "id": "0b52c2fc-99a7-4a1d-ac80-b0691d7e53ed",
   "metadata": {},
   "outputs": [],
   "source": [
    "new_col_name = 'Splicing Prediction'"
   ]
  },
  {
   "cell_type": "code",
   "execution_count": 82,
   "id": "657110bf-bc90-41b2-9aa6-236d7ca6f409",
   "metadata": {},
   "outputs": [],
   "source": [
    "df_benign.rename(\n",
    "    columns={'Splicing prediction': new_col_name}, inplace=True)"
   ]
  },
  {
   "cell_type": "code",
   "execution_count": 83,
   "id": "272dac16-741c-47bb-99b0-05ff813c1a71",
   "metadata": {},
   "outputs": [],
   "source": [
    "assert new_col_name in df_benign"
   ]
  },
  {
   "cell_type": "code",
   "execution_count": 84,
   "id": "c3b9d93d-f57f-43fa-a2fa-e127fbd520d0",
   "metadata": {},
   "outputs": [],
   "source": [
    "assert new_col_name in df_exon5"
   ]
  },
  {
   "cell_type": "code",
   "execution_count": 85,
   "id": "1e729bfa-c74b-4c4c-a252-5195da3d677e",
   "metadata": {},
   "outputs": [],
   "source": [
    "columns_not_in_all.remove('Splicing Prediction')"
   ]
  },
  {
   "cell_type": "code",
   "execution_count": 86,
   "id": "6645a5d3-98c6-40f8-a367-170478f8a308",
   "metadata": {},
   "outputs": [],
   "source": [
    "columns_not_in_all.remove('Splicing prediction')"
   ]
  },
  {
   "cell_type": "code",
   "execution_count": 87,
   "id": "741f0e73-9cf2-4ab3-8d2f-93f11ce14cd3",
   "metadata": {},
   "outputs": [
    {
     "data": {
      "text/plain": [
       "1"
      ]
     },
     "execution_count": 87,
     "metadata": {},
     "output_type": "execute_result"
    }
   ],
   "source": [
    "len(columns_not_in_all)"
   ]
  },
  {
   "cell_type": "markdown",
   "id": "d92b452f-0500-41ed-adc0-5522ee37790a",
   "metadata": {},
   "source": [
    "#### Remove 'Unnamed: 15' column\n",
    "\n",
    "reason: only space in one row, inserted by mistake"
   ]
  },
  {
   "cell_type": "code",
   "execution_count": 88,
   "id": "6d8bf661-ba17-4ce8-a574-19c84fb5d572",
   "metadata": {},
   "outputs": [
    {
     "data": {
      "text/plain": [
       "True"
      ]
     },
     "execution_count": 88,
     "metadata": {},
     "output_type": "execute_result"
    }
   ],
   "source": [
    "'Unnamed: 15' in df_pathogenic"
   ]
  },
  {
   "cell_type": "code",
   "execution_count": 89,
   "id": "aa17fee7-e7fe-4f01-b876-ddd593ff7b96",
   "metadata": {},
   "outputs": [
    {
     "data": {
      "text/plain": [
       "1"
      ]
     },
     "execution_count": 89,
     "metadata": {},
     "output_type": "execute_result"
    }
   ],
   "source": [
    "columns_all.count('Unnamed: 15')"
   ]
  },
  {
   "cell_type": "code",
   "execution_count": 90,
   "id": "e0a5d2b6-35af-4666-b07d-3d782fe53115",
   "metadata": {},
   "outputs": [
    {
     "data": {
      "text/plain": [
       "     1\n",
       "Name: Unnamed: 15, dtype: int64"
      ]
     },
     "execution_count": 90,
     "metadata": {},
     "output_type": "execute_result"
    }
   ],
   "source": [
    "df_pathogenic['Unnamed: 15'].value_counts()"
   ]
  },
  {
   "cell_type": "code",
   "execution_count": 91,
   "id": "fc6657a2-a72a-4843-8e13-eb59b89a2755",
   "metadata": {},
   "outputs": [
    {
     "data": {
      "text/plain": [
       "' '"
      ]
     },
     "execution_count": 91,
     "metadata": {},
     "output_type": "execute_result"
    }
   ],
   "source": [
    "df_pathogenic[~df_pathogenic['Unnamed: 15'].isna()]['Unnamed: 15'].iloc[0]"
   ]
  },
  {
   "cell_type": "code",
   "execution_count": 92,
   "id": "28bc22b2-e599-442d-ba3a-170a1086f9b8",
   "metadata": {},
   "outputs": [],
   "source": [
    "df_pathogenic.drop(['Unnamed: 15'], axis=1, inplace=True)"
   ]
  },
  {
   "cell_type": "code",
   "execution_count": 93,
   "id": "f565760d-7452-43c1-b524-affafc41b36a",
   "metadata": {},
   "outputs": [],
   "source": [
    "assert not 'Unnamed: 15' in df_pathogenic"
   ]
  },
  {
   "cell_type": "code",
   "execution_count": 94,
   "id": "1060f72e-9981-4508-8e7a-a67a48257672",
   "metadata": {},
   "outputs": [],
   "source": [
    "columns_not_in_all.remove('Unnamed: 15')"
   ]
  },
  {
   "cell_type": "code",
   "execution_count": 95,
   "id": "58c7eeab-0df2-4efc-a6cd-e0dca1affde9",
   "metadata": {},
   "outputs": [],
   "source": [
    "assert len(columns_not_in_all) == 0, 'all columns should have been handled by now'"
   ]
  },
  {
   "cell_type": "markdown",
   "id": "453ccaa3-eb42-49a1-9df8-41f4c7b86459",
   "metadata": {
    "tags": []
   },
   "source": [
    "# Save data"
   ]
  },
  {
   "cell_type": "code",
   "execution_count": 96,
   "id": "9f083930-e625-4a7d-849d-3bb79141c9c6",
   "metadata": {},
   "outputs": [],
   "source": [
    "#! pip install xlsxwriter"
   ]
  },
  {
   "cell_type": "code",
   "execution_count": 97,
   "id": "26799085-f726-4e34-879c-daf0a05aac18",
   "metadata": {},
   "outputs": [
    {
     "name": "stdout",
     "output_type": "stream",
     "text": [
      "Output was saved to ../database_versions/0000_2023-10-30-12-58-35-482589_Human-TAFAZZIN-Variants-Database.xlsx\n"
     ]
    }
   ],
   "source": [
    "# create a Pandas Excel writer using XlsxWriter as the engine\n",
    "writer = pd.ExcelWriter(output_path, engine='xlsxwriter')\n",
    "\n",
    "# write each dataframe to a different worksheet\n",
    "df_pathogenic.to_excel(writer, sheet_name=pathogenic_sheet_names[0], index=False)\n",
    "df_vus.to_excel(writer, sheet_name=vus_sheet_names[0], index=False)\n",
    "df_benign.to_excel(writer, sheet_name=benign_sheet_names[0], index=False)\n",
    "df_exon5.to_excel(writer, sheet_name=exon5_sheet_names[0], index=False)\n",
    "\n",
    "# save the Pandas Excel writer to disk\n",
    "writer.save()\n",
    "print(f'Output was saved to {output_path}')"
   ]
  },
  {
   "cell_type": "markdown",
   "id": "2b1cb3ef-01b3-436e-b066-4f3f0003f9ba",
   "metadata": {},
   "source": [
    "# Load what was saved and compare with original version"
   ]
  },
  {
   "cell_type": "code",
   "execution_count": 98,
   "id": "3c03704f-89ec-4443-a3b5-46eadb4d0d0e",
   "metadata": {},
   "outputs": [
    {
     "name": "stdout",
     "output_type": "stream",
     "text": [
      "Binary files ../database_versions/0000_2023-10-30-12-58-35-482589_Human-TAFAZZIN-Variants-Database.xlsx and ../database_original/[Data Only] Human TAFAZZIN Variants Database_v07-20-2023.xlsx differ\n"
     ]
    }
   ],
   "source": [
    "! diff {output_path} \"{input_path}\" "
   ]
  },
  {
   "cell_type": "code",
   "execution_count": 99,
   "id": "03003ecb-e0ad-426e-a7eb-5d5dbe69fa19",
   "metadata": {},
   "outputs": [],
   "source": [
    "# remove working dataframes to make sure we are comparing only the saved excels\n",
    "del df_pathogenic\n",
    "del df_vus\n",
    "del df_benign\n",
    "del df_exon5"
   ]
  },
  {
   "cell_type": "markdown",
   "id": "5c1214c5-9c34-43e1-b4cf-87ee48e13a49",
   "metadata": {},
   "source": [
    "### Load original data"
   ]
  },
  {
   "cell_type": "code",
   "execution_count": 100,
   "id": "779eed00-0ea3-439f-8baf-3c2b77a7bfc4",
   "metadata": {},
   "outputs": [],
   "source": [
    "xls_orig = pd.ExcelFile(input_path)\n",
    "\n",
    "df_pathogenic_orig = pd.read_excel(xls_orig, pathogenic_sheet_names[0])\n",
    "df_vus_orig = pd.read_excel(xls_orig, vus_sheet_names[0])\n",
    "df_benign_orig = pd.read_excel(xls_orig, benign_sheet_names[0])\n",
    "df_exon5_orig = pd.read_excel(xls_orig, exon5_sheet_names[0])    "
   ]
  },
  {
   "cell_type": "code",
   "execution_count": 101,
   "id": "8fe64fba-aa62-4fbd-b54d-1e3e7507cac1",
   "metadata": {},
   "outputs": [],
   "source": [
    "xls_new = pd.ExcelFile(output_path)\n",
    "\n",
    "df_pathogenic_new = pd.read_excel(xls_new, pathogenic_sheet_names[0])\n",
    "df_vus_new = pd.read_excel(xls_new, vus_sheet_names[0])\n",
    "df_benign_new = pd.read_excel(xls_new, benign_sheet_names[0])\n",
    "df_exon5_new = pd.read_excel(xls_new, exon5_sheet_names[0])    "
   ]
  },
  {
   "cell_type": "markdown",
   "id": "b6caa5f1-029c-4365-9a46-dc6be33bc9f0",
   "metadata": {},
   "source": [
    "#### Show column renaming:"
   ]
  },
  {
   "cell_type": "code",
   "execution_count": 102,
   "id": "b720c981-6d15-4b8f-b9ff-52d480ddb0d8",
   "metadata": {},
   "outputs": [],
   "source": [
    "def print_diffs(df, df_orig):\n",
    "    df_cols = df.columns \n",
    "    df_orig_cols = df_orig.columns \n",
    "    for i in range(0, len(df.columns)):\n",
    "        if df_cols[i] != df_orig_cols[i]:\n",
    "            print(f'difference: \"{df_orig_cols[i]}\" (orig) -> \"{df_cols[i]}\" (new)')"
   ]
  },
  {
   "cell_type": "code",
   "execution_count": 103,
   "id": "9b50c1a4-ef8a-4956-a2da-9203c8c2c3fb",
   "metadata": {},
   "outputs": [
    {
     "name": "stdout",
     "output_type": "stream",
     "text": [
      "difference: \"Location in  Genome release  37 (hg19)\" (orig) -> \"Location in Genome release 37 (hg19)\" (new)\n",
      "difference: \"Location in Genome release  38 (hg38)\" (orig) -> \"Location in Genome release 38 (hg38)\" (new)\n",
      "difference: \"Protein or mRNA variants\" (orig) -> \"Protein or mRNA Variants\" (new)\n",
      "difference: \" Functional outcome (MLCL/CL ratio)\" (orig) -> \"Functional outcome (MLCL/CL ratio)\" (new)\n",
      "difference: \"Taffazin Functional motifs \" (orig) -> \"Taffazin Functional motifs\" (new)\n"
     ]
    }
   ],
   "source": [
    "print_diffs(df_pathogenic_new, df_pathogenic_orig)"
   ]
  },
  {
   "cell_type": "code",
   "execution_count": 104,
   "id": "093d28dd-b24d-441b-ba08-72a4b95c5752",
   "metadata": {},
   "outputs": [
    {
     "name": "stdout",
     "output_type": "stream",
     "text": [
      "difference: \"Location in  Genome release 37 (hg19)\" (orig) -> \"Location in Genome release 37 (hg19)\" (new)\n",
      "difference: \"Splicing prediction\" (orig) -> \"Splicing Prediction\" (new)\n"
     ]
    }
   ],
   "source": [
    "print_diffs(df_benign_new, df_benign_orig)"
   ]
  },
  {
   "cell_type": "code",
   "execution_count": 105,
   "id": "900426ad-7b10-4d6b-96e7-53af819a1d06",
   "metadata": {},
   "outputs": [
    {
     "name": "stdout",
     "output_type": "stream",
     "text": [
      "difference: \"Location in  Genome release 37 (hg19)\" (orig) -> \"Location in Genome release 37 (hg19)\" (new)\n"
     ]
    }
   ],
   "source": [
    "print_diffs(df_vus_new, df_vus_orig)"
   ]
  },
  {
   "cell_type": "code",
   "execution_count": 106,
   "id": "ae79a2fd-a80e-4082-a2dc-18f4b0cb8d4f",
   "metadata": {},
   "outputs": [
    {
     "name": "stdout",
     "output_type": "stream",
     "text": [
      "difference: \"Genome Assembly Release 37\" (orig) -> \"Location in Genome release 37 (hg19)\" (new)\n",
      "difference: \"Genome Assembly Release 38\" (orig) -> \"Location in Genome release 38 (hg38)\" (new)\n"
     ]
    }
   ],
   "source": [
    "print_diffs(df_exon5_new, df_exon5_orig)"
   ]
  },
  {
   "cell_type": "markdown",
   "id": "5db4a600-00be-4f4d-ad36-4778d7eef00a",
   "metadata": {},
   "source": [
    "#### Show that nothing else changed in the data, except from column renaming:"
   ]
  },
  {
   "cell_type": "code",
   "execution_count": 107,
   "id": "5cc21f57-ece6-4991-9bab-5d3ead9b7d50",
   "metadata": {},
   "outputs": [],
   "source": [
    "df_benign_orig.columns = df_benign_new.columns\n",
    "assert df_benign_new.equals(df_benign_orig)"
   ]
  },
  {
   "cell_type": "code",
   "execution_count": 108,
   "id": "d8c48e40-f7ec-4a4f-beec-d72f6e9e0b42",
   "metadata": {},
   "outputs": [],
   "source": [
    "df_vus_orig.columns = df_vus_new.columns\n",
    "assert df_vus_new.equals(df_vus_orig)"
   ]
  },
  {
   "cell_type": "code",
   "execution_count": 109,
   "id": "9ee1567f-5464-43c4-9e5e-c665e7ba9343",
   "metadata": {},
   "outputs": [],
   "source": [
    "df_exon5_orig.columns = df_exon5_new.columns\n",
    "assert df_exon5_new.equals(df_exon5_orig)"
   ]
  },
  {
   "cell_type": "markdown",
   "id": "ae08aece-3864-433e-b9e9-2d1733d5c9cc",
   "metadata": {},
   "source": [
    "##### Slightly more difficult comparison for df_pathogenic: we have removed that one empty column:"
   ]
  },
  {
   "cell_type": "code",
   "execution_count": 110,
   "id": "841a5d8b-84d7-41c5-817b-3cea23c1c9cf",
   "metadata": {},
   "outputs": [],
   "source": [
    "df_pathogenic_orig.columns = list(df_pathogenic_new.columns) + ['Unnamed: 15']"
   ]
  },
  {
   "cell_type": "code",
   "execution_count": 111,
   "id": "813f3dc9-a3b3-4858-8cea-08fad2c50883",
   "metadata": {},
   "outputs": [
    {
     "data": {
      "text/plain": [
       "(406, 15)"
      ]
     },
     "execution_count": 111,
     "metadata": {},
     "output_type": "execute_result"
    }
   ],
   "source": [
    "df_pathogenic_new.shape"
   ]
  },
  {
   "cell_type": "code",
   "execution_count": 112,
   "id": "d1796960-e26a-4927-b738-5b7da044e818",
   "metadata": {},
   "outputs": [
    {
     "data": {
      "text/plain": [
       "(406, 16)"
      ]
     },
     "execution_count": 112,
     "metadata": {},
     "output_type": "execute_result"
    }
   ],
   "source": [
    "df_pathogenic_orig.shape"
   ]
  },
  {
   "cell_type": "code",
   "execution_count": 113,
   "id": "6488ccc2-55b3-4429-8a73-0b1001e527df",
   "metadata": {},
   "outputs": [
    {
     "data": {
      "text/plain": [
       "     1\n",
       "Name: Unnamed: 15, dtype: int64"
      ]
     },
     "execution_count": 113,
     "metadata": {},
     "output_type": "execute_result"
    }
   ],
   "source": [
    "df_pathogenic_orig['Unnamed: 15'].value_counts() # one more column in orig, but doesn't contain anything"
   ]
  },
  {
   "cell_type": "code",
   "execution_count": 114,
   "id": "5ae38dd3-b855-4edd-8fcd-fd2b70a5e916",
   "metadata": {},
   "outputs": [],
   "source": [
    "assert df_pathogenic_new.equals(df_pathogenic_orig[df_pathogenic_new.columns]), 'dfs should be the same apart from the unnamed column'"
   ]
  }
 ],
 "metadata": {
  "kernelspec": {
   "display_name": "Python 3 (ipykernel)",
   "language": "python",
   "name": "python3"
  },
  "language_info": {
   "codemirror_mode": {
    "name": "ipython",
    "version": 3
   },
   "file_extension": ".py",
   "mimetype": "text/x-python",
   "name": "python",
   "nbconvert_exporter": "python",
   "pygments_lexer": "ipython3",
   "version": "3.8.16"
  }
 },
 "nbformat": 4,
 "nbformat_minor": 5
}
