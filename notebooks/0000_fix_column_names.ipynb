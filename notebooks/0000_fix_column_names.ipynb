{
 "cells": [
  {
   "cell_type": "markdown",
   "id": "a3c7ffab-e44b-4cde-80c5-bfac321be632",
   "metadata": {},
   "source": [
    "# Fix column names \n",
    "\n",
    "This notebook:\n",
    "* fixes column names to be consistent among excel sheets\n",
    "* removes empty column in `pathogenic` sheet"
   ]
  },
  {
   "cell_type": "code",
   "execution_count": null,
   "id": "6873ddff-591a-4845-8efa-48409a65224b",
   "metadata": {},
   "outputs": [],
   "source": [
    "import pandas as pd\n",
    "import os\n",
    "import helpers"
   ]
  },
  {
   "cell_type": "code",
   "execution_count": null,
   "id": "868917a4-9e4a-4485-b923-42b115c7ce2b",
   "metadata": {},
   "outputs": [],
   "source": [
    "input_path = '../database_original/[Data Only] Human TAFAZZIN Variants Database_v07-20-2023.xlsx'\n",
    "output_path = helpers.create_output_file_name()"
   ]
  },
  {
   "cell_type": "code",
   "execution_count": null,
   "id": "62ca23aa-ad88-4a95-bb3e-be34725bbdab",
   "metadata": {},
   "outputs": [],
   "source": [
    "# TODO see if it works, compare with the test excel from friday"
   ]
  },
  {
   "cell_type": "markdown",
   "id": "267b5d96-6e2e-4bb3-acba-942a9e405c35",
   "metadata": {},
   "source": [
    "# Load data"
   ]
  },
  {
   "cell_type": "code",
   "execution_count": null,
   "id": "dba55a7f-8256-4589-bec1-1cf9e370e443",
   "metadata": {},
   "outputs": [],
   "source": [
    "if not os.path.exists(input_path):\n",
    "    print('Please download the original database into `database_original` folder from https://drive.google.com/drive/folders/1O2MKa5FHsvq3hyjOVSsOZf37xkwKYAJ8 ')"
   ]
  },
  {
   "cell_type": "code",
   "execution_count": null,
   "id": "f6a330cb-9ab6-4cd3-8183-2b6eac310013",
   "metadata": {},
   "outputs": [],
   "source": [
    "xls = pd.ExcelFile(input_path)\n",
    "sheet_names = xls.sheet_names\n",
    "print(sheet_names)\n",
    "    \n",
    "    "
   ]
  },
  {
   "cell_type": "code",
   "execution_count": null,
   "id": "ecc93335-c0f7-4d6f-af60-0a67a8245ea5",
   "metadata": {},
   "outputs": [],
   "source": [
    "pathogenic_sheet_names = [a for a in sheet_names if 'PATHOGENIC' in a] \n",
    "assert len(pathogenic_sheet_names) == 1, 'we expect just one \"PATHOGENIC\" sheet'\n",
    "df_pathogenic = pd.read_excel(xls, pathogenic_sheet_names[0])\n",
    "    \n",
    "vus_sheet_names = [a for a in sheet_names if 'VUS' in a] \n",
    "assert len(vus_sheet_names) == 1, 'we expect just one \"VUS\" sheet'\n",
    "df_vus = pd.read_excel(xls, vus_sheet_names[0])\n",
    "    \n",
    "benign_sheet_names = [a for a in sheet_names if 'BENIGN' in a] \n",
    "assert len(benign_sheet_names) == 1, 'we expect just one \"BENIGN\" sheet'\n",
    "df_benign = pd.read_excel(xls, benign_sheet_names[0])\n",
    "    \n",
    "exon5_sheet_names = [a for a in sheet_names if 'EXON 5' in a] \n",
    "assert len(exon5_sheet_names) == 1, 'we expect just one \"EXON 5\" sheet'\n",
    "df_exon5 = pd.read_excel(xls, exon5_sheet_names[0])    "
   ]
  },
  {
   "cell_type": "code",
   "execution_count": null,
   "id": "021f8a54-4232-4eff-80a0-cefb35937ac3",
   "metadata": {},
   "outputs": [],
   "source": [
    "print(df_pathogenic.shape)\n",
    "df_pathogenic.head(3)"
   ]
  },
  {
   "cell_type": "code",
   "execution_count": null,
   "id": "ce543a4b-5061-4391-9148-1b475a2ec550",
   "metadata": {},
   "outputs": [],
   "source": [
    "print(df_vus.shape)\n",
    "df_vus.head(3)"
   ]
  },
  {
   "cell_type": "code",
   "execution_count": null,
   "id": "63526888-dcf5-4c62-82bb-b3facb9cd676",
   "metadata": {},
   "outputs": [],
   "source": [
    "print(df_benign.shape)\n",
    "df_benign.head(3)"
   ]
  },
  {
   "cell_type": "code",
   "execution_count": null,
   "id": "c34cfb4b-f0bc-4cd7-92bf-fb10b3bb7872",
   "metadata": {},
   "outputs": [],
   "source": [
    "print(df_exon5.shape)\n",
    "df_exon5.head(3)"
   ]
  },
  {
   "cell_type": "markdown",
   "id": "bcc4e214-448a-4b3d-9566-9f926715d918",
   "metadata": {},
   "source": [
    "# Inspect column names"
   ]
  },
  {
   "cell_type": "code",
   "execution_count": null,
   "id": "66791300-5a11-46bd-af41-a98a2dad68f0",
   "metadata": {},
   "outputs": [],
   "source": [
    "columns_all = list(df_pathogenic.columns) + list(df_benign.columns) + \\\n",
    "            list(df_vus.columns) + list(df_exon5.columns)"
   ]
  },
  {
   "cell_type": "code",
   "execution_count": null,
   "id": "82f3f609-cd9f-4c26-bb06-9bfbfd68ab99",
   "metadata": {},
   "outputs": [],
   "source": [
    "columns_not_in_all = [x for x in set(columns_all) if columns_all.count(x) != 4]"
   ]
  },
  {
   "cell_type": "code",
   "execution_count": null,
   "id": "74b04f42-4b36-4b86-bcad-97b5b81d9bf7",
   "metadata": {},
   "outputs": [],
   "source": [
    "print('Column names, which are not present in all 4 sheets:')\n",
    "sorted(columns_not_in_all)"
   ]
  },
  {
   "cell_type": "markdown",
   "id": "4da7f5bd-e613-43f5-bfca-7274543c7697",
   "metadata": {},
   "source": [
    "### Column names missing in some sheets, but seems to be OK:\n",
    "\n",
    "--> no action needed"
   ]
  },
  {
   "cell_type": "code",
   "execution_count": null,
   "id": "327b3a2b-58ac-496f-8429-f05cc950001b",
   "metadata": {},
   "outputs": [],
   "source": [
    "columns_missing_seem_ok = ['Functional outcome (MLCL/CL ratio)', # only in df_pathogenic\n",
    "    'Additional variants in other genes', # not in exon5\n",
    "    'Amino acid conservation & comments', # not in df_pathogenic\n",
    "    'Classification', # only in exon5\n",
    "    'Impact of Variant', # only in df_pathogenic\n",
    "    'Location and Order of Discovery', # only in df_pathogenic\n",
    "    'Method of Validation'] # only in df_pathogenic"
   ]
  },
  {
   "cell_type": "code",
   "execution_count": null,
   "id": "917a2c53-b349-4917-93bb-a7c44fc86ea6",
   "metadata": {},
   "outputs": [],
   "source": [
    "len(columns_not_in_all)"
   ]
  },
  {
   "cell_type": "code",
   "execution_count": null,
   "id": "e68b8f8e-3ca8-4d08-a5cb-0cc910e040f4",
   "metadata": {},
   "outputs": [],
   "source": [
    "columns_not_in_all = [x for x in columns_not_in_all if x not in columns_missing_seem_ok]"
   ]
  },
  {
   "cell_type": "code",
   "execution_count": null,
   "id": "7b86468a-f531-452f-a12f-9f6e2e089593",
   "metadata": {},
   "outputs": [],
   "source": [
    "len(columns_not_in_all)"
   ]
  },
  {
   "cell_type": "markdown",
   "id": "21ff9456-a4fe-49bc-ad15-b9ff542d1721",
   "metadata": {},
   "source": [
    "### Column names are missing, but column renaming is not enough, more parsing will be needed:\n",
    "\n",
    "--> work left to be done in next notebooks TODO"
   ]
  },
  {
   "cell_type": "code",
   "execution_count": null,
   "id": "d0db61d2-1ca1-4a7c-b3f9-e6310726f2d1",
   "metadata": {},
   "outputs": [],
   "source": [
    "columns_missing_more_parsing_needed = ['PolyPhen2 prediction', # column not in df_pathogenic, but this info can be extracted from 'Method of Validation'\n",
    "    'SIFT prediction', # column not in df_pathogenic, but this info can be extracted from 'Method of Validation'\n",
    "    'Protein Variant Type', # only in df_pathogenic, should be added also to other sheets\n",
    "    'References', # only in df_pathogenic, should be made consistent with other sheets, where similar column contains population frequency, see below\n",
    "    'References & population frequency'] # not in df_pathogenic, see above"
   ]
  },
  {
   "cell_type": "code",
   "execution_count": null,
   "id": "bd4551b7-7aad-4517-b10c-85bb4dd2e3f3",
   "metadata": {},
   "outputs": [],
   "source": [
    "columns_not_in_all = [x for x in columns_not_in_all if x not in columns_missing_more_parsing_needed]"
   ]
  },
  {
   "cell_type": "code",
   "execution_count": null,
   "id": "a6bed57c-ea9d-47dd-b3e0-142d6f6c10ab",
   "metadata": {},
   "outputs": [],
   "source": [
    "len(columns_not_in_all)"
   ]
  },
  {
   "cell_type": "markdown",
   "id": "bc71f0e2-68bc-49dc-8543-6b1ab14adaec",
   "metadata": {},
   "source": [
    "# Rename columns:"
   ]
  },
  {
   "cell_type": "markdown",
   "id": "74b7a365-adcd-4d74-b9f1-59de0f903364",
   "metadata": {},
   "source": [
    "#### ' Functional outcome (MLCL/CL ratio)':\n",
    "\n",
    "reason: typo: space at the beginning"
   ]
  },
  {
   "cell_type": "code",
   "execution_count": null,
   "id": "e5f80656-9da2-4bfa-b6de-769361bc8e9f",
   "metadata": {},
   "outputs": [],
   "source": [
    "new_col_name = 'Functional outcome (MLCL/CL ratio)'"
   ]
  },
  {
   "cell_type": "code",
   "execution_count": null,
   "id": "f3ba4d87-bd4d-42c5-b66e-09759566f80d",
   "metadata": {},
   "outputs": [],
   "source": [
    "columns_all.count(' Functional outcome (MLCL/CL ratio)')"
   ]
  },
  {
   "cell_type": "code",
   "execution_count": null,
   "id": "72bbf80f-d93d-49fb-9d41-7f37a2d513ae",
   "metadata": {},
   "outputs": [],
   "source": [
    "' Functional outcome (MLCL/CL ratio)'in df_pathogenic"
   ]
  },
  {
   "cell_type": "code",
   "execution_count": null,
   "id": "4969b16a-9139-4bfe-b67f-c471eaa3a3ce",
   "metadata": {},
   "outputs": [],
   "source": [
    "df_pathogenic.rename(columns={' Functional outcome (MLCL/CL ratio)': new_col_name.strip()}, inplace=True)"
   ]
  },
  {
   "cell_type": "code",
   "execution_count": null,
   "id": "04e0abd1-9564-4b4e-9992-90419da0a0fd",
   "metadata": {},
   "outputs": [],
   "source": [
    "assert new_col_name in df_pathogenic.columns"
   ]
  },
  {
   "cell_type": "code",
   "execution_count": null,
   "id": "1e79a01f-89b0-4cae-a204-dcd5325ffc05",
   "metadata": {},
   "outputs": [],
   "source": [
    "columns_not_in_all.remove(' Functional outcome (MLCL/CL ratio)')"
   ]
  },
  {
   "cell_type": "code",
   "execution_count": null,
   "id": "108037ae-7bb8-4467-be84-35282a2c3b14",
   "metadata": {},
   "outputs": [],
   "source": [
    "len(columns_not_in_all)"
   ]
  },
  {
   "cell_type": "markdown",
   "id": "720977b8-7d06-4cb2-ba25-d32e8ade764e",
   "metadata": {},
   "source": [
    "#### 'Genome Assembly Release 37'\n",
    "#### 'Location in  Genome release  37 (hg19)'\n",
    "#### 'Location in  Genome release 37 (hg19)'\n",
    "\n",
    "reason: typo: names inconsistent, spaces in names"
   ]
  },
  {
   "cell_type": "code",
   "execution_count": null,
   "id": "d815f0de-bd20-4768-9f94-7da4993bc5c6",
   "metadata": {},
   "outputs": [],
   "source": [
    "new_col_name = 'Location in Genome release 37 (hg19)' # new name with fixed spaces"
   ]
  },
  {
   "cell_type": "code",
   "execution_count": null,
   "id": "10234a41-9fdc-42b8-9064-37b361a20532",
   "metadata": {},
   "outputs": [],
   "source": [
    "columns_all.count('Genome Assembly Release 37')"
   ]
  },
  {
   "cell_type": "code",
   "execution_count": null,
   "id": "1840f825-7696-4a26-9fc3-b7cee5538655",
   "metadata": {},
   "outputs": [],
   "source": [
    "'Genome Assembly Release 37' in df_exon5"
   ]
  },
  {
   "cell_type": "code",
   "execution_count": null,
   "id": "47162b47-0662-45bc-a481-a57ea2cc1cbf",
   "metadata": {},
   "outputs": [],
   "source": [
    "df_exon5.rename(\n",
    "    columns={'Genome Assembly Release 37': new_col_name}, inplace=True)"
   ]
  },
  {
   "cell_type": "code",
   "execution_count": null,
   "id": "6352ac2d-407b-4066-9566-bd52613be8d2",
   "metadata": {},
   "outputs": [],
   "source": [
    "columns_all.count('Location in  Genome release  37 (hg19)')"
   ]
  },
  {
   "cell_type": "code",
   "execution_count": null,
   "id": "7d6c64c1-1c33-44e0-be82-640a4e1ea928",
   "metadata": {},
   "outputs": [],
   "source": [
    "df_pathogenic.rename(\n",
    "    columns={'Location in  Genome release  37 (hg19)': new_col_name}, inplace=True)"
   ]
  },
  {
   "cell_type": "code",
   "execution_count": null,
   "id": "16d1776a-f6ca-4f54-85a5-616d2edc7c0d",
   "metadata": {},
   "outputs": [],
   "source": [
    "columns_all.count('Location in  Genome release 37 (hg19)')"
   ]
  },
  {
   "cell_type": "code",
   "execution_count": null,
   "id": "1bc1e1a8-d49b-4a08-8be7-963f159f9a63",
   "metadata": {},
   "outputs": [],
   "source": [
    "'Location in  Genome release 37 (hg19)' in df_vus"
   ]
  },
  {
   "cell_type": "code",
   "execution_count": null,
   "id": "5730e7b9-e299-4777-ac7d-d09a1a624f2c",
   "metadata": {},
   "outputs": [],
   "source": [
    "'Location in  Genome release 37 (hg19)' in df_benign"
   ]
  },
  {
   "cell_type": "code",
   "execution_count": null,
   "id": "25637c2b-98d9-4c5d-bb90-34696908338c",
   "metadata": {},
   "outputs": [],
   "source": [
    "df_benign.rename(columns={\n",
    "    'Location in  Genome release 37 (hg19)': new_col_name}, inplace=True)"
   ]
  },
  {
   "cell_type": "code",
   "execution_count": null,
   "id": "a3708b1a-6b5c-4414-94ce-ea13cc7a9326",
   "metadata": {},
   "outputs": [],
   "source": [
    "df_vus.rename(\n",
    "    columns={'Location in  Genome release 37 (hg19)': new_col_name}, inplace=True)"
   ]
  },
  {
   "cell_type": "code",
   "execution_count": null,
   "id": "3c18ee2a-bce5-4e89-be2e-c99ded73631e",
   "metadata": {},
   "outputs": [],
   "source": [
    "assert new_col_name in df_exon5"
   ]
  },
  {
   "cell_type": "code",
   "execution_count": null,
   "id": "0be5f992-ff89-4615-8353-3aa49832d3ab",
   "metadata": {},
   "outputs": [],
   "source": [
    "assert new_col_name in df_pathogenic"
   ]
  },
  {
   "cell_type": "code",
   "execution_count": null,
   "id": "c625eeab-8842-400e-a7cf-4d060c2ebd34",
   "metadata": {},
   "outputs": [],
   "source": [
    "assert new_col_name in df_benign.columns"
   ]
  },
  {
   "cell_type": "code",
   "execution_count": null,
   "id": "bf6364b5-663c-4dfc-8926-9e20ac3f8f6d",
   "metadata": {},
   "outputs": [],
   "source": [
    "assert new_col_name in df_vus.columns"
   ]
  },
  {
   "cell_type": "code",
   "execution_count": null,
   "id": "df057c83-4925-4b02-9111-881ea9df2806",
   "metadata": {},
   "outputs": [],
   "source": [
    "columns_not_in_all.remove('Genome Assembly Release 37')"
   ]
  },
  {
   "cell_type": "code",
   "execution_count": null,
   "id": "dd692cba-012f-48b9-9771-bb344a989eb2",
   "metadata": {},
   "outputs": [],
   "source": [
    "columns_not_in_all.remove('Location in  Genome release  37 (hg19)')"
   ]
  },
  {
   "cell_type": "code",
   "execution_count": null,
   "id": "f19ff0ac-9383-474c-8742-0ee04fad9215",
   "metadata": {},
   "outputs": [],
   "source": [
    "columns_not_in_all.remove('Location in  Genome release 37 (hg19)')"
   ]
  },
  {
   "cell_type": "code",
   "execution_count": null,
   "id": "6a16d034-4d35-4f04-b9f2-77bc21d06a45",
   "metadata": {},
   "outputs": [],
   "source": [
    "len(columns_not_in_all)"
   ]
  },
  {
   "cell_type": "markdown",
   "id": "2ce6fc88-cc94-4947-91de-f26b8e325280",
   "metadata": {},
   "source": [
    "#### 'Genome Assembly Release 38'\n",
    "#### 'Location in Genome release  38 (hg38)',\n",
    "#### 'Location in Genome release 38 (hg38)'\n",
    "\n",
    "reason: typo: names inconsistent, spaces in names"
   ]
  },
  {
   "cell_type": "code",
   "execution_count": null,
   "id": "2a57f3e4-c630-4747-9413-179955d57232",
   "metadata": {},
   "outputs": [],
   "source": [
    "new_col_name = 'Location in Genome release 38 (hg38)'"
   ]
  },
  {
   "cell_type": "code",
   "execution_count": null,
   "id": "58d26f57-d104-489a-a7b5-b666ff313f11",
   "metadata": {},
   "outputs": [],
   "source": [
    "columns_all.count('Genome Assembly Release 38')"
   ]
  },
  {
   "cell_type": "code",
   "execution_count": null,
   "id": "e5c9daf0-0643-4224-9470-9ad2798cb491",
   "metadata": {},
   "outputs": [],
   "source": [
    "'Genome Assembly Release 38' in df_exon5"
   ]
  },
  {
   "cell_type": "code",
   "execution_count": null,
   "id": "30552863-189f-46a8-a65b-74e85bc583e9",
   "metadata": {},
   "outputs": [],
   "source": [
    "df_exon5.rename(\n",
    "    columns={'Genome Assembly Release 38': new_col_name}, inplace=True)"
   ]
  },
  {
   "cell_type": "code",
   "execution_count": null,
   "id": "bc9e88fa-3513-43c9-8c13-78e70821100f",
   "metadata": {},
   "outputs": [],
   "source": [
    "columns_all.count('Location in Genome release  38 (hg38)')"
   ]
  },
  {
   "cell_type": "code",
   "execution_count": null,
   "id": "b68be31c-a7dd-489c-af69-cc3901280702",
   "metadata": {},
   "outputs": [],
   "source": [
    "'Location in Genome release  38 (hg38)' in df_pathogenic"
   ]
  },
  {
   "cell_type": "code",
   "execution_count": null,
   "id": "2689d8f3-50d0-489b-b977-c13a327a1925",
   "metadata": {},
   "outputs": [],
   "source": [
    "df_pathogenic.rename(\n",
    "    columns={'Location in Genome release  38 (hg38)': new_col_name}, inplace=True)"
   ]
  },
  {
   "cell_type": "code",
   "execution_count": null,
   "id": "aff40199-1ed3-4802-a3d7-e5effa329fca",
   "metadata": {},
   "outputs": [],
   "source": [
    "assert new_col_name in df_exon5"
   ]
  },
  {
   "cell_type": "code",
   "execution_count": null,
   "id": "e4076cbd-089e-47d8-9e1a-2858c1fb0c85",
   "metadata": {},
   "outputs": [],
   "source": [
    "assert new_col_name in df_pathogenic"
   ]
  },
  {
   "cell_type": "code",
   "execution_count": null,
   "id": "a9f5b2c2-8865-4c23-9a46-16abfacb3b5a",
   "metadata": {},
   "outputs": [],
   "source": [
    "assert new_col_name in df_benign"
   ]
  },
  {
   "cell_type": "code",
   "execution_count": null,
   "id": "1775fe7d-d917-4fec-83ad-5a7f6b32a623",
   "metadata": {},
   "outputs": [],
   "source": [
    "assert new_col_name in df_vus"
   ]
  },
  {
   "cell_type": "code",
   "execution_count": null,
   "id": "348cbf6f-a1a4-4dab-8c86-2ce22be85efc",
   "metadata": {},
   "outputs": [],
   "source": [
    "columns_not_in_all.remove('Genome Assembly Release 38')"
   ]
  },
  {
   "cell_type": "code",
   "execution_count": null,
   "id": "f586db7c-ff8f-4704-8fed-b3318e2a6084",
   "metadata": {},
   "outputs": [],
   "source": [
    "columns_not_in_all.remove('Location in Genome release  38 (hg38)')"
   ]
  },
  {
   "cell_type": "code",
   "execution_count": null,
   "id": "5b6a5e8b-5bd3-489d-9c75-027cdb772672",
   "metadata": {},
   "outputs": [],
   "source": [
    "columns_not_in_all.remove('Location in Genome release 38 (hg38)')"
   ]
  },
  {
   "cell_type": "code",
   "execution_count": null,
   "id": "914df3ed-55dc-4c4b-b52d-f928e1541818",
   "metadata": {},
   "outputs": [],
   "source": [
    "len(columns_not_in_all)"
   ]
  },
  {
   "cell_type": "markdown",
   "id": "8474d308-f3ff-40e3-8993-b83a9aad44f5",
   "metadata": {},
   "source": [
    "#### 'Protein or mRNA Variants',\n",
    "#### 'Protein or mRNA variants'"
   ]
  },
  {
   "cell_type": "markdown",
   "id": "e2b7ca8e-3fca-4d13-9ba7-bc4b86f569c7",
   "metadata": {},
   "source": [
    "reason: typo: names inconsistent, spaces in names"
   ]
  },
  {
   "cell_type": "code",
   "execution_count": null,
   "id": "21b24427-961c-471e-83c9-9e8d011ba5cc",
   "metadata": {},
   "outputs": [],
   "source": [
    "new_col_name = 'Protein or mRNA Variants'"
   ]
  },
  {
   "cell_type": "code",
   "execution_count": null,
   "id": "efc9f390-9590-4810-b316-8ac6ffc241e7",
   "metadata": {},
   "outputs": [],
   "source": [
    "assert new_col_name in df_benign"
   ]
  },
  {
   "cell_type": "code",
   "execution_count": null,
   "id": "510653c3-b420-40f7-8a30-b55adeec775b",
   "metadata": {},
   "outputs": [],
   "source": [
    "assert new_col_name in df_vus"
   ]
  },
  {
   "cell_type": "code",
   "execution_count": null,
   "id": "24db98ce-938a-46a7-af7c-30b4e4f620a4",
   "metadata": {},
   "outputs": [],
   "source": [
    "assert new_col_name in df_exon5"
   ]
  },
  {
   "cell_type": "code",
   "execution_count": null,
   "id": "14354c39-45ba-4d05-b9cd-b56e0cf8d141",
   "metadata": {},
   "outputs": [],
   "source": [
    "df_pathogenic.rename(\n",
    "    columns={'Protein or mRNA variants': new_col_name}, inplace=True)"
   ]
  },
  {
   "cell_type": "code",
   "execution_count": null,
   "id": "bc8c083a-2120-450b-b658-9b2dcca7e40c",
   "metadata": {},
   "outputs": [],
   "source": [
    "assert new_col_name in df_pathogenic"
   ]
  },
  {
   "cell_type": "code",
   "execution_count": null,
   "id": "bdab6b06-0b35-4225-900c-4da908b7da33",
   "metadata": {},
   "outputs": [],
   "source": [
    "columns_not_in_all.remove('Protein or mRNA Variants')"
   ]
  },
  {
   "cell_type": "code",
   "execution_count": null,
   "id": "36235408-8564-4ac3-981f-ae253e6a447c",
   "metadata": {},
   "outputs": [],
   "source": [
    "columns_not_in_all.remove('Protein or mRNA variants')"
   ]
  },
  {
   "cell_type": "code",
   "execution_count": null,
   "id": "b4af61eb-1c9e-4269-8a0e-872445fefa70",
   "metadata": {},
   "outputs": [],
   "source": [
    "len(columns_not_in_all)"
   ]
  },
  {
   "cell_type": "markdown",
   "id": "60644f29-93d8-46af-b92c-d59c9fdca65e",
   "metadata": {
    "tags": []
   },
   "source": [
    "#### 'Taffazin Functional motifs '\n",
    "\n",
    "reason: space at the end of the column name"
   ]
  },
  {
   "cell_type": "code",
   "execution_count": null,
   "id": "0516598c-054b-495c-a4e6-c37baca8f6eb",
   "metadata": {},
   "outputs": [],
   "source": [
    "columns_all.count('Taffazin Functional motifs ')"
   ]
  },
  {
   "cell_type": "code",
   "execution_count": null,
   "id": "a57b7a07-5768-45ad-b23c-8e5bfc4107b0",
   "metadata": {},
   "outputs": [],
   "source": [
    "'Taffazin Functional motifs ' in df_pathogenic"
   ]
  },
  {
   "cell_type": "code",
   "execution_count": null,
   "id": "83cf88dd-b7c9-4437-82bc-dfd7bdd85994",
   "metadata": {},
   "outputs": [],
   "source": [
    "new_col_name = 'Taffazin Functional motifs'"
   ]
  },
  {
   "cell_type": "code",
   "execution_count": null,
   "id": "46491f1f-a6ce-4426-8202-a5e0dd13b3c2",
   "metadata": {},
   "outputs": [],
   "source": [
    "df_pathogenic.rename(\n",
    "    columns={'Taffazin Functional motifs ': new_col_name}, inplace=True)"
   ]
  },
  {
   "cell_type": "code",
   "execution_count": null,
   "id": "c3faad4d-5986-4ae3-96eb-9aa8f42e2a63",
   "metadata": {
    "tags": []
   },
   "outputs": [],
   "source": [
    "assert new_col_name in df_pathogenic"
   ]
  },
  {
   "cell_type": "code",
   "execution_count": null,
   "id": "245366a9-2a6e-4bd7-ba96-c490ae9b45af",
   "metadata": {},
   "outputs": [],
   "source": [
    "columns_not_in_all.remove('Taffazin Functional motifs ')"
   ]
  },
  {
   "cell_type": "code",
   "execution_count": null,
   "id": "bf6b1aa7-bb99-42c5-b220-b183393b1c9e",
   "metadata": {},
   "outputs": [],
   "source": [
    "len(columns_not_in_all)"
   ]
  },
  {
   "cell_type": "markdown",
   "id": "3738726b-9188-4b7f-8e53-96dd566610dc",
   "metadata": {},
   "source": [
    "#### 'Splicing Prediction'\n",
    "#### 'Splicing prediction'\n",
    "\n",
    "reason: inconsistent column names\n",
    "\n",
    "TODO why is this column not in pathogenic and vus?"
   ]
  },
  {
   "cell_type": "code",
   "execution_count": null,
   "id": "9086d414-7387-4a86-af14-273bcdfe334e",
   "metadata": {},
   "outputs": [],
   "source": [
    "columns_all.count('Splicing prediction')"
   ]
  },
  {
   "cell_type": "code",
   "execution_count": null,
   "id": "7c73ddaa-293e-46d8-8ecd-353a29db0c92",
   "metadata": {},
   "outputs": [],
   "source": [
    "columns_all.count('Splicing Prediction')"
   ]
  },
  {
   "cell_type": "code",
   "execution_count": null,
   "id": "ebe05c6b-3dc7-4942-b88b-3bfc8ba2ce9f",
   "metadata": {},
   "outputs": [],
   "source": [
    "'Splicing prediction' in df_benign"
   ]
  },
  {
   "cell_type": "code",
   "execution_count": null,
   "id": "8f94b3eb-4738-414a-9215-e9b60bbdeea0",
   "metadata": {},
   "outputs": [],
   "source": [
    "'Splicing Prediction' in df_exon5"
   ]
  },
  {
   "cell_type": "code",
   "execution_count": null,
   "id": "0b52c2fc-99a7-4a1d-ac80-b0691d7e53ed",
   "metadata": {},
   "outputs": [],
   "source": [
    "new_col_name = 'Splicing Prediction'"
   ]
  },
  {
   "cell_type": "code",
   "execution_count": null,
   "id": "657110bf-bc90-41b2-9aa6-236d7ca6f409",
   "metadata": {},
   "outputs": [],
   "source": [
    "df_benign.rename(\n",
    "    columns={'Splicing prediction': new_col_name}, inplace=True)"
   ]
  },
  {
   "cell_type": "code",
   "execution_count": null,
   "id": "272dac16-741c-47bb-99b0-05ff813c1a71",
   "metadata": {},
   "outputs": [],
   "source": [
    "assert new_col_name in df_benign"
   ]
  },
  {
   "cell_type": "code",
   "execution_count": null,
   "id": "c3b9d93d-f57f-43fa-a2fa-e127fbd520d0",
   "metadata": {},
   "outputs": [],
   "source": [
    "assert new_col_name in df_exon5"
   ]
  },
  {
   "cell_type": "code",
   "execution_count": null,
   "id": "1e729bfa-c74b-4c4c-a252-5195da3d677e",
   "metadata": {},
   "outputs": [],
   "source": [
    "columns_not_in_all.remove('Splicing Prediction')"
   ]
  },
  {
   "cell_type": "code",
   "execution_count": null,
   "id": "6645a5d3-98c6-40f8-a367-170478f8a308",
   "metadata": {},
   "outputs": [],
   "source": [
    "columns_not_in_all.remove('Splicing prediction')"
   ]
  },
  {
   "cell_type": "code",
   "execution_count": null,
   "id": "741f0e73-9cf2-4ab3-8d2f-93f11ce14cd3",
   "metadata": {},
   "outputs": [],
   "source": [
    "len(columns_not_in_all)"
   ]
  },
  {
   "cell_type": "markdown",
   "id": "d92b452f-0500-41ed-adc0-5522ee37790a",
   "metadata": {},
   "source": [
    "#### Remove 'Unnamed: 15' column\n",
    "\n",
    "reason: only space in one row, inserted by mistake"
   ]
  },
  {
   "cell_type": "code",
   "execution_count": null,
   "id": "6d8bf661-ba17-4ce8-a574-19c84fb5d572",
   "metadata": {},
   "outputs": [],
   "source": [
    "'Unnamed: 15' in df_pathogenic"
   ]
  },
  {
   "cell_type": "code",
   "execution_count": null,
   "id": "aa17fee7-e7fe-4f01-b876-ddd593ff7b96",
   "metadata": {},
   "outputs": [],
   "source": [
    "columns_all.count('Unnamed: 15')"
   ]
  },
  {
   "cell_type": "code",
   "execution_count": null,
   "id": "e0a5d2b6-35af-4666-b07d-3d782fe53115",
   "metadata": {},
   "outputs": [],
   "source": [
    "df_pathogenic['Unnamed: 15'].value_counts()"
   ]
  },
  {
   "cell_type": "code",
   "execution_count": null,
   "id": "fc6657a2-a72a-4843-8e13-eb59b89a2755",
   "metadata": {},
   "outputs": [],
   "source": [
    "df_pathogenic[~df_pathogenic['Unnamed: 15'].isna()]['Unnamed: 15'].iloc[0]"
   ]
  },
  {
   "cell_type": "code",
   "execution_count": null,
   "id": "28bc22b2-e599-442d-ba3a-170a1086f9b8",
   "metadata": {},
   "outputs": [],
   "source": [
    "df_pathogenic.drop(['Unnamed: 15'], axis=1, inplace=True)"
   ]
  },
  {
   "cell_type": "code",
   "execution_count": null,
   "id": "f565760d-7452-43c1-b524-affafc41b36a",
   "metadata": {},
   "outputs": [],
   "source": [
    "assert not 'Unnamed: 15' in df_pathogenic"
   ]
  },
  {
   "cell_type": "code",
   "execution_count": null,
   "id": "1060f72e-9981-4508-8e7a-a67a48257672",
   "metadata": {},
   "outputs": [],
   "source": [
    "columns_not_in_all.remove('Unnamed: 15')"
   ]
  },
  {
   "cell_type": "code",
   "execution_count": null,
   "id": "58c7eeab-0df2-4efc-a6cd-e0dca1affde9",
   "metadata": {},
   "outputs": [],
   "source": [
    "assert len(columns_not_in_all) == 0, 'all columns should have been handled by now'"
   ]
  },
  {
   "cell_type": "markdown",
   "id": "453ccaa3-eb42-49a1-9df8-41f4c7b86459",
   "metadata": {
    "tags": []
   },
   "source": [
    "# Save data"
   ]
  },
  {
   "cell_type": "code",
   "execution_count": null,
   "id": "9f083930-e625-4a7d-849d-3bb79141c9c6",
   "metadata": {},
   "outputs": [],
   "source": [
    "#! pip install xlsxwriter"
   ]
  },
  {
   "cell_type": "code",
   "execution_count": null,
   "id": "26799085-f726-4e34-879c-daf0a05aac18",
   "metadata": {},
   "outputs": [],
   "source": [
    "# create a Pandas Excel writer using XlsxWriter as the engine\n",
    "writer = pd.ExcelWriter(output_path, engine='xlsxwriter')\n",
    "\n",
    "# write each dataframe to a different worksheet\n",
    "df_pathogenic.to_excel(writer, sheet_name=pathogenic_sheet_names[0], index=False)\n",
    "df_vus.to_excel(writer, sheet_name=vus_sheet_names[0], index=False)\n",
    "df_benign.to_excel(writer, sheet_name=benign_sheet_names[0], index=False)\n",
    "df_exon5.to_excel(writer, sheet_name=exon5_sheet_names[0], index=False)\n",
    "\n",
    "# save the Pandas Excel writer to disk\n",
    "writer.save()\n",
    "print(f'Output was saved to {output_path}')"
   ]
  },
  {
   "cell_type": "markdown",
   "id": "2b1cb3ef-01b3-436e-b066-4f3f0003f9ba",
   "metadata": {},
   "source": [
    "# Load what was saved and compare with original version"
   ]
  },
  {
   "cell_type": "code",
   "execution_count": null,
   "id": "3c03704f-89ec-4443-a3b5-46eadb4d0d0e",
   "metadata": {},
   "outputs": [],
   "source": [
    "! diff {output_path} \"{input_path}\" "
   ]
  },
  {
   "cell_type": "code",
   "execution_count": null,
   "id": "a49c6d42-459e-4af5-a2bb-bd3bc8ce4854",
   "metadata": {},
   "outputs": [],
   "source": [
    "# TODO would be nice to have CSVs as well so we can compare directly with diff? On the other hand, this would add complexity of having more published datasets\n",
    "# TODO decide"
   ]
  },
  {
   "cell_type": "code",
   "execution_count": null,
   "id": "03003ecb-e0ad-426e-a7eb-5d5dbe69fa19",
   "metadata": {},
   "outputs": [],
   "source": [
    "# remove working dataframe to make sure we are comparing only the saved excels\n",
    "del df_pathogenic\n",
    "del df_vus\n",
    "del df_benign\n",
    "del df_exon5"
   ]
  },
  {
   "cell_type": "markdown",
   "id": "5c1214c5-9c34-43e1-b4cf-87ee48e13a49",
   "metadata": {},
   "source": [
    "### Load original data"
   ]
  },
  {
   "cell_type": "code",
   "execution_count": null,
   "id": "779eed00-0ea3-439f-8baf-3c2b77a7bfc4",
   "metadata": {},
   "outputs": [],
   "source": [
    "xls_orig = pd.ExcelFile(input_path)\n",
    "\n",
    "df_pathogenic_orig = pd.read_excel(xls_orig, pathogenic_sheet_names[0])\n",
    "df_vus_orig = pd.read_excel(xls_orig, vus_sheet_names[0])\n",
    "df_benign_orig = pd.read_excel(xls_orig, benign_sheet_names[0])\n",
    "df_exon5_orig = pd.read_excel(xls_orig, exon5_sheet_names[0])    "
   ]
  },
  {
   "cell_type": "code",
   "execution_count": null,
   "id": "8fe64fba-aa62-4fbd-b54d-1e3e7507cac1",
   "metadata": {},
   "outputs": [],
   "source": [
    "xls_new = pd.ExcelFile(output_path)\n",
    "\n",
    "df_pathogenic_new = pd.read_excel(xls_new, pathogenic_sheet_names[0])\n",
    "df_vus_new = pd.read_excel(xls_new, vus_sheet_names[0])\n",
    "df_benign_new = pd.read_excel(xls_new, benign_sheet_names[0])\n",
    "df_exon5_new = pd.read_excel(xls_new, exon5_sheet_names[0])    "
   ]
  },
  {
   "cell_type": "markdown",
   "id": "b6caa5f1-029c-4365-9a46-dc6be33bc9f0",
   "metadata": {},
   "source": [
    "#### Show column renaming:"
   ]
  },
  {
   "cell_type": "code",
   "execution_count": null,
   "id": "b720c981-6d15-4b8f-b9ff-52d480ddb0d8",
   "metadata": {},
   "outputs": [],
   "source": [
    "def print_diffs(df, df_orig):\n",
    "    df_cols = sorted([x.strip() for x in list(df.columns)]) # TODo striping will omit some columns, how to handle this?\n",
    "    df_orig_cols = sorted([x.strip() for x in list(df_orig.columns)])\n",
    "    for i in range(0, len(df.columns)):\n",
    "        if df_cols[i] != df_orig_cols[i]:\n",
    "            print(f'difference: \"{df_orig_cols[i]}\" (orig) vs \"{df_cols[i]}\" (new)')"
   ]
  },
  {
   "cell_type": "code",
   "execution_count": null,
   "id": "9b50c1a4-ef8a-4956-a2da-9203c8c2c3fb",
   "metadata": {},
   "outputs": [],
   "source": [
    "print_diffs(df_pathogenic_new, df_pathogenic_orig)"
   ]
  },
  {
   "cell_type": "code",
   "execution_count": null,
   "id": "093d28dd-b24d-441b-ba08-72a4b95c5752",
   "metadata": {},
   "outputs": [],
   "source": [
    "print_diffs(df_benign_new, df_benign_orig)"
   ]
  },
  {
   "cell_type": "code",
   "execution_count": null,
   "id": "900426ad-7b10-4d6b-96e7-53af819a1d06",
   "metadata": {},
   "outputs": [],
   "source": [
    "print_diffs(df_vus_new, df_vus_orig)"
   ]
  },
  {
   "cell_type": "code",
   "execution_count": null,
   "id": "ae79a2fd-a80e-4082-a2dc-18f4b0cb8d4f",
   "metadata": {},
   "outputs": [],
   "source": [
    "print_diffs(df_exon5_new, df_exon5_orig)"
   ]
  },
  {
   "cell_type": "markdown",
   "id": "5db4a600-00be-4f4d-ad36-4778d7eef00a",
   "metadata": {},
   "source": [
    "#### Show that nothing else changed:"
   ]
  },
  {
   "cell_type": "code",
   "execution_count": null,
   "id": "5cc21f57-ece6-4991-9bab-5d3ead9b7d50",
   "metadata": {},
   "outputs": [],
   "source": [
    "df_benign_orig.columns = df_benign_new.columns\n",
    "assert df_benign_new.equals(df_benign_orig)"
   ]
  },
  {
   "cell_type": "code",
   "execution_count": null,
   "id": "d8c48e40-f7ec-4a4f-beec-d72f6e9e0b42",
   "metadata": {},
   "outputs": [],
   "source": [
    "df_vus_orig.columns = df_vus_new.columns\n",
    "assert df_vus_new.equals(df_vus_orig)"
   ]
  },
  {
   "cell_type": "code",
   "execution_count": null,
   "id": "9ee1567f-5464-43c4-9e5e-c665e7ba9343",
   "metadata": {},
   "outputs": [],
   "source": [
    "df_exon5_orig.columns = df_exon5_new.columns\n",
    "assert df_exon5_new.equals(df_exon5_orig)"
   ]
  },
  {
   "cell_type": "markdown",
   "id": "ae08aece-3864-433e-b9e9-2d1733d5c9cc",
   "metadata": {},
   "source": [
    "##### Slightly more difficult comparison for df_pathogenic: we have removed that one empty column:"
   ]
  },
  {
   "cell_type": "code",
   "execution_count": null,
   "id": "841a5d8b-84d7-41c5-817b-3cea23c1c9cf",
   "metadata": {},
   "outputs": [],
   "source": [
    "df_pathogenic_orig.columns = list(df_pathogenic_new.columns) + ['Unnamed: 15']"
   ]
  },
  {
   "cell_type": "code",
   "execution_count": null,
   "id": "813f3dc9-a3b3-4858-8cea-08fad2c50883",
   "metadata": {},
   "outputs": [],
   "source": [
    "df_pathogenic_new.shape"
   ]
  },
  {
   "cell_type": "code",
   "execution_count": null,
   "id": "d1796960-e26a-4927-b738-5b7da044e818",
   "metadata": {},
   "outputs": [],
   "source": [
    "df_pathogenic_orig.shape"
   ]
  },
  {
   "cell_type": "code",
   "execution_count": null,
   "id": "6488ccc2-55b3-4429-8a73-0b1001e527df",
   "metadata": {},
   "outputs": [],
   "source": [
    "df_pathogenic_orig['Unnamed: 15'].value_counts()"
   ]
  },
  {
   "cell_type": "code",
   "execution_count": null,
   "id": "5ae38dd3-b855-4edd-8fcd-fd2b70a5e916",
   "metadata": {},
   "outputs": [],
   "source": [
    "assert df_pathogenic_new.equals(df_pathogenic_orig[df_pathogenic_new.columns]), 'dfs should be the same apart from the unnamed column'"
   ]
  }
 ],
 "metadata": {
  "kernelspec": {
   "display_name": "Python 3 (ipykernel)",
   "language": "python",
   "name": "python3"
  },
  "language_info": {
   "codemirror_mode": {
    "name": "ipython",
    "version": 3
   },
   "file_extension": ".py",
   "mimetype": "text/x-python",
   "name": "python",
   "nbconvert_exporter": "python",
   "pygments_lexer": "ipython3",
   "version": "3.8.16"
  }
 },
 "nbformat": 4,
 "nbformat_minor": 5
}
