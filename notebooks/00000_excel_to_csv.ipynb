{
 "cells": [
  {
   "cell_type": "markdown",
   "id": "f2346431-c100-43a3-bc27-ea3ae98b7269",
   "metadata": {},
   "source": [
    "# Transform original excel data to CSV"
   ]
  },
  {
   "cell_type": "code",
   "execution_count": 2,
   "id": "877727dd-ecef-4f32-8e6b-732837414777",
   "metadata": {},
   "outputs": [],
   "source": [
    "import pandas as pd\n",
    "import os\n",
    "import helpers"
   ]
  },
  {
   "cell_type": "code",
   "execution_count": 3,
   "id": "12998234-49be-457d-a332-5b2bab371f7a",
   "metadata": {},
   "outputs": [
    {
     "ename": "AssertionError",
     "evalue": "version_number (= beginning of filename of this Python notebook before the underscore) must have length 4, now is 00000",
     "output_type": "error",
     "traceback": [
      "\u001b[0;31m---------------------------------------------------------------------------\u001b[0m",
      "\u001b[0;31mAssertionError\u001b[0m                            Traceback (most recent call last)",
      "Input \u001b[0;32mIn [3]\u001b[0m, in \u001b[0;36m<module>\u001b[0;34m\u001b[0m\n\u001b[1;32m      1\u001b[0m input_path \u001b[38;5;241m=\u001b[39m \u001b[38;5;124m'\u001b[39m\u001b[38;5;124m../database_original/[Data Only] Human TAFAZZIN Variants Database_v07-20-2023.xlsx\u001b[39m\u001b[38;5;124m'\u001b[39m\n\u001b[0;32m----> 2\u001b[0m output_path_prefix \u001b[38;5;241m=\u001b[39m \u001b[43mhelpers\u001b[49m\u001b[38;5;241;43m.\u001b[39;49m\u001b[43mcreate_database_output_path_prefix\u001b[49m\u001b[43m(\u001b[49m\u001b[43m)\u001b[49m\n",
      "File \u001b[0;32m~/bths/human-tafazzin-variants-database/notebooks/helpers.py:6\u001b[0m, in \u001b[0;36mcreate_database_output_path_prefix\u001b[0;34m(folder)\u001b[0m\n\u001b[1;32m      5\u001b[0m \u001b[38;5;28;01mdef\u001b[39;00m \u001b[38;5;21mcreate_database_output_path_prefix\u001b[39m(folder\u001b[38;5;241m=\u001b[39m\u001b[38;5;124m'\u001b[39m\u001b[38;5;124m../database_versions\u001b[39m\u001b[38;5;124m'\u001b[39m):\n\u001b[0;32m----> 6\u001b[0m     version_number \u001b[38;5;241m=\u001b[39m \u001b[43mget_version_number\u001b[49m\u001b[43m(\u001b[49m\u001b[43m)\u001b[49m\n\u001b[1;32m      7\u001b[0m     output_file_name_prefix \u001b[38;5;241m=\u001b[39m create_database_output_file_name_prefix(version_number)\n\u001b[1;32m      8\u001b[0m     output_path_prefix \u001b[38;5;241m=\u001b[39m os\u001b[38;5;241m.\u001b[39mpath\u001b[38;5;241m.\u001b[39mjoin(folder, output_file_name_prefix)\n",
      "File \u001b[0;32m~/bths/human-tafazzin-variants-database/notebooks/helpers.py:21\u001b[0m, in \u001b[0;36mget_version_number\u001b[0;34m(database_folder)\u001b[0m\n\u001b[1;32m     19\u001b[0m nb_fname \u001b[38;5;241m=\u001b[39m ipynbname\u001b[38;5;241m.\u001b[39mname()\n\u001b[1;32m     20\u001b[0m version_number \u001b[38;5;241m=\u001b[39m nb_fname\u001b[38;5;241m.\u001b[39msplit(\u001b[38;5;124m'\u001b[39m\u001b[38;5;124m_\u001b[39m\u001b[38;5;124m'\u001b[39m)[\u001b[38;5;241m0\u001b[39m]\n\u001b[0;32m---> 21\u001b[0m \u001b[38;5;28;01massert\u001b[39;00m \u001b[38;5;28mlen\u001b[39m(version_number) \u001b[38;5;241m==\u001b[39m \u001b[38;5;241m4\u001b[39m, \u001b[38;5;124mf\u001b[39m\u001b[38;5;124m'\u001b[39m\u001b[38;5;124mversion_number (= beginning of filename of this Python notebook before the underscore) must have length 4, now is \u001b[39m\u001b[38;5;132;01m{\u001b[39;00mversion_number\u001b[38;5;132;01m}\u001b[39;00m\u001b[38;5;124m'\u001b[39m\n\u001b[1;32m     22\u001b[0m \u001b[38;5;28;01massert\u001b[39;00m version_number\u001b[38;5;241m.\u001b[39misnumeric(), \u001b[38;5;124mf\u001b[39m\u001b[38;5;124m'\u001b[39m\u001b[38;5;124mversion_number (= beginning of filename of this Python notebook before the underscore) must be numeric, now is \u001b[39m\u001b[38;5;132;01m{\u001b[39;00mversion_number\u001b[38;5;132;01m}\u001b[39;00m\u001b[38;5;124m'\u001b[39m\n\u001b[1;32m     23\u001b[0m \u001b[38;5;28mprint\u001b[39m(\u001b[38;5;124m'\u001b[39m\u001b[38;5;124mversion number:\u001b[39m\u001b[38;5;124m'\u001b[39m, version_number)\n",
      "\u001b[0;31mAssertionError\u001b[0m: version_number (= beginning of filename of this Python notebook before the underscore) must have length 4, now is 00000"
     ]
    }
   ],
   "source": [
    "input_path = '../database_original/[Data Only] Human TAFAZZIN Variants Database_v07-20-2023.xlsx'\n",
    "output_path_prefix = helpers.create_database_output_path_prefix()"
   ]
  },
  {
   "cell_type": "markdown",
   "id": "5c66529f-eb71-4a50-93b2-1e7068cde02d",
   "metadata": {},
   "source": [
    "# Load excel data"
   ]
  },
  {
   "cell_type": "code",
   "execution_count": null,
   "id": "5418a783-686c-4edd-938c-e685c3ff02e5",
   "metadata": {},
   "outputs": [],
   "source": [
    "if not os.path.exists(input_path):\n",
    "    print('Please download the original database into `database_original` folder from https://drive.google.com/drive/folders/1O2MKa5FHsvq3hyjOVSsOZf37xkwKYAJ8 ')"
   ]
  },
  {
   "cell_type": "code",
   "execution_count": null,
   "id": "516b77e4-ff5b-4e08-9518-7a5479fce06f",
   "metadata": {},
   "outputs": [],
   "source": [
    "xls = pd.ExcelFile(input_path)\n",
    "sheet_names = xls.sheet_names\n",
    "print(sheet_names)"
   ]
  },
  {
   "cell_type": "code",
   "execution_count": null,
   "id": "9bfb8008-a038-4b4f-abe6-67633b8d51fe",
   "metadata": {},
   "outputs": [],
   "source": [
    "pathogenic_sheet_names = [a for a in sheet_names if 'PATHOGENIC' in a] \n",
    "assert len(pathogenic_sheet_names) == 1, 'we expect just one \"PATHOGENIC\" sheet'\n",
    "df_pathogenic = pd.read_excel(xls, pathogenic_sheet_names[0])\n",
    "    \n",
    "vus_sheet_names = [a for a in sheet_names if 'VUS' in a] \n",
    "assert len(vus_sheet_names) == 1, 'we expect just one \"VUS\" sheet'\n",
    "df_vus = pd.read_excel(xls, vus_sheet_names[0])\n",
    "    \n",
    "benign_sheet_names = [a for a in sheet_names if 'BENIGN' in a] \n",
    "assert len(benign_sheet_names) == 1, 'we expect just one \"BENIGN\" sheet'\n",
    "df_benign = pd.read_excel(xls, benign_sheet_names[0])\n",
    "    \n",
    "exon5_sheet_names = [a for a in sheet_names if 'EXON 5' in a] \n",
    "assert len(exon5_sheet_names) == 1, 'we expect just one \"EXON 5\" sheet'\n",
    "df_exon5 = pd.read_excel(xls, exon5_sheet_names[0])    "
   ]
  },
  {
   "cell_type": "code",
   "execution_count": null,
   "id": "61116fa4-b36a-44e6-a82a-9306d1142ee2",
   "metadata": {},
   "outputs": [],
   "source": [
    "print(df_pathogenic.shape)\n",
    "df_pathogenic.head(3)"
   ]
  },
  {
   "cell_type": "code",
   "execution_count": null,
   "id": "96584246-0c67-4d71-ad1e-8d6093202190",
   "metadata": {},
   "outputs": [],
   "source": [
    "print(df_vus.shape)\n",
    "df_vus.head(3)"
   ]
  },
  {
   "cell_type": "code",
   "execution_count": null,
   "id": "5413d8a1-916f-485d-b71c-9704c44c3728",
   "metadata": {},
   "outputs": [],
   "source": [
    "print(df_benign.shape)\n",
    "df_benign.head(3)"
   ]
  },
  {
   "cell_type": "code",
   "execution_count": null,
   "id": "bbbe1a02-50f0-4fc8-a599-992716ec7c6a",
   "metadata": {},
   "outputs": [],
   "source": [
    "print(df_exon5.shape)\n",
    "df_exon5.head(3)"
   ]
  },
  {
   "cell_type": "markdown",
   "id": "2e70abfe-df5a-4ba0-b746-6a1e3669c698",
   "metadata": {},
   "source": [
    "# Save as csvs"
   ]
  },
  {
   "cell_type": "code",
   "execution_count": null,
   "id": "f35eb696-e42a-4f1b-afc2-bc1ff78ce50a",
   "metadata": {},
   "outputs": [],
   "source": [
    "helpers.save_output_as_csv(output_path_prefix,\n",
    "             df_pathogenic=df_pathogenic,\n",
    "             df_benign=df_benign,\n",
    "             df_vus=df_vus,\n",
    "             df_exon5=df_exon5)"
   ]
  },
  {
   "cell_type": "markdown",
   "id": "781ccd9d-b1ac-4af8-a248-3b4d3fb7fdd1",
   "metadata": {},
   "source": [
    "# Load and compare old and new versions"
   ]
  },
  {
   "cell_type": "code",
   "execution_count": null,
   "id": "f76003c2-b387-4b40-9836-856887677ee2",
   "metadata": {},
   "outputs": [],
   "source": [
    "# remove working dataframes to make sure we are comparing only the saved excels\n",
    "\n",
    "del df_pathogenic\n",
    "del df_benign\n",
    "del df_vus\n",
    "del df_exon5"
   ]
  },
  {
   "cell_type": "code",
   "execution_count": null,
   "id": "2f433e56-899e-4315-95a1-ba79a9676706",
   "metadata": {},
   "outputs": [],
   "source": [
    "xls = pd.ExcelFile(input_path)\n",
    "sheet_names = xls.sheet_names\n",
    "print(sheet_names)"
   ]
  },
  {
   "cell_type": "code",
   "execution_count": null,
   "id": "890c2b70-c7a3-4f64-a709-cb9a98563b2f",
   "metadata": {},
   "outputs": [],
   "source": [
    "xls_orig = pd.ExcelFile(input_path)\n",
    "\n",
    "df_pathogenic_orig = pd.read_excel(xls_orig, pathogenic_sheet_names[0])\n",
    "df_vus_orig = pd.read_excel(xls_orig, vus_sheet_names[0])\n",
    "df_benign_orig = pd.read_excel(xls_orig, benign_sheet_names[0])\n",
    "df_exon5_orig = pd.read_excel(xls_orig, exon5_sheet_names[0]) "
   ]
  },
  {
   "cell_type": "code",
   "execution_count": null,
   "id": "c0cd25a4-8b66-43cd-b509-5606ff26655b",
   "metadata": {},
   "outputs": [],
   "source": [
    "df_pathogenic_new = pd.read_csv(output_path_prefix + 'pathogenic.csv')\n",
    "df_vus_new = pd.read_csv(output_path_prefix + 'vus.csv')\n",
    "df_exon5_new = pd.read_csv(output_path_prefix + 'exon5.csv')\n",
    "df_benign_new = pd.read_csv(output_path_prefix + 'benign.csv')"
   ]
  },
  {
   "cell_type": "code",
   "execution_count": null,
   "id": "531fff31-efd4-4ce1-9369-55a84ee92065",
   "metadata": {},
   "outputs": [],
   "source": [
    "assert df_pathogenic_new.equals(df_pathogenic_orig)"
   ]
  },
  {
   "cell_type": "code",
   "execution_count": null,
   "id": "aeb1466b-60f9-4b99-8f9a-924cab617218",
   "metadata": {},
   "outputs": [],
   "source": [
    "assert df_exon5_new.equals(df_exon5_orig)"
   ]
  },
  {
   "cell_type": "markdown",
   "id": "65ece97f-01cf-41fa-98a1-a9015a6fc67b",
   "metadata": {},
   "source": [
    "### For benign and vus, we have different types in one column which has mixed types:\n",
    "\n",
    "(this is OK and expected, probably just caused by difference in loading libraries of csv files vs excel files)"
   ]
  },
  {
   "cell_type": "code",
   "execution_count": null,
   "id": "31ba6349-5c09-4825-b25d-7cc14934fc77",
   "metadata": {},
   "outputs": [],
   "source": [
    "df_benign_new.compare(df_benign_orig)"
   ]
  },
  {
   "cell_type": "code",
   "execution_count": null,
   "id": "4b7f04f4-fbf0-4270-87b9-8d2c04139ce9",
   "metadata": {},
   "outputs": [],
   "source": [
    "df_benign_new['PolyPhen2 prediction'].iloc[20]"
   ]
  },
  {
   "cell_type": "code",
   "execution_count": null,
   "id": "ba6ecd5e-f608-49aa-9159-a753246b76ea",
   "metadata": {},
   "outputs": [],
   "source": [
    "df_benign_orig['PolyPhen2 prediction'].iloc[20]"
   ]
  },
  {
   "cell_type": "code",
   "execution_count": null,
   "id": "34318a50-3b9c-46ee-aba3-339dfba0e184",
   "metadata": {},
   "outputs": [],
   "source": [
    "df_benign_orig['PolyPhen2 prediction'].value_counts()"
   ]
  },
  {
   "cell_type": "code",
   "execution_count": null,
   "id": "3bc7e9ea-c66b-49d8-90fe-e2d98f3bdba9",
   "metadata": {},
   "outputs": [],
   "source": [
    "df_benign_new['PolyPhen2 prediction'].value_counts()"
   ]
  },
  {
   "cell_type": "code",
   "execution_count": null,
   "id": "9139641c-1776-4984-b288-2aa32a543934",
   "metadata": {},
   "outputs": [],
   "source": [
    "df_vus_new.compare(df_vus_orig)"
   ]
  },
  {
   "cell_type": "code",
   "execution_count": null,
   "id": "ccda01f1-fd99-4b6c-a36c-f3e28ef1e4da",
   "metadata": {},
   "outputs": [],
   "source": [
    "df_vus_new['PolyPhen2 prediction'].iloc[79]"
   ]
  },
  {
   "cell_type": "code",
   "execution_count": null,
   "id": "d6d8addd-925b-43b9-8e0c-98bf7e7e3d19",
   "metadata": {},
   "outputs": [],
   "source": [
    "df_vus_orig['PolyPhen2 prediction'].iloc[79]"
   ]
  },
  {
   "cell_type": "code",
   "execution_count": null,
   "id": "0ab0710e-dce4-411f-ae82-1d5da026f3ce",
   "metadata": {},
   "outputs": [],
   "source": [
    "df_vus_new['PolyPhen2 prediction'].value_counts()"
   ]
  },
  {
   "cell_type": "code",
   "execution_count": null,
   "id": "1bc31f68-eabf-4158-8e8b-f6d0a1db0b34",
   "metadata": {},
   "outputs": [],
   "source": [
    "df_vus_orig['PolyPhen2 prediction'].value_counts()"
   ]
  },
  {
   "cell_type": "markdown",
   "id": "4d445a0a-1c5f-47db-a6b2-e93a4a0b44e7",
   "metadata": {},
   "source": [
    "# Show new dataframes"
   ]
  },
  {
   "cell_type": "code",
   "execution_count": 1,
   "id": "911db9e8-07f1-470b-904e-a5f2557275c2",
   "metadata": {},
   "outputs": [
    {
     "ename": "NameError",
     "evalue": "name 'df_benign_new' is not defined",
     "output_type": "error",
     "traceback": [
      "\u001b[0;31m---------------------------------------------------------------------------\u001b[0m",
      "\u001b[0;31mNameError\u001b[0m                                 Traceback (most recent call last)",
      "Input \u001b[0;32mIn [1]\u001b[0m, in \u001b[0;36m<module>\u001b[0;34m\u001b[0m\n\u001b[0;32m----> 1\u001b[0m \u001b[43mdf_benign_new\u001b[49m\n",
      "\u001b[0;31mNameError\u001b[0m: name 'df_benign_new' is not defined"
     ]
    }
   ],
   "source": [
    "df_benign_new"
   ]
  }
 ],
 "metadata": {
  "kernelspec": {
   "display_name": "Python 3 (ipykernel)",
   "language": "python",
   "name": "python3"
  },
  "language_info": {
   "codemirror_mode": {
    "name": "ipython",
    "version": 3
   },
   "file_extension": ".py",
   "mimetype": "text/x-python",
   "name": "python",
   "nbconvert_exporter": "python",
   "pygments_lexer": "ipython3",
   "version": "3.8.16"
  }
 },
 "nbformat": 4,
 "nbformat_minor": 5
}
