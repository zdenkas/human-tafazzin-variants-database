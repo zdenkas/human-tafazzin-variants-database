{
 "cells": [
  {
   "cell_type": "markdown",
   "id": "050db310-0c26-4a8b-b0f5-6bf755adbf92",
   "metadata": {},
   "source": [
    "# Pipeline for 1.0.0\n",
    "\n",
    "Pipeline papermill ktery spusti notebooky po sobe\n"
   ]
  },
  {
   "cell_type": "raw",
   "id": "d2a1c017-111b-4ebe-b148-b9d2919c053a",
   "metadata": {},
   "source": [
    "TODO \n",
    "intermediate output in intermediate_pipeline_db_versions\n",
    "output: in database_versions dataset 1.0.0+timestamp\n",
    "\n",
    "TODO is this really useful???"
   ]
  }
 ],
 "metadata": {
  "kernelspec": {
   "display_name": "Python 3 (ipykernel)",
   "language": "python",
   "name": "python3"
  },
  "language_info": {
   "codemirror_mode": {
    "name": "ipython",
    "version": 3
   },
   "file_extension": ".py",
   "mimetype": "text/x-python",
   "name": "python",
   "nbconvert_exporter": "python",
   "pygments_lexer": "ipython3",
   "version": "3.8.16"
  }
 },
 "nbformat": 4,
 "nbformat_minor": 5
}
