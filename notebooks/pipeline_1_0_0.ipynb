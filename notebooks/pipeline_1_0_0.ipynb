{
 "cells": [
  {
   "cell_type": "markdown",
   "id": "050db310-0c26-4a8b-b0f5-6bf755adbf92",
   "metadata": {},
   "source": [
    "# Pipeline for 1.0.0\n",
    "\n",
    "Pipeline papermill which will run notebooks in order. Maybe in separate folder for each pipeline?\n"
   ]
  },
  {
   "cell_type": "markdown",
   "id": "b74b73e5-170e-468f-9bdd-e37266d034f6",
   "metadata": {},
   "source": [
    "TODO \n",
    "intermediate output in intermediate_pipeline_db_versions\n",
    "output: in database_versions dataset semantic versioning 1.0.0+timestamp (??? name zdenka_clean??)\n",
    "\n",
    "TODO is this really useful???"
   ]
  }
 ],
 "metadata": {
  "kernelspec": {
   "display_name": "Python 3 (ipykernel)",
   "language": "python",
   "name": "python3"
  },
  "language_info": {
   "codemirror_mode": {
    "name": "ipython",
    "version": 3
   },
   "file_extension": ".py",
   "mimetype": "text/x-python",
   "name": "python",
   "nbconvert_exporter": "python",
   "pygments_lexer": "ipython3",
   "version": "3.8.16"
  }
 },
 "nbformat": 4,
 "nbformat_minor": 5
}
