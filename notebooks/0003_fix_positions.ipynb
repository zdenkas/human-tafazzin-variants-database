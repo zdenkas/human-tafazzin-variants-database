{
 "cells": [
  {
   "cell_type": "markdown",
   "id": "724080f7-202a-4618-b0ba-14b86f1c024e",
   "metadata": {},
   "source": [
    "TODO Luki format??"
   ]
  },
  {
   "cell_type": "markdown",
   "id": "4e53e2ee-97f7-4387-af6d-212af3de82f6",
   "metadata": {},
   "source": [
    "Co prioritizovat? https://github.com/zdenkas/human-tafazzin-variants-database/blob/main/TODO.txt\n",
    "Konzistence cisel (pozic) a nukleotidu\n",
    "Jake k tomu pouzit data?\n",
    "Kolik nekonzistenci tam najdeme? Pak to poslat BSF\n"
   ]
  },
  {
   "cell_type": "raw",
   "id": "4f9aef6a-b0a4-4dae-9f74-b5caa71ec687",
   "metadata": {},
   "source": [
    "! pip install biopython"
   ]
  },
  {
   "cell_type": "code",
   "execution_count": 1,
   "id": "9e743aa0-c31a-4560-ad19-78ee0447e5e2",
   "metadata": {},
   "outputs": [],
   "source": [
    "import pandas as pd\n",
    "from Bio import SeqIO"
   ]
  },
  {
   "cell_type": "code",
   "execution_count": 13,
   "id": "adebcc4a-d37f-46b6-abfb-0a84174bb0fc",
   "metadata": {
    "tags": []
   },
   "outputs": [],
   "source": [
    "import helpers"
   ]
  },
  {
   "cell_type": "code",
   "execution_count": 14,
   "id": "49497dfd-9c1c-42d5-9d93-f9e3b54ce861",
   "metadata": {},
   "outputs": [],
   "source": [
    "database_folder = '../database_versions'"
   ]
  },
  {
   "cell_type": "code",
   "execution_count": 15,
   "id": "750d1512-fe7e-4087-ba31-a13d845a483d",
   "metadata": {},
   "outputs": [
    {
     "name": "stdout",
     "output_type": "stream",
     "text": [
      "version number: 0003\n",
      "database output path prefix: ../database_versions/0003_2024-01-11-16-43-35-282335_Human-TAFAZZIN-Variants-Database_\n"
     ]
    }
   ],
   "source": [
    "input_path_prefix = '../database_versions/0001_2023-10-30-21-51-49-628455_Human-TAFAZZIN-Variants-Database_' \n",
    "# TODO get this automatically in next notebooks\n",
    "\n",
    "output_path_prefix = helpers.create_database_output_path_prefix()"
   ]
  },
  {
   "cell_type": "code",
   "execution_count": 3,
   "id": "1f4a7882-909e-4183-beaf-6e1e23b239e6",
   "metadata": {},
   "outputs": [],
   "source": [
    "taz_cdna_path = '../data_external/Homo_sapiens_ENST00000601016_6_sequence.fa'\n",
    "taz_positions_path = '../data_external/ExonsSpreadsheet-Homo_sapiens_Transcript_Exons_ENST00000601016_whole_table.csv'"
   ]
  },
  {
   "cell_type": "markdown",
   "id": "31474d53-ac48-436d-8b37-f57c1b051822",
   "metadata": {},
   "source": [
    "### Load positions\n",
    "\n",
    "in hg38"
   ]
  },
  {
   "cell_type": "code",
   "execution_count": 4,
   "id": "f78b8ff2-0dd9-4dc0-ad46-ad8a24486a61",
   "metadata": {},
   "outputs": [],
   "source": [
    "taz_positions = pd.read_csv(taz_positions_path)"
   ]
  },
  {
   "cell_type": "code",
   "execution_count": 5,
   "id": "0834c47e-ad45-4f86-9f28-8299dbe996a3",
   "metadata": {},
   "outputs": [
    {
     "data": {
      "text/html": [
       "<div>\n",
       "<style scoped>\n",
       "    .dataframe tbody tr th:only-of-type {\n",
       "        vertical-align: middle;\n",
       "    }\n",
       "\n",
       "    .dataframe tbody tr th {\n",
       "        vertical-align: top;\n",
       "    }\n",
       "\n",
       "    .dataframe thead th {\n",
       "        text-align: right;\n",
       "    }\n",
       "</style>\n",
       "<table border=\"1\" class=\"dataframe\">\n",
       "  <thead>\n",
       "    <tr style=\"text-align: right;\">\n",
       "      <th></th>\n",
       "      <th>No.</th>\n",
       "      <th>Exon / Intron</th>\n",
       "      <th>Start</th>\n",
       "      <th>End</th>\n",
       "      <th>Start Phase</th>\n",
       "      <th>End Phase</th>\n",
       "      <th>Length</th>\n",
       "      <th>Sequence</th>\n",
       "    </tr>\n",
       "  </thead>\n",
       "  <tbody>\n",
       "    <tr>\n",
       "      <th>0</th>\n",
       "      <td>NaN</td>\n",
       "      <td>5' upstream sequence</td>\n",
       "      <td>NaN</td>\n",
       "      <td>NaN</td>\n",
       "      <td>NaN</td>\n",
       "      <td>NaN</td>\n",
       "      <td>NaN</td>\n",
       "      <td>{\"provisional\":{...</td>\n",
       "    </tr>\n",
       "    <tr>\n",
       "      <th>1</th>\n",
       "      <td>1</td>\n",
       "      <td>ENSE00003022330</td>\n",
       "      <td>154,411,539</td>\n",
       "      <td>154,411,952</td>\n",
       "      <td>-</td>\n",
       "      <td>1</td>\n",
       "      <td>414</td>\n",
       "      <td>{\"url\":\"/Homo_sa...</td>\n",
       "    </tr>\n",
       "    <tr>\n",
       "      <th>2</th>\n",
       "      <td></td>\n",
       "      <td>Intron 1-2</td>\n",
       "      <td>154,411,953</td>\n",
       "      <td>154,412,085</td>\n",
       "      <td>NaN</td>\n",
       "      <td>NaN</td>\n",
       "      <td>133</td>\n",
       "      <td>{\"provisional\":{...</td>\n",
       "    </tr>\n",
       "    <tr>\n",
       "      <th>3</th>\n",
       "      <td>2</td>\n",
       "      <td>ENSE00003127263</td>\n",
       "      <td>154,412,086</td>\n",
       "      <td>154,412,214</td>\n",
       "      <td>1</td>\n",
       "      <td>1</td>\n",
       "      <td>129</td>\n",
       "      <td>{\"provisional\":{...</td>\n",
       "    </tr>\n",
       "    <tr>\n",
       "      <th>4</th>\n",
       "      <td></td>\n",
       "      <td>Intron 2-3</td>\n",
       "      <td>154,412,215</td>\n",
       "      <td>154,413,206</td>\n",
       "      <td>NaN</td>\n",
       "      <td>NaN</td>\n",
       "      <td>992</td>\n",
       "      <td>{\"provisional\":{...</td>\n",
       "    </tr>\n",
       "    <tr>\n",
       "      <th>5</th>\n",
       "      <td>3</td>\n",
       "      <td>ENSE00003736420</td>\n",
       "      <td>154,413,207</td>\n",
       "      <td>154,413,252</td>\n",
       "      <td>1</td>\n",
       "      <td>2</td>\n",
       "      <td>46</td>\n",
       "      <td>{\"url\":\"/Homo_sa...</td>\n",
       "    </tr>\n",
       "    <tr>\n",
       "      <th>6</th>\n",
       "      <td></td>\n",
       "      <td>Intron 3-4</td>\n",
       "      <td>154,413,253</td>\n",
       "      <td>154,413,481</td>\n",
       "      <td>NaN</td>\n",
       "      <td>NaN</td>\n",
       "      <td>229</td>\n",
       "      <td>{\"provisional\":{...</td>\n",
       "    </tr>\n",
       "    <tr>\n",
       "      <th>7</th>\n",
       "      <td>4</td>\n",
       "      <td>ENSE00003017673</td>\n",
       "      <td>154,413,482</td>\n",
       "      <td>154,413,567</td>\n",
       "      <td>2</td>\n",
       "      <td>1</td>\n",
       "      <td>86</td>\n",
       "      <td>{\"provisional\":{...</td>\n",
       "    </tr>\n",
       "    <tr>\n",
       "      <th>8</th>\n",
       "      <td></td>\n",
       "      <td>Intron 4-5</td>\n",
       "      <td>154,413,568</td>\n",
       "      <td>154,414,100</td>\n",
       "      <td>NaN</td>\n",
       "      <td>NaN</td>\n",
       "      <td>533</td>\n",
       "      <td>{\"url\":\"/Homo_sa...</td>\n",
       "    </tr>\n",
       "    <tr>\n",
       "      <th>9</th>\n",
       "      <td>5</td>\n",
       "      <td>ENSE00003050674</td>\n",
       "      <td>154,414,101</td>\n",
       "      <td>154,414,190</td>\n",
       "      <td>1</td>\n",
       "      <td>1</td>\n",
       "      <td>90</td>\n",
       "      <td>{\"provisional\":{...</td>\n",
       "    </tr>\n",
       "    <tr>\n",
       "      <th>10</th>\n",
       "      <td></td>\n",
       "      <td>Intron 5-6</td>\n",
       "      <td>154,414,191</td>\n",
       "      <td>154,419,542</td>\n",
       "      <td>NaN</td>\n",
       "      <td>NaN</td>\n",
       "      <td>5,352</td>\n",
       "      <td>{\"provisional\":{...</td>\n",
       "    </tr>\n",
       "    <tr>\n",
       "      <th>11</th>\n",
       "      <td>6</td>\n",
       "      <td>ENSE00003154518</td>\n",
       "      <td>154,419,543</td>\n",
       "      <td>154,419,623</td>\n",
       "      <td>1</td>\n",
       "      <td>1</td>\n",
       "      <td>81</td>\n",
       "      <td>{\"provisional\":{...</td>\n",
       "    </tr>\n",
       "    <tr>\n",
       "      <th>12</th>\n",
       "      <td></td>\n",
       "      <td>Intron 6-7</td>\n",
       "      <td>154,419,624</td>\n",
       "      <td>154,419,704</td>\n",
       "      <td>NaN</td>\n",
       "      <td>NaN</td>\n",
       "      <td>81</td>\n",
       "      <td>{\"url\":\"/Homo_sa...</td>\n",
       "    </tr>\n",
       "    <tr>\n",
       "      <th>13</th>\n",
       "      <td>7</td>\n",
       "      <td>ENSE00003158525</td>\n",
       "      <td>154,419,705</td>\n",
       "      <td>154,419,746</td>\n",
       "      <td>1</td>\n",
       "      <td>1</td>\n",
       "      <td>42</td>\n",
       "      <td>{\"url\":\"/Homo_sa...</td>\n",
       "    </tr>\n",
       "    <tr>\n",
       "      <th>14</th>\n",
       "      <td></td>\n",
       "      <td>Intron 7-8</td>\n",
       "      <td>154,419,747</td>\n",
       "      <td>154,420,031</td>\n",
       "      <td>NaN</td>\n",
       "      <td>NaN</td>\n",
       "      <td>285</td>\n",
       "      <td>{\"url\":\"/Homo_sa...</td>\n",
       "    </tr>\n",
       "    <tr>\n",
       "      <th>15</th>\n",
       "      <td>8</td>\n",
       "      <td>ENSE00003787276</td>\n",
       "      <td>154,420,032</td>\n",
       "      <td>154,420,094</td>\n",
       "      <td>1</td>\n",
       "      <td>1</td>\n",
       "      <td>63</td>\n",
       "      <td>{\"url\":\"/Homo_sa...</td>\n",
       "    </tr>\n",
       "    <tr>\n",
       "      <th>16</th>\n",
       "      <td></td>\n",
       "      <td>Intron 8-9</td>\n",
       "      <td>154,420,095</td>\n",
       "      <td>154,420,211</td>\n",
       "      <td>NaN</td>\n",
       "      <td>NaN</td>\n",
       "      <td>117</td>\n",
       "      <td>{\"provisional\":{...</td>\n",
       "    </tr>\n",
       "    <tr>\n",
       "      <th>17</th>\n",
       "      <td>9</td>\n",
       "      <td>ENSE00003724812</td>\n",
       "      <td>154,420,212</td>\n",
       "      <td>154,420,264</td>\n",
       "      <td>1</td>\n",
       "      <td>0</td>\n",
       "      <td>53</td>\n",
       "      <td>{\"provisional\":{...</td>\n",
       "    </tr>\n",
       "    <tr>\n",
       "      <th>18</th>\n",
       "      <td></td>\n",
       "      <td>Intron 9-10</td>\n",
       "      <td>154,420,265</td>\n",
       "      <td>154,420,657</td>\n",
       "      <td>NaN</td>\n",
       "      <td>NaN</td>\n",
       "      <td>393</td>\n",
       "      <td>{\"provisional\":{...</td>\n",
       "    </tr>\n",
       "    <tr>\n",
       "      <th>19</th>\n",
       "      <td>10</td>\n",
       "      <td>ENSE00003736683</td>\n",
       "      <td>154,420,658</td>\n",
       "      <td>154,420,735</td>\n",
       "      <td>0</td>\n",
       "      <td>0</td>\n",
       "      <td>78</td>\n",
       "      <td>{\"url\":\"/Homo_sa...</td>\n",
       "    </tr>\n",
       "  </tbody>\n",
       "</table>\n",
       "</div>"
      ],
      "text/plain": [
       "    No.         Exon / Intron        Start          End Start Phase End Phase  \\\n",
       "0   NaN  5' upstream sequence          NaN          NaN         NaN       NaN   \n",
       "1     1       ENSE00003022330  154,411,539  154,411,952           -         1   \n",
       "2                  Intron 1-2  154,411,953  154,412,085         NaN       NaN   \n",
       "3     2       ENSE00003127263  154,412,086  154,412,214           1         1   \n",
       "4                  Intron 2-3  154,412,215  154,413,206         NaN       NaN   \n",
       "5     3       ENSE00003736420  154,413,207  154,413,252           1         2   \n",
       "6                  Intron 3-4  154,413,253  154,413,481         NaN       NaN   \n",
       "7     4       ENSE00003017673  154,413,482  154,413,567           2         1   \n",
       "8                  Intron 4-5  154,413,568  154,414,100         NaN       NaN   \n",
       "9     5       ENSE00003050674  154,414,101  154,414,190           1         1   \n",
       "10                 Intron 5-6  154,414,191  154,419,542         NaN       NaN   \n",
       "11    6       ENSE00003154518  154,419,543  154,419,623           1         1   \n",
       "12                 Intron 6-7  154,419,624  154,419,704         NaN       NaN   \n",
       "13    7       ENSE00003158525  154,419,705  154,419,746           1         1   \n",
       "14                 Intron 7-8  154,419,747  154,420,031         NaN       NaN   \n",
       "15    8       ENSE00003787276  154,420,032  154,420,094           1         1   \n",
       "16                 Intron 8-9  154,420,095  154,420,211         NaN       NaN   \n",
       "17    9       ENSE00003724812  154,420,212  154,420,264           1         0   \n",
       "18                Intron 9-10  154,420,265  154,420,657         NaN       NaN   \n",
       "19   10       ENSE00003736683  154,420,658  154,420,735           0         0   \n",
       "\n",
       "   Length                                           Sequence  \n",
       "0     NaN                                {\"provisional\":{...  \n",
       "1     414                                {\"url\":\"/Homo_sa...  \n",
       "2     133                                {\"provisional\":{...  \n",
       "3     129                                {\"provisional\":{...  \n",
       "4     992                                {\"provisional\":{...  \n",
       "5      46                                {\"url\":\"/Homo_sa...  \n",
       "6     229                                {\"provisional\":{...  \n",
       "7      86                                {\"provisional\":{...  \n",
       "8     533                                {\"url\":\"/Homo_sa...  \n",
       "9      90                                {\"provisional\":{...  \n",
       "10  5,352                                {\"provisional\":{...  \n",
       "11     81                                {\"provisional\":{...  \n",
       "12     81                                {\"url\":\"/Homo_sa...  \n",
       "13     42                                {\"url\":\"/Homo_sa...  \n",
       "14    285                                {\"url\":\"/Homo_sa...  \n",
       "15     63                                {\"url\":\"/Homo_sa...  \n",
       "16    117                                {\"provisional\":{...  \n",
       "17     53                                {\"provisional\":{...  \n",
       "18    393                                {\"provisional\":{...  \n",
       "19     78                                {\"url\":\"/Homo_sa...  "
      ]
     },
     "execution_count": 5,
     "metadata": {},
     "output_type": "execute_result"
    }
   ],
   "source": [
    "taz_positions.head(20)"
   ]
  },
  {
   "cell_type": "markdown",
   "id": "0d669799-6013-4beb-bc09-0dc453ec5ccd",
   "metadata": {},
   "source": [
    "### Load cdna"
   ]
  },
  {
   "cell_type": "code",
   "execution_count": 6,
   "id": "00b4619c-1970-4c09-8f22-5e9190b04831",
   "metadata": {
    "collapsed": true,
    "jupyter": {
     "outputs_hidden": true
    },
    "tags": []
   },
   "outputs": [
    {
     "name": "stdout",
     "output_type": "stream",
     "text": [
      "ENST00000601016.6\n",
      "ENST00000601016.6\n",
      "ENST00000601016.6 TAFAZZIN-213 cdna:protein_coding\n",
      "Seq('GCTTTCCGGCGGTTGCACCGGGCCGGGGTGCCAGCGCCCGCCTTCCCGTTTCCT...AAA')\n",
      "1906\n",
      "-----\n",
      "TAFAZZIN-213\n",
      "TAFAZZIN-213\n",
      "TAFAZZIN-213 cds:protein_coding\n",
      "Seq('ATGCCTCTGCACGTGAAGTGGCCGTTCCCCGCGGTGCCGCCGCTCACCTGGACC...TAG')\n",
      "879\n",
      "-----\n",
      "TAFAZZIN-213\n",
      "TAFAZZIN-213\n",
      "TAFAZZIN-213 ENSE00003022330 exon:protein_coding\n",
      "Seq('GCTTTCCGGCGGTTGCACCGGGCCGGGGTGCCAGCGCCCGCCTTCCCGTTTCCT...CCA')\n",
      "414\n",
      "-----\n",
      "TAFAZZIN-213\n",
      "TAFAZZIN-213\n",
      "TAFAZZIN-213 ENSE00003127263 exon:protein_coding\n",
      "Seq('AGTACATGAACCACCTGACCGTGCACAACAGGGAGGTGCTGTACGAGCTCATCG...GGG')\n",
      "129\n",
      "-----\n",
      "TAFAZZIN-213\n",
      "TAFAZZIN-213\n",
      "TAFAZZIN-213 ENSE00003736420 exon:protein_coding\n",
      "Seq('GGATCCTGAAACTCCGCCACATCTGGAACCTGAAGTTGATGCGTTG')\n",
      "46\n",
      "-----\n",
      "TAFAZZIN-213\n",
      "TAFAZZIN-213\n",
      "TAFAZZIN-213 ENSE00003017673 exon:protein_coding\n",
      "Seq('GACCCCTGCAGCTGCAGACATCTGCTTCACCAAGGAGCTACACTCCCACTTCTT...GAG')\n",
      "86\n",
      "-----\n",
      "TAFAZZIN-213\n",
      "TAFAZZIN-213\n",
      "TAFAZZIN-213 ENSE00003050674 exon:protein_coding\n",
      "Seq('GAGCAGAATTTTTCCAAGCAGAGAATGAGGGGAAAGGTGTTCTAGACACAGGCA...AAG')\n",
      "90\n",
      "-----\n",
      "TAFAZZIN-213\n",
      "TAFAZZIN-213\n",
      "TAFAZZIN-213 ENSE00003154518 exon:protein_coding\n",
      "Seq('GAGATGGCGTCTACCAGAAGGGGATGGACTTCATTTTGGAGAAGCTCAACCATG...AAG')\n",
      "81\n",
      "-----\n",
      "TAFAZZIN-213\n",
      "TAFAZZIN-213\n",
      "TAFAZZIN-213 ENSE00003158525 exon:protein_coding\n",
      "Seq('GGAAAGTGAACATGAGTTCCGAATTCCTGCGTTTCAAGTGGG')\n",
      "42\n",
      "-----\n",
      "TAFAZZIN-213\n",
      "TAFAZZIN-213\n",
      "TAFAZZIN-213 ENSE00003787276 exon:protein_coding\n",
      "Seq('GAATCGGGCGCCTGATTGCTGAGTGTCATCTCAACCCCATCATCCTGCCCCTGT...TCG')\n",
      "63\n",
      "-----\n",
      "TAFAZZIN-213\n",
      "TAFAZZIN-213\n",
      "TAFAZZIN-213 ENSE00003724812 exon:protein_coding\n",
      "Seq('GAATGAATGACGTCCTTCCTAACAGTCCGCCCTACTTCCCCCGCTTTGGACAG')\n",
      "53\n",
      "-----\n",
      "TAFAZZIN-213\n",
      "TAFAZZIN-213\n",
      "TAFAZZIN-213 ENSE00003736683 exon:protein_coding\n",
      "Seq('AAAATCACTGTGCTGATCGGGAAGCCCTTCAGTGCCCTGCCTGTACTCGAGCGG...GCT')\n",
      "78\n",
      "-----\n",
      "TAFAZZIN-213\n",
      "TAFAZZIN-213\n",
      "TAFAZZIN-213 ENSE00003627163 exon:protein_coding\n",
      "Seq('GTGGAGATGCGGAAAGCCCTGACGGACTTCATTCAAGAGGAATTCCAGCATCTG...AAA')\n",
      "824\n",
      "-----\n",
      "TAFAZZIN-213\n",
      "TAFAZZIN-213\n",
      "TAFAZZIN-213 intron 1:protein_coding\n",
      "Seq('GTGAGTGGGCCCAGGCCGAGGCAGGCCCGCCCGGGTACCCATGCCCGGCCGGAG...CAG')\n",
      "133\n",
      "-----\n",
      "TAFAZZIN-213\n",
      "TAFAZZIN-213\n",
      "TAFAZZIN-213 intron 2:protein_coding\n",
      "Seq('GTACCCGGGCCAGTGTGCTGGGCAGGGGGAGGAAAGGCGAGGATTCGGGACGGG...TAG')\n",
      "992\n",
      "-----\n",
      "TAFAZZIN-213\n",
      "TAFAZZIN-213\n",
      "TAFAZZIN-213 intron 3:protein_coding\n",
      "Seq('GTGAGGAGGAATGGGCCCCTCGAAGTGGGCCGGGCCGGCCCCACCTGCCTCTGC...TAG')\n",
      "229\n",
      "-----\n",
      "TAFAZZIN-213\n",
      "TAFAZZIN-213\n",
      "TAFAZZIN-213 intron 4:protein_coding\n",
      "Seq('GTGAGCTGCTCCTCCAGCGAGTGCAGGGAGGCACTTCTGGGGCAGGAAAGCTGG...CAG')\n",
      "533\n",
      "-----\n",
      "TAFAZZIN-213\n",
      "TAFAZZIN-213\n",
      "TAFAZZIN-213 intron 5:protein_coding\n",
      "Seq('GTAAGCCAGGCATAGCGGTTCACACTTGTCATCCCAGCACTTTGTGAGGTCGAG...CAG')\n",
      "5352\n",
      "-----\n",
      "TAFAZZIN-213\n",
      "TAFAZZIN-213\n",
      "TAFAZZIN-213 intron 6:protein_coding\n",
      "Seq('GTCAGCAGGGCTGACTGGGTCGAGCCCCCCCAGTATGAGCGGGATGGGCTCCCA...CAG')\n",
      "81\n",
      "-----\n",
      "TAFAZZIN-213\n",
      "TAFAZZIN-213\n",
      "TAFAZZIN-213 intron 7:protein_coding\n",
      "Seq('GTAAGGGCTGCTGGTCTCTGGCCACAGCCATCCTCCCGGCCCAGAGATGGCCCT...CAG')\n",
      "285\n",
      "-----\n",
      "TAFAZZIN-213\n",
      "TAFAZZIN-213\n",
      "TAFAZZIN-213 intron 8:protein_coding\n",
      "Seq('GTGAGCCTGGGGACGGGGACAGAGAGATGGCATCTGGGGTGGGGGGCCTGGGAC...CAG')\n",
      "117\n",
      "-----\n",
      "TAFAZZIN-213\n",
      "TAFAZZIN-213\n",
      "TAFAZZIN-213 intron 9:protein_coding\n",
      "Seq('GTGGGTGGGGACTGCTGACCTTCGGCTGTCTGCCTGTCTGCTGTCTGCTCCGTG...CAG')\n",
      "393\n",
      "-----\n",
      "TAFAZZIN-213\n",
      "TAFAZZIN-213\n",
      "TAFAZZIN-213 intron 10:protein_coding\n",
      "Seq('GTGAGTTTCCTCCTGGGTCCCCCGTAGCTGTCCCCGGACCCCCTGCTGCTGGCT...CAG')\n",
      "167\n",
      "-----\n",
      "TAFAZZIN-213\n",
      "TAFAZZIN-213\n",
      "TAFAZZIN-213 peptide: ENSP00000469981 pep:protein_coding\n",
      "Seq('MPLHVKWPFPAVPPLTWTLASSVVMGLVGTYSCFWTKYMNHLTVHNREVLYELI...PGR')\n",
      "292\n",
      "-----\n",
      "TAFAZZIN-213\n",
      "TAFAZZIN-213\n",
      "TAFAZZIN-213 utr3:protein_coding\n",
      "Seq('GCCTTGCTTGCTGCCTTCTGGATTCTTGGCCCGCACAGAGCTGGGGCTGAGGGA...AAA')\n",
      "722\n",
      "-----\n",
      "TAFAZZIN-213\n",
      "TAFAZZIN-213\n",
      "TAFAZZIN-213 utr5:protein_coding\n",
      "Seq('GCTTTCCGGCGGTTGCACCGGGCCGGGGTGCCAGCGCCCGCCTTCCCGTTTCCT...GGG')\n",
      "305\n",
      "-----\n",
      "X\n",
      "X\n",
      "X dna:chromosome chromosome:GRCh38:X:154411539:154421726:1\n",
      "Seq('GCTTTCCGGCGGTTGCACCGGGCCGGGGTGCCAGCGCCCGCCTTCCCGTTTCCT...AAA')\n",
      "10188\n",
      "-----\n"
     ]
    }
   ],
   "source": [
    "for seq_record in SeqIO.parse(taz_cdna_path, \"fasta\"):\n",
    "    print(seq_record.id)\n",
    "    print(seq_record.name)\n",
    "    print(seq_record.description)\n",
    "    print(repr(seq_record.seq))\n",
    "    print(len(seq_record))\n",
    "    print('-----')"
   ]
  },
  {
   "cell_type": "code",
   "execution_count": 7,
   "id": "91ea0252-0d94-454a-a255-ed92ca8c13fa",
   "metadata": {},
   "outputs": [
    {
     "data": {
      "text/plain": [
       "10188"
      ]
     },
     "execution_count": 7,
     "metadata": {},
     "output_type": "execute_result"
    }
   ],
   "source": [
    "len(seq_record)"
   ]
  },
  {
   "cell_type": "code",
   "execution_count": 8,
   "id": "84c64ff3-e952-4bf5-8797-353d11a6103a",
   "metadata": {},
   "outputs": [
    {
     "data": {
      "text/plain": [
       "Seq('GCTTTCCGGCGGTTGCACCGGGCCGGGGTGCCAGCGCCCGCCTTCCCGTTTCCT...AAA')"
      ]
     },
     "execution_count": 8,
     "metadata": {},
     "output_type": "execute_result"
    }
   ],
   "source": [
    "seq_record.seq"
   ]
  },
  {
   "cell_type": "code",
   "execution_count": 9,
   "id": "b5b2c265-5c4b-4779-9bf3-7f95a3736abe",
   "metadata": {},
   "outputs": [
    {
     "data": {
      "text/plain": [
       "'A'"
      ]
     },
     "execution_count": 9,
     "metadata": {},
     "output_type": "execute_result"
    }
   ],
   "source": [
    "seq_record.seq[-1]"
   ]
  },
  {
   "cell_type": "code",
   "execution_count": 10,
   "id": "28018b42-409b-4da5-a953-91051f837c58",
   "metadata": {},
   "outputs": [
    {
     "data": {
      "text/plain": [
       "SeqRecord(seq=Seq('GCTTTCCGGCGGTTGCACCGGGCCGGGGTGCCAGCGCCCGCCTTCCCGTTTCCT...AAA'), id='X', name='X', description='X dna:chromosome chromosome:GRCh38:X:154411539:154421726:1', dbxrefs=[])"
      ]
     },
     "execution_count": 10,
     "metadata": {},
     "output_type": "execute_result"
    }
   ],
   "source": [
    "seq_record"
   ]
  },
  {
   "cell_type": "markdown",
   "id": "d1923492-5cbd-47e2-b1dc-1fc222f6cd3b",
   "metadata": {},
   "source": [
    "### Load Tafazzin database"
   ]
  },
  {
   "cell_type": "code",
   "execution_count": 17,
   "id": "76f9465f-4f81-4437-8932-756888b18353",
   "metadata": {},
   "outputs": [],
   "source": [
    "df_pathogenic = pd.read_csv(input_path_prefix + 'pathogenic.csv')\n",
    "df_vus = pd.read_csv(input_path_prefix + 'vus.csv')\n",
    "df_exon5 = pd.read_csv(input_path_prefix + 'exon5.csv')\n",
    "df_benign = pd.read_csv(input_path_prefix + 'benign.csv')"
   ]
  },
  {
   "cell_type": "code",
   "execution_count": 20,
   "id": "e8ed74a2-d20f-45f2-9058-a42aca7ea62c",
   "metadata": {},
   "outputs": [
    {
     "data": {
      "text/html": [
       "<div>\n",
       "<style scoped>\n",
       "    .dataframe tbody tr th:only-of-type {\n",
       "        vertical-align: middle;\n",
       "    }\n",
       "\n",
       "    .dataframe tbody tr th {\n",
       "        vertical-align: top;\n",
       "    }\n",
       "\n",
       "    .dataframe thead th {\n",
       "        text-align: right;\n",
       "    }\n",
       "</style>\n",
       "<table border=\"1\" class=\"dataframe\">\n",
       "  <thead>\n",
       "    <tr style=\"text-align: right;\">\n",
       "      <th></th>\n",
       "      <th>Location</th>\n",
       "      <th>Location in Genome release 37 (hg19)</th>\n",
       "      <th>Location in Genome release 38 (hg38)</th>\n",
       "      <th>Protein Variant Type</th>\n",
       "      <th>Impact of Variant</th>\n",
       "      <th>DNA Modifications</th>\n",
       "      <th>Protein or mRNA Variants</th>\n",
       "      <th>Functional outcome (MLCL/CL ratio)</th>\n",
       "      <th>Taffazin Functional motifs</th>\n",
       "      <th>Method of Validation</th>\n",
       "      <th>References</th>\n",
       "      <th>Source</th>\n",
       "      <th>Additional variants in other genes</th>\n",
       "      <th>Location and Order of Discovery</th>\n",
       "      <th>Notes</th>\n",
       "      <th>Unnamed: 15</th>\n",
       "    </tr>\n",
       "  </thead>\n",
       "  <tbody>\n",
       "    <tr>\n",
       "      <th>0</th>\n",
       "      <td>Exon 1</td>\n",
       "      <td>X:153640189</td>\n",
       "      <td>X:154411852</td>\n",
       "      <td>Frameshift</td>\n",
       "      <td>NaN</td>\n",
       "      <td>c.9_10dupG</td>\n",
       "      <td>p.His4Alafs*130</td>\n",
       "      <td>MLCL/CL elevated</td>\n",
       "      <td>NaN</td>\n",
       "      <td>NaN</td>\n",
       "      <td>Ref. 1 (Pat.1); Ref. 80;  Ref. 113</td>\n",
       "      <td>NaN</td>\n",
       "      <td>NaN</td>\n",
       "      <td>1-1</td>\n",
       "      <td>NaN</td>\n",
       "      <td>NaN</td>\n",
       "    </tr>\n",
       "  </tbody>\n",
       "</table>\n",
       "</div>"
      ],
      "text/plain": [
       "  Location Location in Genome release 37 (hg19)  \\\n",
       "0   Exon 1                          X:153640189   \n",
       "\n",
       "  Location in Genome release 38 (hg38) Protein Variant Type Impact of Variant  \\\n",
       "0                          X:154411852           Frameshift               NaN   \n",
       "\n",
       "  DNA Modifications Protein or mRNA Variants  \\\n",
       "0        c.9_10dupG          p.His4Alafs*130   \n",
       "\n",
       "  Functional outcome (MLCL/CL ratio)  Taffazin Functional motifs  \\\n",
       "0                   MLCL/CL elevated                         NaN   \n",
       "\n",
       "  Method of Validation                          References Source  \\\n",
       "0                  NaN  Ref. 1 (Pat.1); Ref. 80;  Ref. 113    NaN   \n",
       "\n",
       "  Additional variants in other genes Location and Order of Discovery Notes  \\\n",
       "0                                NaN                             1-1   NaN   \n",
       "\n",
       "  Unnamed: 15  \n",
       "0         NaN  "
      ]
     },
     "execution_count": 20,
     "metadata": {},
     "output_type": "execute_result"
    }
   ],
   "source": [
    "df_pathogenic.head(1)"
   ]
  },
  {
   "cell_type": "code",
   "execution_count": 44,
   "id": "74d812aa-11af-436b-a098-7d54f10e8bdc",
   "metadata": {},
   "outputs": [],
   "source": [
    "loc_38_col = 'Location in Genome release 38 (hg38)'\n",
    "loc_37_col = 'Location in Genome release 37 (hg19)'\n",
    "dna_modif_col = 'DNA Modifications'"
   ]
  },
  {
   "cell_type": "code",
   "execution_count": 45,
   "id": "03e09e3e-a67a-4a3b-b65d-c11555734cbc",
   "metadata": {},
   "outputs": [],
   "source": [
    "for key, row in df_pathogenic.iterrows():\n",
    "    taz_database_38 = int(row[loc_38_col].split(':')[1])\n",
    "    taz_database_37 = int(row[loc_37_col].split(':')[1])\n",
    "    taz_database_dna_modif = row[dna_modif_col]\n",
    "    break"
   ]
  },
  {
   "cell_type": "code",
   "execution_count": 46,
   "id": "8c09bb51-d1c8-49a7-a238-6bc749aa9ae4",
   "metadata": {},
   "outputs": [
    {
     "data": {
      "text/plain": [
       "154411852"
      ]
     },
     "execution_count": 46,
     "metadata": {},
     "output_type": "execute_result"
    }
   ],
   "source": [
    "taz_database_38"
   ]
  },
  {
   "cell_type": "code",
   "execution_count": 47,
   "id": "8d4bad78-ef1a-416e-9e3c-12057489c2e3",
   "metadata": {},
   "outputs": [
    {
     "data": {
      "text/plain": [
       "153640189"
      ]
     },
     "execution_count": 47,
     "metadata": {},
     "output_type": "execute_result"
    }
   ],
   "source": [
    "taz_database_37"
   ]
  },
  {
   "cell_type": "code",
   "execution_count": 48,
   "id": "7956bd3b-73ff-4b48-938f-8ad639243274",
   "metadata": {},
   "outputs": [
    {
     "data": {
      "text/plain": [
       "'c.9_10dupG'"
      ]
     },
     "execution_count": 48,
     "metadata": {},
     "output_type": "execute_result"
    }
   ],
   "source": [
    "taz_database_dna_modif"
   ]
  },
  {
   "cell_type": "code",
   "execution_count": 19,
   "id": "a8a82d9f-3063-4779-8db2-176710f5d808",
   "metadata": {},
   "outputs": [
    {
     "data": {
      "text/plain": [
       "Exon 8                 61\n",
       "Exon 2                 53\n",
       "Exon 3                 41\n",
       "Exon 4                 39\n",
       "Exon 10                33\n",
       "Exon 6                 31\n",
       "Large Deletion         30\n",
       "Exon 7                 14\n",
       "Exon 11                14\n",
       "Exon 9                 14\n",
       "Intron 1               12\n",
       "Intron 10              10\n",
       "Exon 1                  9\n",
       "Intron 3                8\n",
       "Intron 6                7\n",
       "Intron 5                7\n",
       "Intron 7                6\n",
       "Intron 9                6\n",
       "Intron 2                5\n",
       "Intron 4                2\n",
       "No Mutation             2\n",
       "Intron 8                1\n",
       "Chromosomal Changes     1\n",
       "Name: Location, dtype: int64"
      ]
     },
     "execution_count": 19,
     "metadata": {},
     "output_type": "execute_result"
    }
   ],
   "source": [
    "df_pathogenic.Location.value_counts()"
   ]
  }
 ],
 "metadata": {
  "kernelspec": {
   "display_name": "Python 3 (ipykernel)",
   "language": "python",
   "name": "python3"
  },
  "language_info": {
   "codemirror_mode": {
    "name": "ipython",
    "version": 3
   },
   "file_extension": ".py",
   "mimetype": "text/x-python",
   "name": "python",
   "nbconvert_exporter": "python",
   "pygments_lexer": "ipython3",
   "version": "3.8.16"
  }
 },
 "nbformat": 4,
 "nbformat_minor": 5
}
