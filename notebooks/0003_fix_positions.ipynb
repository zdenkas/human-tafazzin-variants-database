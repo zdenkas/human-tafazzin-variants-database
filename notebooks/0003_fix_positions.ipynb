{
 "cells": [
  {
   "cell_type": "markdown",
   "id": "724080f7-202a-4618-b0ba-14b86f1c024e",
   "metadata": {},
   "source": [
    "TODO Luki format??"
   ]
  },
  {
   "cell_type": "markdown",
   "id": "4e53e2ee-97f7-4387-af6d-212af3de82f6",
   "metadata": {},
   "source": [
    "Co prioritizovat? https://github.com/zdenkas/human-tafazzin-variants-database/blob/main/TODO.txt\n",
    "Konzistence cisel (pozic) a nukleotidu\n",
    "Jake k tomu pouzit data?\n",
    "Kolik nekonzistenci tam najdeme? Pak to poslat BSF\n"
   ]
  },
  {
   "cell_type": "raw",
   "id": "4f9aef6a-b0a4-4dae-9f74-b5caa71ec687",
   "metadata": {},
   "source": [
    "! pip install biopython"
   ]
  },
  {
   "cell_type": "code",
   "execution_count": 1,
   "id": "9e743aa0-c31a-4560-ad19-78ee0447e5e2",
   "metadata": {},
   "outputs": [],
   "source": [
    "import pandas as pd\n",
    "from Bio import SeqIO"
   ]
  },
  {
   "cell_type": "code",
   "execution_count": 2,
   "id": "adebcc4a-d37f-46b6-abfb-0a84174bb0fc",
   "metadata": {
    "tags": []
   },
   "outputs": [],
   "source": [
    "import helpers"
   ]
  },
  {
   "cell_type": "code",
   "execution_count": 3,
   "id": "49497dfd-9c1c-42d5-9d93-f9e3b54ce861",
   "metadata": {},
   "outputs": [],
   "source": [
    "database_folder = '../database_versions'"
   ]
  },
  {
   "cell_type": "code",
   "execution_count": 4,
   "id": "750d1512-fe7e-4087-ba31-a13d845a483d",
   "metadata": {},
   "outputs": [
    {
     "name": "stdout",
     "output_type": "stream",
     "text": [
      "version number: 0003\n",
      "database output path prefix: ../database_versions/0003_2024-01-17-15-53-01-835011_Human-TAFAZZIN-Variants-Database_\n"
     ]
    }
   ],
   "source": [
    "input_path_prefix = '../database_versions/0001_2023-10-30-21-51-49-628455_Human-TAFAZZIN-Variants-Database_' \n",
    "# TODO get this automatically in next notebooks\n",
    "\n",
    "output_path_prefix = helpers.create_database_output_path_prefix()"
   ]
  },
  {
   "cell_type": "code",
   "execution_count": 5,
   "id": "1f4a7882-909e-4183-beaf-6e1e23b239e6",
   "metadata": {},
   "outputs": [],
   "source": [
    "taz_sequences_path = '../data_external/Homo_sapiens_ENST00000601016_6_sequence.fa'\n",
    "taz_positions_path = '../data_external/ExonsSpreadsheet-Homo_sapiens_Transcript_Exons_ENST00000601016_whole_table.csv'"
   ]
  },
  {
   "cell_type": "markdown",
   "id": "31474d53-ac48-436d-8b37-f57c1b051822",
   "metadata": {},
   "source": [
    "### Load positions\n",
    "\n",
    "TAZ positions from ensembl.org in hg38. "
   ]
  },
  {
   "cell_type": "code",
   "execution_count": 6,
   "id": "f78b8ff2-0dd9-4dc0-ad46-ad8a24486a61",
   "metadata": {},
   "outputs": [],
   "source": [
    "taz_positions = pd.read_csv(taz_positions_path)"
   ]
  },
  {
   "cell_type": "code",
   "execution_count": 7,
   "id": "c03b8559-b590-4b38-811e-06475c1d9c18",
   "metadata": {},
   "outputs": [],
   "source": [
    "taz_positions['Start'] = pd.to_numeric(taz_positions['Start'].str.replace(',', ''), errors='coerce')\n",
    "taz_positions['Start'] = taz_positions['Start'].fillna(0).astype(int)"
   ]
  },
  {
   "cell_type": "code",
   "execution_count": 8,
   "id": "0505a4e2-90d2-4d30-9d89-306b00091839",
   "metadata": {},
   "outputs": [],
   "source": [
    "taz_positions['End'] = pd.to_numeric(taz_positions['End'].str.replace(',', ''), errors='coerce')\n",
    "taz_positions['End'] = taz_positions['End'].fillna(0).astype(int)"
   ]
  },
  {
   "cell_type": "code",
   "execution_count": 9,
   "id": "df036ff5-d50d-45f3-a6d0-68d479b1f04a",
   "metadata": {},
   "outputs": [
    {
     "data": {
      "text/html": [
       "<div>\n",
       "<style scoped>\n",
       "    .dataframe tbody tr th:only-of-type {\n",
       "        vertical-align: middle;\n",
       "    }\n",
       "\n",
       "    .dataframe tbody tr th {\n",
       "        vertical-align: top;\n",
       "    }\n",
       "\n",
       "    .dataframe thead th {\n",
       "        text-align: right;\n",
       "    }\n",
       "</style>\n",
       "<table border=\"1\" class=\"dataframe\">\n",
       "  <thead>\n",
       "    <tr style=\"text-align: right;\">\n",
       "      <th></th>\n",
       "      <th>No.</th>\n",
       "      <th>Exon / Intron</th>\n",
       "      <th>Start</th>\n",
       "      <th>End</th>\n",
       "      <th>Start Phase</th>\n",
       "      <th>End Phase</th>\n",
       "      <th>Length</th>\n",
       "      <th>Sequence</th>\n",
       "    </tr>\n",
       "  </thead>\n",
       "  <tbody>\n",
       "    <tr>\n",
       "      <th>0</th>\n",
       "      <td>NaN</td>\n",
       "      <td>5' upstream sequence</td>\n",
       "      <td>0</td>\n",
       "      <td>0</td>\n",
       "      <td>NaN</td>\n",
       "      <td>NaN</td>\n",
       "      <td>NaN</td>\n",
       "      <td>{\"provisional\":{...</td>\n",
       "    </tr>\n",
       "    <tr>\n",
       "      <th>1</th>\n",
       "      <td>1</td>\n",
       "      <td>ENSE00003022330</td>\n",
       "      <td>154411539</td>\n",
       "      <td>154411952</td>\n",
       "      <td>-</td>\n",
       "      <td>1</td>\n",
       "      <td>414</td>\n",
       "      <td>{\"url\":\"/Homo_sa...</td>\n",
       "    </tr>\n",
       "    <tr>\n",
       "      <th>2</th>\n",
       "      <td></td>\n",
       "      <td>Intron 1-2</td>\n",
       "      <td>154411953</td>\n",
       "      <td>154412085</td>\n",
       "      <td>NaN</td>\n",
       "      <td>NaN</td>\n",
       "      <td>133</td>\n",
       "      <td>{\"provisional\":{...</td>\n",
       "    </tr>\n",
       "    <tr>\n",
       "      <th>3</th>\n",
       "      <td>2</td>\n",
       "      <td>ENSE00003127263</td>\n",
       "      <td>154412086</td>\n",
       "      <td>154412214</td>\n",
       "      <td>1</td>\n",
       "      <td>1</td>\n",
       "      <td>129</td>\n",
       "      <td>{\"provisional\":{...</td>\n",
       "    </tr>\n",
       "    <tr>\n",
       "      <th>4</th>\n",
       "      <td></td>\n",
       "      <td>Intron 2-3</td>\n",
       "      <td>154412215</td>\n",
       "      <td>154413206</td>\n",
       "      <td>NaN</td>\n",
       "      <td>NaN</td>\n",
       "      <td>992</td>\n",
       "      <td>{\"provisional\":{...</td>\n",
       "    </tr>\n",
       "  </tbody>\n",
       "</table>\n",
       "</div>"
      ],
      "text/plain": [
       "   No.         Exon / Intron      Start        End Start Phase End Phase  \\\n",
       "0  NaN  5' upstream sequence          0          0         NaN       NaN   \n",
       "1    1       ENSE00003022330  154411539  154411952           -         1   \n",
       "2                 Intron 1-2  154411953  154412085         NaN       NaN   \n",
       "3    2       ENSE00003127263  154412086  154412214           1         1   \n",
       "4                 Intron 2-3  154412215  154413206         NaN       NaN   \n",
       "\n",
       "  Length                                           Sequence  \n",
       "0    NaN                                {\"provisional\":{...  \n",
       "1    414                                {\"url\":\"/Homo_sa...  \n",
       "2    133                                {\"provisional\":{...  \n",
       "3    129                                {\"provisional\":{...  \n",
       "4    992                                {\"provisional\":{...  "
      ]
     },
     "execution_count": 9,
     "metadata": {},
     "output_type": "execute_result"
    }
   ],
   "source": [
    "taz_positions.head()"
   ]
  },
  {
   "cell_type": "markdown",
   "id": "0d669799-6013-4beb-bc09-0dc453ec5ccd",
   "metadata": {},
   "source": [
    "### Load TAZ sequences\n",
    "\n",
    "from ensembl.org"
   ]
  },
  {
   "cell_type": "code",
   "execution_count": 44,
   "id": "00b4619c-1970-4c09-8f22-5e9190b04831",
   "metadata": {
    "tags": []
   },
   "outputs": [
    {
     "name": "stdout",
     "output_type": "stream",
     "text": [
      "ENST00000601016.6 TAFAZZIN-213 cdna:protein_coding\n",
      "-----\n"
     ]
    }
   ],
   "source": [
    "for seq_record in SeqIO.parse(taz_sequences_path, \"fasta\"):\n",
    "    #print(seq_record.id)\n",
    "    #print(seq_record.name)\n",
    "    print(seq_record.description)\n",
    "    #print(repr(seq_record.seq))\n",
    "    #print(len(seq_record))\n",
    "    print('-----')"
   ]
  },
  {
   "cell_type": "code",
   "execution_count": 11,
   "id": "91ea0252-0d94-454a-a255-ed92ca8c13fa",
   "metadata": {},
   "outputs": [
    {
     "data": {
      "text/plain": [
       "10188"
      ]
     },
     "execution_count": 11,
     "metadata": {},
     "output_type": "execute_result"
    }
   ],
   "source": [
    "len(seq_record)"
   ]
  },
  {
   "cell_type": "code",
   "execution_count": 12,
   "id": "84c64ff3-e952-4bf5-8797-353d11a6103a",
   "metadata": {},
   "outputs": [
    {
     "data": {
      "text/plain": [
       "Seq('GCTTTCCGGCGGTTGCACCGGGCCGGGGTGCCAGCGCCCGCCTTCCCGTTTCCT...AAA')"
      ]
     },
     "execution_count": 12,
     "metadata": {},
     "output_type": "execute_result"
    }
   ],
   "source": [
    "seq_record.seq"
   ]
  },
  {
   "cell_type": "code",
   "execution_count": 13,
   "id": "b5b2c265-5c4b-4779-9bf3-7f95a3736abe",
   "metadata": {},
   "outputs": [
    {
     "data": {
      "text/plain": [
       "'A'"
      ]
     },
     "execution_count": 13,
     "metadata": {},
     "output_type": "execute_result"
    }
   ],
   "source": [
    "seq_record.seq[-1]"
   ]
  },
  {
   "cell_type": "code",
   "execution_count": 14,
   "id": "28018b42-409b-4da5-a953-91051f837c58",
   "metadata": {},
   "outputs": [
    {
     "data": {
      "text/plain": [
       "SeqRecord(seq=Seq('GCTTTCCGGCGGTTGCACCGGGCCGGGGTGCCAGCGCCCGCCTTCCCGTTTCCT...AAA'), id='X', name='X', description='X dna:chromosome chromosome:GRCh38:X:154411539:154421726:1', dbxrefs=[])"
      ]
     },
     "execution_count": 14,
     "metadata": {},
     "output_type": "execute_result"
    }
   ],
   "source": [
    "seq_record"
   ]
  },
  {
   "cell_type": "markdown",
   "id": "d1923492-5cbd-47e2-b1dc-1fc222f6cd3b",
   "metadata": {},
   "source": [
    "### Load Tafazzin database"
   ]
  },
  {
   "cell_type": "code",
   "execution_count": 15,
   "id": "76f9465f-4f81-4437-8932-756888b18353",
   "metadata": {},
   "outputs": [],
   "source": [
    "df_pathogenic = pd.read_csv(input_path_prefix + 'pathogenic.csv')\n",
    "df_vus = pd.read_csv(input_path_prefix + 'vus.csv')\n",
    "df_exon5 = pd.read_csv(input_path_prefix + 'exon5.csv')\n",
    "df_benign = pd.read_csv(input_path_prefix + 'benign.csv')"
   ]
  },
  {
   "cell_type": "code",
   "execution_count": 16,
   "id": "e8ed74a2-d20f-45f2-9058-a42aca7ea62c",
   "metadata": {},
   "outputs": [
    {
     "data": {
      "text/html": [
       "<div>\n",
       "<style scoped>\n",
       "    .dataframe tbody tr th:only-of-type {\n",
       "        vertical-align: middle;\n",
       "    }\n",
       "\n",
       "    .dataframe tbody tr th {\n",
       "        vertical-align: top;\n",
       "    }\n",
       "\n",
       "    .dataframe thead th {\n",
       "        text-align: right;\n",
       "    }\n",
       "</style>\n",
       "<table border=\"1\" class=\"dataframe\">\n",
       "  <thead>\n",
       "    <tr style=\"text-align: right;\">\n",
       "      <th></th>\n",
       "      <th>Location</th>\n",
       "      <th>Location in Genome release 37 (hg19)</th>\n",
       "      <th>Location in Genome release 38 (hg38)</th>\n",
       "      <th>Protein Variant Type</th>\n",
       "      <th>Impact of Variant</th>\n",
       "      <th>DNA Modifications</th>\n",
       "      <th>Protein or mRNA Variants</th>\n",
       "      <th>Functional outcome (MLCL/CL ratio)</th>\n",
       "      <th>Taffazin Functional motifs</th>\n",
       "      <th>Method of Validation</th>\n",
       "      <th>References</th>\n",
       "      <th>Source</th>\n",
       "      <th>Additional variants in other genes</th>\n",
       "      <th>Location and Order of Discovery</th>\n",
       "      <th>Notes</th>\n",
       "      <th>Unnamed: 15</th>\n",
       "    </tr>\n",
       "  </thead>\n",
       "  <tbody>\n",
       "    <tr>\n",
       "      <th>0</th>\n",
       "      <td>Exon 1</td>\n",
       "      <td>X:153640189</td>\n",
       "      <td>X:154411852</td>\n",
       "      <td>Frameshift</td>\n",
       "      <td>NaN</td>\n",
       "      <td>c.9_10dupG</td>\n",
       "      <td>p.His4Alafs*130</td>\n",
       "      <td>MLCL/CL elevated</td>\n",
       "      <td>NaN</td>\n",
       "      <td>NaN</td>\n",
       "      <td>Ref. 1 (Pat.1); Ref. 80;  Ref. 113</td>\n",
       "      <td>NaN</td>\n",
       "      <td>NaN</td>\n",
       "      <td>1-1</td>\n",
       "      <td>NaN</td>\n",
       "      <td>NaN</td>\n",
       "    </tr>\n",
       "  </tbody>\n",
       "</table>\n",
       "</div>"
      ],
      "text/plain": [
       "  Location Location in Genome release 37 (hg19)  \\\n",
       "0   Exon 1                          X:153640189   \n",
       "\n",
       "  Location in Genome release 38 (hg38) Protein Variant Type Impact of Variant  \\\n",
       "0                          X:154411852           Frameshift               NaN   \n",
       "\n",
       "  DNA Modifications Protein or mRNA Variants  \\\n",
       "0        c.9_10dupG          p.His4Alafs*130   \n",
       "\n",
       "  Functional outcome (MLCL/CL ratio)  Taffazin Functional motifs  \\\n",
       "0                   MLCL/CL elevated                         NaN   \n",
       "\n",
       "  Method of Validation                          References Source  \\\n",
       "0                  NaN  Ref. 1 (Pat.1); Ref. 80;  Ref. 113    NaN   \n",
       "\n",
       "  Additional variants in other genes Location and Order of Discovery Notes  \\\n",
       "0                                NaN                             1-1   NaN   \n",
       "\n",
       "  Unnamed: 15  \n",
       "0         NaN  "
      ]
     },
     "execution_count": 16,
     "metadata": {},
     "output_type": "execute_result"
    }
   ],
   "source": [
    "df_pathogenic.head(1)"
   ]
  },
  {
   "cell_type": "code",
   "execution_count": 17,
   "id": "74d812aa-11af-436b-a098-7d54f10e8bdc",
   "metadata": {},
   "outputs": [],
   "source": [
    "loc_38_col = 'Location in Genome release 38 (hg38)'\n",
    "loc_37_col = 'Location in Genome release 37 (hg19)'\n",
    "dna_modif_col = 'DNA Modifications'"
   ]
  },
  {
   "cell_type": "code",
   "execution_count": 18,
   "id": "d525f975-415b-4804-8d2a-638772791809",
   "metadata": {},
   "outputs": [],
   "source": [
    "def get_row_from_taz_positions(taz_database_38_loc, taz_positions=taz_positions):\n",
    "    matching_rows = taz_positions[(taz_positions['Start'] <= taz_database_38_loc) & (taz_positions['End'] >= taz_database_38_loc)]\n",
    "    #rows = #matching_rows['Exon / Intron'].values\n",
    "    # If you expect only one match and want to get a single value\n",
    "    if len(matching_rows) == 1:\n",
    "        return matching_rows.iloc[0]\n",
    "    else:\n",
    "        print(\"Multiple or no matching rows found!\")\n",
    "        return None"
   ]
  },
  {
   "cell_type": "code",
   "execution_count": 19,
   "id": "943ade62-860a-4104-936c-c8f8be734ef9",
   "metadata": {},
   "outputs": [],
   "source": [
    "def find_seq_record(search_string, taz_sequences_path=taz_sequences_path):\n",
    "    # Use a generator expression to find the first matching seq_record\n",
    "    seq_record = next((record for record in SeqIO.parse(taz_sequences_path, \"fasta\") if search_string in record.description), None)\n",
    "    return seq_record\n"
   ]
  },
  {
   "cell_type": "code",
   "execution_count": 43,
   "id": "8dfe9a7d-d776-4985-b843-986a5d59165d",
   "metadata": {},
   "outputs": [
    {
     "data": {
      "text/html": [
       "<div>\n",
       "<style scoped>\n",
       "    .dataframe tbody tr th:only-of-type {\n",
       "        vertical-align: middle;\n",
       "    }\n",
       "\n",
       "    .dataframe tbody tr th {\n",
       "        vertical-align: top;\n",
       "    }\n",
       "\n",
       "    .dataframe thead th {\n",
       "        text-align: right;\n",
       "    }\n",
       "</style>\n",
       "<table border=\"1\" class=\"dataframe\">\n",
       "  <thead>\n",
       "    <tr style=\"text-align: right;\">\n",
       "      <th></th>\n",
       "      <th>No.</th>\n",
       "      <th>Exon / Intron</th>\n",
       "      <th>Start</th>\n",
       "      <th>End</th>\n",
       "      <th>Start Phase</th>\n",
       "      <th>End Phase</th>\n",
       "      <th>Length</th>\n",
       "      <th>Sequence</th>\n",
       "    </tr>\n",
       "  </thead>\n",
       "  <tbody>\n",
       "    <tr>\n",
       "      <th>0</th>\n",
       "      <td>NaN</td>\n",
       "      <td>5' upstream sequence</td>\n",
       "      <td>0</td>\n",
       "      <td>0</td>\n",
       "      <td>NaN</td>\n",
       "      <td>NaN</td>\n",
       "      <td>NaN</td>\n",
       "      <td>{\"provisional\":{...</td>\n",
       "    </tr>\n",
       "    <tr>\n",
       "      <th>1</th>\n",
       "      <td>1</td>\n",
       "      <td>ENSE00003022330</td>\n",
       "      <td>154411539</td>\n",
       "      <td>154411952</td>\n",
       "      <td>-</td>\n",
       "      <td>1</td>\n",
       "      <td>414</td>\n",
       "      <td>{\"url\":\"/Homo_sa...</td>\n",
       "    </tr>\n",
       "    <tr>\n",
       "      <th>2</th>\n",
       "      <td></td>\n",
       "      <td>Intron 1-2</td>\n",
       "      <td>154411953</td>\n",
       "      <td>154412085</td>\n",
       "      <td>NaN</td>\n",
       "      <td>NaN</td>\n",
       "      <td>133</td>\n",
       "      <td>{\"provisional\":{...</td>\n",
       "    </tr>\n",
       "    <tr>\n",
       "      <th>3</th>\n",
       "      <td>2</td>\n",
       "      <td>ENSE00003127263</td>\n",
       "      <td>154412086</td>\n",
       "      <td>154412214</td>\n",
       "      <td>1</td>\n",
       "      <td>1</td>\n",
       "      <td>129</td>\n",
       "      <td>{\"provisional\":{...</td>\n",
       "    </tr>\n",
       "    <tr>\n",
       "      <th>4</th>\n",
       "      <td></td>\n",
       "      <td>Intron 2-3</td>\n",
       "      <td>154412215</td>\n",
       "      <td>154413206</td>\n",
       "      <td>NaN</td>\n",
       "      <td>NaN</td>\n",
       "      <td>992</td>\n",
       "      <td>{\"provisional\":{...</td>\n",
       "    </tr>\n",
       "    <tr>\n",
       "      <th>5</th>\n",
       "      <td>3</td>\n",
       "      <td>ENSE00003736420</td>\n",
       "      <td>154413207</td>\n",
       "      <td>154413252</td>\n",
       "      <td>1</td>\n",
       "      <td>2</td>\n",
       "      <td>46</td>\n",
       "      <td>{\"url\":\"/Homo_sa...</td>\n",
       "    </tr>\n",
       "    <tr>\n",
       "      <th>6</th>\n",
       "      <td></td>\n",
       "      <td>Intron 3-4</td>\n",
       "      <td>154413253</td>\n",
       "      <td>154413481</td>\n",
       "      <td>NaN</td>\n",
       "      <td>NaN</td>\n",
       "      <td>229</td>\n",
       "      <td>{\"provisional\":{...</td>\n",
       "    </tr>\n",
       "    <tr>\n",
       "      <th>7</th>\n",
       "      <td>4</td>\n",
       "      <td>ENSE00003017673</td>\n",
       "      <td>154413482</td>\n",
       "      <td>154413567</td>\n",
       "      <td>2</td>\n",
       "      <td>1</td>\n",
       "      <td>86</td>\n",
       "      <td>{\"provisional\":{...</td>\n",
       "    </tr>\n",
       "    <tr>\n",
       "      <th>8</th>\n",
       "      <td></td>\n",
       "      <td>Intron 4-5</td>\n",
       "      <td>154413568</td>\n",
       "      <td>154414100</td>\n",
       "      <td>NaN</td>\n",
       "      <td>NaN</td>\n",
       "      <td>533</td>\n",
       "      <td>{\"url\":\"/Homo_sa...</td>\n",
       "    </tr>\n",
       "    <tr>\n",
       "      <th>9</th>\n",
       "      <td>5</td>\n",
       "      <td>ENSE00003050674</td>\n",
       "      <td>154414101</td>\n",
       "      <td>154414190</td>\n",
       "      <td>1</td>\n",
       "      <td>1</td>\n",
       "      <td>90</td>\n",
       "      <td>{\"provisional\":{...</td>\n",
       "    </tr>\n",
       "    <tr>\n",
       "      <th>10</th>\n",
       "      <td></td>\n",
       "      <td>Intron 5-6</td>\n",
       "      <td>154414191</td>\n",
       "      <td>154419542</td>\n",
       "      <td>NaN</td>\n",
       "      <td>NaN</td>\n",
       "      <td>5,352</td>\n",
       "      <td>{\"provisional\":{...</td>\n",
       "    </tr>\n",
       "    <tr>\n",
       "      <th>11</th>\n",
       "      <td>6</td>\n",
       "      <td>ENSE00003154518</td>\n",
       "      <td>154419543</td>\n",
       "      <td>154419623</td>\n",
       "      <td>1</td>\n",
       "      <td>1</td>\n",
       "      <td>81</td>\n",
       "      <td>{\"provisional\":{...</td>\n",
       "    </tr>\n",
       "    <tr>\n",
       "      <th>12</th>\n",
       "      <td></td>\n",
       "      <td>Intron 6-7</td>\n",
       "      <td>154419624</td>\n",
       "      <td>154419704</td>\n",
       "      <td>NaN</td>\n",
       "      <td>NaN</td>\n",
       "      <td>81</td>\n",
       "      <td>{\"url\":\"/Homo_sa...</td>\n",
       "    </tr>\n",
       "    <tr>\n",
       "      <th>13</th>\n",
       "      <td>7</td>\n",
       "      <td>ENSE00003158525</td>\n",
       "      <td>154419705</td>\n",
       "      <td>154419746</td>\n",
       "      <td>1</td>\n",
       "      <td>1</td>\n",
       "      <td>42</td>\n",
       "      <td>{\"url\":\"/Homo_sa...</td>\n",
       "    </tr>\n",
       "    <tr>\n",
       "      <th>14</th>\n",
       "      <td></td>\n",
       "      <td>Intron 7-8</td>\n",
       "      <td>154419747</td>\n",
       "      <td>154420031</td>\n",
       "      <td>NaN</td>\n",
       "      <td>NaN</td>\n",
       "      <td>285</td>\n",
       "      <td>{\"url\":\"/Homo_sa...</td>\n",
       "    </tr>\n",
       "    <tr>\n",
       "      <th>15</th>\n",
       "      <td>8</td>\n",
       "      <td>ENSE00003787276</td>\n",
       "      <td>154420032</td>\n",
       "      <td>154420094</td>\n",
       "      <td>1</td>\n",
       "      <td>1</td>\n",
       "      <td>63</td>\n",
       "      <td>{\"url\":\"/Homo_sa...</td>\n",
       "    </tr>\n",
       "    <tr>\n",
       "      <th>16</th>\n",
       "      <td></td>\n",
       "      <td>Intron 8-9</td>\n",
       "      <td>154420095</td>\n",
       "      <td>154420211</td>\n",
       "      <td>NaN</td>\n",
       "      <td>NaN</td>\n",
       "      <td>117</td>\n",
       "      <td>{\"provisional\":{...</td>\n",
       "    </tr>\n",
       "    <tr>\n",
       "      <th>17</th>\n",
       "      <td>9</td>\n",
       "      <td>ENSE00003724812</td>\n",
       "      <td>154420212</td>\n",
       "      <td>154420264</td>\n",
       "      <td>1</td>\n",
       "      <td>0</td>\n",
       "      <td>53</td>\n",
       "      <td>{\"provisional\":{...</td>\n",
       "    </tr>\n",
       "    <tr>\n",
       "      <th>18</th>\n",
       "      <td></td>\n",
       "      <td>Intron 9-10</td>\n",
       "      <td>154420265</td>\n",
       "      <td>154420657</td>\n",
       "      <td>NaN</td>\n",
       "      <td>NaN</td>\n",
       "      <td>393</td>\n",
       "      <td>{\"provisional\":{...</td>\n",
       "    </tr>\n",
       "    <tr>\n",
       "      <th>19</th>\n",
       "      <td>10</td>\n",
       "      <td>ENSE00003736683</td>\n",
       "      <td>154420658</td>\n",
       "      <td>154420735</td>\n",
       "      <td>0</td>\n",
       "      <td>0</td>\n",
       "      <td>78</td>\n",
       "      <td>{\"url\":\"/Homo_sa...</td>\n",
       "    </tr>\n",
       "    <tr>\n",
       "      <th>20</th>\n",
       "      <td></td>\n",
       "      <td>Intron 10-11</td>\n",
       "      <td>154420736</td>\n",
       "      <td>154420902</td>\n",
       "      <td>NaN</td>\n",
       "      <td>NaN</td>\n",
       "      <td>167</td>\n",
       "      <td>{\"url\":\"/Homo_sa...</td>\n",
       "    </tr>\n",
       "    <tr>\n",
       "      <th>21</th>\n",
       "      <td>11</td>\n",
       "      <td>ENSE00003627163</td>\n",
       "      <td>154420903</td>\n",
       "      <td>154421726</td>\n",
       "      <td>0</td>\n",
       "      <td>-</td>\n",
       "      <td>824</td>\n",
       "      <td>{\"url\":\"/Homo_sa...</td>\n",
       "    </tr>\n",
       "    <tr>\n",
       "      <th>22</th>\n",
       "      <td>NaN</td>\n",
       "      <td>3' downstream sequence</td>\n",
       "      <td>0</td>\n",
       "      <td>0</td>\n",
       "      <td>NaN</td>\n",
       "      <td>NaN</td>\n",
       "      <td>NaN</td>\n",
       "      <td>{\"url\":\"/Homo_sa...</td>\n",
       "    </tr>\n",
       "  </tbody>\n",
       "</table>\n",
       "</div>"
      ],
      "text/plain": [
       "    No.           Exon / Intron      Start        End Start Phase End Phase  \\\n",
       "0   NaN    5' upstream sequence          0          0         NaN       NaN   \n",
       "1     1         ENSE00003022330  154411539  154411952           -         1   \n",
       "2                    Intron 1-2  154411953  154412085         NaN       NaN   \n",
       "3     2         ENSE00003127263  154412086  154412214           1         1   \n",
       "4                    Intron 2-3  154412215  154413206         NaN       NaN   \n",
       "5     3         ENSE00003736420  154413207  154413252           1         2   \n",
       "6                    Intron 3-4  154413253  154413481         NaN       NaN   \n",
       "7     4         ENSE00003017673  154413482  154413567           2         1   \n",
       "8                    Intron 4-5  154413568  154414100         NaN       NaN   \n",
       "9     5         ENSE00003050674  154414101  154414190           1         1   \n",
       "10                   Intron 5-6  154414191  154419542         NaN       NaN   \n",
       "11    6         ENSE00003154518  154419543  154419623           1         1   \n",
       "12                   Intron 6-7  154419624  154419704         NaN       NaN   \n",
       "13    7         ENSE00003158525  154419705  154419746           1         1   \n",
       "14                   Intron 7-8  154419747  154420031         NaN       NaN   \n",
       "15    8         ENSE00003787276  154420032  154420094           1         1   \n",
       "16                   Intron 8-9  154420095  154420211         NaN       NaN   \n",
       "17    9         ENSE00003724812  154420212  154420264           1         0   \n",
       "18                  Intron 9-10  154420265  154420657         NaN       NaN   \n",
       "19   10         ENSE00003736683  154420658  154420735           0         0   \n",
       "20                 Intron 10-11  154420736  154420902         NaN       NaN   \n",
       "21   11         ENSE00003627163  154420903  154421726           0         -   \n",
       "22  NaN  3' downstream sequence          0          0         NaN       NaN   \n",
       "\n",
       "   Length                                           Sequence  \n",
       "0     NaN                                {\"provisional\":{...  \n",
       "1     414                                {\"url\":\"/Homo_sa...  \n",
       "2     133                                {\"provisional\":{...  \n",
       "3     129                                {\"provisional\":{...  \n",
       "4     992                                {\"provisional\":{...  \n",
       "5      46                                {\"url\":\"/Homo_sa...  \n",
       "6     229                                {\"provisional\":{...  \n",
       "7      86                                {\"provisional\":{...  \n",
       "8     533                                {\"url\":\"/Homo_sa...  \n",
       "9      90                                {\"provisional\":{...  \n",
       "10  5,352                                {\"provisional\":{...  \n",
       "11     81                                {\"provisional\":{...  \n",
       "12     81                                {\"url\":\"/Homo_sa...  \n",
       "13     42                                {\"url\":\"/Homo_sa...  \n",
       "14    285                                {\"url\":\"/Homo_sa...  \n",
       "15     63                                {\"url\":\"/Homo_sa...  \n",
       "16    117                                {\"provisional\":{...  \n",
       "17     53                                {\"provisional\":{...  \n",
       "18    393                                {\"provisional\":{...  \n",
       "19     78                                {\"url\":\"/Homo_sa...  \n",
       "20    167                                {\"url\":\"/Homo_sa...  \n",
       "21    824                                {\"url\":\"/Homo_sa...  \n",
       "22    NaN                                {\"url\":\"/Homo_sa...  "
      ]
     },
     "execution_count": 43,
     "metadata": {},
     "output_type": "execute_result"
    }
   ],
   "source": [
    "taz_positions"
   ]
  },
  {
   "cell_type": "code",
   "execution_count": 38,
   "id": "03e09e3e-a67a-4a3b-b65d-c11555734cbc",
   "metadata": {},
   "outputs": [
    {
     "name": "stdout",
     "output_type": "stream",
     "text": [
      "c.9_10dupG G\n",
      "Multiple or no matching rows found!\n",
      "c.51G>A      G\n",
      "PROBLEM endswith\n",
      "c.51G>A     G\n",
      "PROBLEM endswith\n"
     ]
    }
   ],
   "source": [
    "i = 0\n",
    "for key, row in df_pathogenic.iterrows():\n",
    "    i += 1\n",
    "    try:\n",
    "        taz_database_38_loc = int(row[loc_38_col].split(':')[1])\n",
    "        taz_database_37_loc = int(row[loc_37_col].split(':')[1])\n",
    "        taz_database_dna_motif = row[dna_modif_col]\n",
    "        row_from_taz_positions = get_row_from_taz_positions(taz_database_38_loc)\n",
    "        exon_intron_from_taz_positions = row_from_taz_positions['Exon / Intron']\n",
    "        start_from_taz_positions = row_from_taz_positions['Start']\n",
    "        end_from_taz_positions = row_from_taz_positions['End']\n",
    "\n",
    "        seq_record = find_seq_record(exon_intron_from_taz_positions)\n",
    "\n",
    "        if seq_record:\n",
    "            #print(f\"Found record: {seq_record.description}\")\n",
    "            sequence = seq_record.seq\n",
    "            pos_in_sequence = taz_database_38_loc - start_from_taz_positions\n",
    "            expected_letter = sequence[pos_in_sequence]\n",
    "            print(taz_database_dna_motif, expected_letter)\n",
    "            if not taz_database_dna_motif.endswith(expected_letter):\n",
    "                print('PROBLEM endswith')\n",
    "            if i ==5:\n",
    "                break\n",
    "            \n",
    "            \n",
    "            # TODO hg37, corner cases??\n",
    "        else:\n",
    "            print(\"No matching record found.\")\n",
    "        #break\n",
    "        \n",
    "    except Exception as ex:\n",
    "        pass\n",
    "        # TODO!! solve these !!print(key, row[loc_38_col]) #, ex)\n",
    "    #break\n",
    "        "
   ]
  },
  {
   "cell_type": "markdown",
   "id": "5537329e-ee12-4710-b338-0a5b714e5c05",
   "metadata": {},
   "source": [
    "TODO dna modifications?? co je 51??"
   ]
  },
  {
   "cell_type": "code",
   "execution_count": 40,
   "id": "c510360e-4eee-472c-84e9-78a24e0da6b5",
   "metadata": {},
   "outputs": [
    {
     "data": {
      "text/plain": [
       "154411539"
      ]
     },
     "execution_count": 40,
     "metadata": {},
     "output_type": "execute_result"
    }
   ],
   "source": [
    "start_from_taz_positions"
   ]
  },
  {
   "cell_type": "code",
   "execution_count": 41,
   "id": "755ddcf9-4c3b-4626-b73d-8525cf1c7543",
   "metadata": {},
   "outputs": [
    {
     "data": {
      "text/plain": [
       "154411894"
      ]
     },
     "execution_count": 41,
     "metadata": {},
     "output_type": "execute_result"
    }
   ],
   "source": [
    "taz_database_38_loc"
   ]
  },
  {
   "cell_type": "code",
   "execution_count": 42,
   "id": "0686173f-6647-4a49-a01e-c22f1daaca64",
   "metadata": {},
   "outputs": [
    {
     "data": {
      "text/plain": [
       "355"
      ]
     },
     "execution_count": 42,
     "metadata": {},
     "output_type": "execute_result"
    }
   ],
   "source": [
    "pos_in_sequence"
   ]
  },
  {
   "cell_type": "code",
   "execution_count": null,
   "id": "965c4d70-6e3b-479b-ae52-07f88e60f4d0",
   "metadata": {},
   "outputs": [],
   "source": []
  },
  {
   "cell_type": "code",
   "execution_count": 39,
   "id": "ebd04385-57f7-4558-9976-4c03d7b9be8f",
   "metadata": {},
   "outputs": [
    {
     "data": {
      "text/plain": [
       "355"
      ]
     },
     "execution_count": 39,
     "metadata": {},
     "output_type": "execute_result"
    }
   ],
   "source": [
    "pos_in_sequence"
   ]
  },
  {
   "cell_type": "code",
   "execution_count": 37,
   "id": "c292d2bb-718a-4d66-ab48-941c1db53b85",
   "metadata": {},
   "outputs": [
    {
     "data": {
      "text/plain": [
       "95"
      ]
     },
     "execution_count": 37,
     "metadata": {},
     "output_type": "execute_result"
    }
   ],
   "source": [
    "pos_in_sequence"
   ]
  },
  {
   "cell_type": "code",
   "execution_count": 34,
   "id": "8f7b7618-b5f5-412e-a994-bc690eb76e32",
   "metadata": {},
   "outputs": [
    {
     "ename": "AssertionError",
     "evalue": "",
     "output_type": "error",
     "traceback": [
      "\u001b[0;31m---------------------------------------------------------------------------\u001b[0m",
      "\u001b[0;31mAssertionError\u001b[0m                            Traceback (most recent call last)",
      "Input \u001b[0;32mIn [34]\u001b[0m, in \u001b[0;36m<module>\u001b[0;34m\u001b[0m\n\u001b[0;32m----> 1\u001b[0m \u001b[38;5;28;01massert\u001b[39;00m taz_database_dna_motif\u001b[38;5;241m.\u001b[39mendswith(expected_letter)\n",
      "\u001b[0;31mAssertionError\u001b[0m: "
     ]
    }
   ],
   "source": [
    "assert taz_database_dna_motif.endswith(expected_letter)"
   ]
  },
  {
   "cell_type": "code",
   "execution_count": 31,
   "id": "9ed90be7-caff-4243-8870-37ba50fa577c",
   "metadata": {},
   "outputs": [
    {
     "data": {
      "text/plain": [
       "'c.51G>A     '"
      ]
     },
     "execution_count": 31,
     "metadata": {},
     "output_type": "execute_result"
    }
   ],
   "source": [
    "taz_database_dna_motife"
   ]
  },
  {
   "cell_type": "code",
   "execution_count": 33,
   "id": "40d0523b-9c2b-444f-995c-7b475d696147",
   "metadata": {},
   "outputs": [
    {
     "data": {
      "text/plain": [
       "False"
      ]
     },
     "execution_count": 33,
     "metadata": {},
     "output_type": "execute_result"
    }
   ],
   "source": [
    "taz_database_dna_motif.endswith(expected_letter)"
   ]
  },
  {
   "cell_type": "code",
   "execution_count": 32,
   "id": "b4dd1a1b-c776-4bb3-970f-058660108242",
   "metadata": {},
   "outputs": [
    {
     "data": {
      "text/plain": [
       "'G'"
      ]
     },
     "execution_count": 32,
     "metadata": {},
     "output_type": "execute_result"
    }
   ],
   "source": [
    "expected_letter"
   ]
  },
  {
   "cell_type": "code",
   "execution_count": 26,
   "id": "f6a815bd-d182-4bb5-8574-6638a95ecee5",
   "metadata": {},
   "outputs": [
    {
     "data": {
      "text/plain": [
       "True"
      ]
     },
     "execution_count": 26,
     "metadata": {},
     "output_type": "execute_result"
    }
   ],
   "source": [
    "taz_database_dna_motif.endswith(expected_letter)"
   ]
  },
  {
   "cell_type": "code",
   "execution_count": 23,
   "id": "cef338d4-17dc-4cdd-b1da-eb0bd87e1446",
   "metadata": {},
   "outputs": [
    {
     "data": {
      "text/plain": [
       "'G'"
      ]
     },
     "execution_count": 23,
     "metadata": {},
     "output_type": "execute_result"
    }
   ],
   "source": [
    "expected_letter"
   ]
  },
  {
   "cell_type": "code",
   "execution_count": 22,
   "id": "90e910fc-3c1a-4fb3-ac51-390d1ace5968",
   "metadata": {},
   "outputs": [
    {
     "data": {
      "text/plain": [
       "'c.9_10dupG'"
      ]
     },
     "execution_count": 22,
     "metadata": {},
     "output_type": "execute_result"
    }
   ],
   "source": [
    "taz_database_dna_motif"
   ]
  },
  {
   "cell_type": "code",
   "execution_count": null,
   "id": "0da0a102-2a50-408a-a801-617e1ba8bef6",
   "metadata": {},
   "outputs": [],
   "source": [
    "taz_database_dna_modif"
   ]
  },
  {
   "cell_type": "code",
   "execution_count": null,
   "id": "cc9f9d7e-b899-480f-8e82-e76abcdea88c",
   "metadata": {},
   "outputs": [],
   "source": [
    "taz_database_dna_modif.endswith(expected_letter)"
   ]
  },
  {
   "cell_type": "code",
   "execution_count": null,
   "id": "d9a3e7fb-0347-40ca-878f-4ef1e7372e37",
   "metadata": {},
   "outputs": [],
   "source": [
    "expected_letter"
   ]
  },
  {
   "cell_type": "code",
   "execution_count": null,
   "id": "4968a7de-81e1-4466-8bbc-634dc6ebbe05",
   "metadata": {},
   "outputs": [],
   "source": [
    "pos_in_sequence"
   ]
  },
  {
   "cell_type": "code",
   "execution_count": null,
   "id": "b34d2827-bcc7-47b6-af39-5470fbad73ee",
   "metadata": {},
   "outputs": [],
   "source": [
    "taz_database_38_loc"
   ]
  },
  {
   "cell_type": "code",
   "execution_count": null,
   "id": "01e7a45c-59b6-455f-8788-32871e4a7f19",
   "metadata": {},
   "outputs": [],
   "source": [
    "exon_intron_from_taz_positions"
   ]
  },
  {
   "cell_type": "code",
   "execution_count": null,
   "id": "102e7ddb-d4b7-4b1d-8796-e199620eb90e",
   "metadata": {},
   "outputs": [],
   "source": [
    "seq_record"
   ]
  },
  {
   "cell_type": "code",
   "execution_count": null,
   "id": "4375f784-c8b3-4a47-b607-f46f787ad7dc",
   "metadata": {},
   "outputs": [],
   "source": [
    "row_from_taz_positions"
   ]
  },
  {
   "cell_type": "code",
   "execution_count": null,
   "id": "55d6deb6-d102-44cb-b0fc-4a73e4db8fcf",
   "metadata": {},
   "outputs": [],
   "source": [
    "exon_intron_from_taz_positions"
   ]
  },
  {
   "cell_type": "code",
   "execution_count": null,
   "id": "41cb1b59-584a-4209-a1c1-25136b713c7c",
   "metadata": {},
   "outputs": [],
   "source": [
    "start_from_taz_positions"
   ]
  },
  {
   "cell_type": "code",
   "execution_count": null,
   "id": "046eaa33-2370-4ee1-813f-0747d6b94e6b",
   "metadata": {},
   "outputs": [],
   "source": [
    "end_from_taz_positions"
   ]
  },
  {
   "cell_type": "code",
   "execution_count": null,
   "id": "b0ce00e9-cac4-405f-8d69-b9b2c79101c3",
   "metadata": {},
   "outputs": [],
   "source": [
    "expected_letter"
   ]
  },
  {
   "cell_type": "code",
   "execution_count": null,
   "id": "d52ccd39-7679-42c5-9b73-bba924839fbf",
   "metadata": {},
   "outputs": [],
   "source": [
    "taz_database_dna_modif"
   ]
  },
  {
   "cell_type": "code",
   "execution_count": null,
   "id": "5d0b8f92-bf65-4e58-9396-3c51bb64cb8b",
   "metadata": {},
   "outputs": [],
   "source": [
    "sequence"
   ]
  },
  {
   "cell_type": "code",
   "execution_count": null,
   "id": "f0a24afa-bb8c-4125-b746-57da61373542",
   "metadata": {},
   "outputs": [],
   "source": [
    "sequence[start_from_taz_positions - start_from_taz_positions]"
   ]
  },
  {
   "cell_type": "code",
   "execution_count": null,
   "id": "394ed2e4-3179-4a2c-adc8-52270bf17411",
   "metadata": {},
   "outputs": [],
   "source": [
    "row_from_taz_positions"
   ]
  },
  {
   "cell_type": "code",
   "execution_count": null,
   "id": "3ced75f7-f4f9-47d2-af7c-b594e8f6c7cc",
   "metadata": {},
   "outputs": [],
   "source": [
    "exon_intron_from_taz_positions"
   ]
  },
  {
   "cell_type": "code",
   "execution_count": null,
   "id": "e2100029-c848-4850-9646-8ae377edc4fd",
   "metadata": {},
   "outputs": [],
   "source": [
    "seq_record.seq"
   ]
  },
  {
   "cell_type": "code",
   "execution_count": null,
   "id": "a4386581-a7d8-437a-93ae-7966b348d35e",
   "metadata": {},
   "outputs": [],
   "source": [
    "matching_record.seq"
   ]
  },
  {
   "cell_type": "code",
   "execution_count": null,
   "id": "de0dbbfe-90b4-4f0c-8e49-9d70ba1968a8",
   "metadata": {},
   "outputs": [],
   "source": []
  },
  {
   "cell_type": "code",
   "execution_count": null,
   "id": "074c3b8a-a4b2-417e-b960-c693d10384d6",
   "metadata": {},
   "outputs": [],
   "source": [
    "taz_positions"
   ]
  },
  {
   "cell_type": "code",
   "execution_count": null,
   "id": "b09df742-f264-40bd-8c56-90e6b2f351fd",
   "metadata": {},
   "outputs": [],
   "source": [
    "taz_positions.Start"
   ]
  },
  {
   "cell_type": "code",
   "execution_count": null,
   "id": "ac5fb6c1-be13-4e02-bdfb-1dee1918079c",
   "metadata": {},
   "outputs": [],
   "source": [
    "taz_positions.head(20)"
   ]
  },
  {
   "cell_type": "code",
   "execution_count": null,
   "id": "8c09bb51-d1c8-49a7-a238-6bc749aa9ae4",
   "metadata": {},
   "outputs": [],
   "source": [
    "taz_database_38"
   ]
  },
  {
   "cell_type": "code",
   "execution_count": null,
   "id": "8d4bad78-ef1a-416e-9e3c-12057489c2e3",
   "metadata": {},
   "outputs": [],
   "source": [
    "taz_database_37"
   ]
  },
  {
   "cell_type": "code",
   "execution_count": null,
   "id": "7956bd3b-73ff-4b48-938f-8ad639243274",
   "metadata": {},
   "outputs": [],
   "source": [
    "taz_database_dna_modif"
   ]
  },
  {
   "cell_type": "code",
   "execution_count": null,
   "id": "a8a82d9f-3063-4779-8db2-176710f5d808",
   "metadata": {},
   "outputs": [],
   "source": [
    "df_pathogenic.Location.value_counts()"
   ]
  }
 ],
 "metadata": {
  "kernelspec": {
   "display_name": "Python 3 (ipykernel)",
   "language": "python",
   "name": "python3"
  },
  "language_info": {
   "codemirror_mode": {
    "name": "ipython",
    "version": 3
   },
   "file_extension": ".py",
   "mimetype": "text/x-python",
   "name": "python",
   "nbconvert_exporter": "python",
   "pygments_lexer": "ipython3",
   "version": "3.8.16"
  }
 },
 "nbformat": 4,
 "nbformat_minor": 5
}
