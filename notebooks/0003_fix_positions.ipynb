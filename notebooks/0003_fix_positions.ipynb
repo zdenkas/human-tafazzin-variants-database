{
 "cells": [
  {
   "cell_type": "markdown",
   "id": "724080f7-202a-4618-b0ba-14b86f1c024e",
   "metadata": {},
   "source": [
    "TODO Luki format??"
   ]
  },
  {
   "cell_type": "markdown",
   "id": "4e53e2ee-97f7-4387-af6d-212af3de82f6",
   "metadata": {},
   "source": [
    "Co prioritizovat? https://github.com/zdenkas/human-tafazzin-variants-database/blob/main/TODO.txt\n",
    "Konzistence cisel (pozic) a nukleotidu\n",
    "Jake k tomu pouzit data?\n",
    "Kolik nekonzistenci tam najdeme? Pak to poslat BSF\n"
   ]
  },
  {
   "cell_type": "raw",
   "id": "4f9aef6a-b0a4-4dae-9f74-b5caa71ec687",
   "metadata": {},
   "source": [
    "! pip install biopython"
   ]
  },
  {
   "cell_type": "code",
   "execution_count": 1,
   "id": "9e743aa0-c31a-4560-ad19-78ee0447e5e2",
   "metadata": {},
   "outputs": [],
   "source": [
    "import pandas as pd\n",
    "from Bio import SeqIO"
   ]
  },
  {
   "cell_type": "code",
   "execution_count": 2,
   "id": "adebcc4a-d37f-46b6-abfb-0a84174bb0fc",
   "metadata": {
    "tags": []
   },
   "outputs": [],
   "source": [
    "import helpers"
   ]
  },
  {
   "cell_type": "code",
   "execution_count": 3,
   "id": "49497dfd-9c1c-42d5-9d93-f9e3b54ce861",
   "metadata": {},
   "outputs": [],
   "source": [
    "database_folder = '../database_versions'"
   ]
  },
  {
   "cell_type": "code",
   "execution_count": 4,
   "id": "750d1512-fe7e-4087-ba31-a13d845a483d",
   "metadata": {},
   "outputs": [
    {
     "name": "stdout",
     "output_type": "stream",
     "text": [
      "version number: 0003\n",
      "database output path prefix: ../database_versions/0003_2024-01-11-18-52-40-068734_Human-TAFAZZIN-Variants-Database_\n"
     ]
    }
   ],
   "source": [
    "input_path_prefix = '../database_versions/0001_2023-10-30-21-51-49-628455_Human-TAFAZZIN-Variants-Database_' \n",
    "# TODO get this automatically in next notebooks\n",
    "\n",
    "output_path_prefix = helpers.create_database_output_path_prefix()"
   ]
  },
  {
   "cell_type": "code",
   "execution_count": 5,
   "id": "1f4a7882-909e-4183-beaf-6e1e23b239e6",
   "metadata": {},
   "outputs": [],
   "source": [
    "taz_cdna_path = '../data_external/Homo_sapiens_ENST00000601016_6_sequence.fa'\n",
    "taz_positions_path = '../data_external/ExonsSpreadsheet-Homo_sapiens_Transcript_Exons_ENST00000601016_whole_table.csv'"
   ]
  },
  {
   "cell_type": "markdown",
   "id": "31474d53-ac48-436d-8b37-f57c1b051822",
   "metadata": {},
   "source": [
    "### Load positions\n",
    "\n",
    "in hg38"
   ]
  },
  {
   "cell_type": "code",
   "execution_count": 6,
   "id": "f78b8ff2-0dd9-4dc0-ad46-ad8a24486a61",
   "metadata": {},
   "outputs": [],
   "source": [
    "taz_positions = pd.read_csv(taz_positions_path)"
   ]
  },
  {
   "cell_type": "code",
   "execution_count": 7,
   "id": "c03b8559-b590-4b38-811e-06475c1d9c18",
   "metadata": {},
   "outputs": [],
   "source": [
    "taz_positions['Start'] = pd.to_numeric(taz_positions['Start'].str.replace(',', ''), errors='coerce')\n",
    "taz_positions['Start'] = taz_positions['Start'].fillna(0).astype(int)"
   ]
  },
  {
   "cell_type": "code",
   "execution_count": 8,
   "id": "0505a4e2-90d2-4d30-9d89-306b00091839",
   "metadata": {},
   "outputs": [],
   "source": [
    "taz_positions['End'] = pd.to_numeric(taz_positions['End'].str.replace(',', ''), errors='coerce')\n",
    "taz_positions['End'] = taz_positions['End'].fillna(0).astype(int)"
   ]
  },
  {
   "cell_type": "code",
   "execution_count": 9,
   "id": "df036ff5-d50d-45f3-a6d0-68d479b1f04a",
   "metadata": {},
   "outputs": [
    {
     "data": {
      "text/html": [
       "<div>\n",
       "<style scoped>\n",
       "    .dataframe tbody tr th:only-of-type {\n",
       "        vertical-align: middle;\n",
       "    }\n",
       "\n",
       "    .dataframe tbody tr th {\n",
       "        vertical-align: top;\n",
       "    }\n",
       "\n",
       "    .dataframe thead th {\n",
       "        text-align: right;\n",
       "    }\n",
       "</style>\n",
       "<table border=\"1\" class=\"dataframe\">\n",
       "  <thead>\n",
       "    <tr style=\"text-align: right;\">\n",
       "      <th></th>\n",
       "      <th>No.</th>\n",
       "      <th>Exon / Intron</th>\n",
       "      <th>Start</th>\n",
       "      <th>End</th>\n",
       "      <th>Start Phase</th>\n",
       "      <th>End Phase</th>\n",
       "      <th>Length</th>\n",
       "      <th>Sequence</th>\n",
       "    </tr>\n",
       "  </thead>\n",
       "  <tbody>\n",
       "    <tr>\n",
       "      <th>0</th>\n",
       "      <td>NaN</td>\n",
       "      <td>5' upstream sequence</td>\n",
       "      <td>0</td>\n",
       "      <td>0</td>\n",
       "      <td>NaN</td>\n",
       "      <td>NaN</td>\n",
       "      <td>NaN</td>\n",
       "      <td>{\"provisional\":{...</td>\n",
       "    </tr>\n",
       "    <tr>\n",
       "      <th>1</th>\n",
       "      <td>1</td>\n",
       "      <td>ENSE00003022330</td>\n",
       "      <td>154411539</td>\n",
       "      <td>154411952</td>\n",
       "      <td>-</td>\n",
       "      <td>1</td>\n",
       "      <td>414</td>\n",
       "      <td>{\"url\":\"/Homo_sa...</td>\n",
       "    </tr>\n",
       "    <tr>\n",
       "      <th>2</th>\n",
       "      <td></td>\n",
       "      <td>Intron 1-2</td>\n",
       "      <td>154411953</td>\n",
       "      <td>154412085</td>\n",
       "      <td>NaN</td>\n",
       "      <td>NaN</td>\n",
       "      <td>133</td>\n",
       "      <td>{\"provisional\":{...</td>\n",
       "    </tr>\n",
       "    <tr>\n",
       "      <th>3</th>\n",
       "      <td>2</td>\n",
       "      <td>ENSE00003127263</td>\n",
       "      <td>154412086</td>\n",
       "      <td>154412214</td>\n",
       "      <td>1</td>\n",
       "      <td>1</td>\n",
       "      <td>129</td>\n",
       "      <td>{\"provisional\":{...</td>\n",
       "    </tr>\n",
       "    <tr>\n",
       "      <th>4</th>\n",
       "      <td></td>\n",
       "      <td>Intron 2-3</td>\n",
       "      <td>154412215</td>\n",
       "      <td>154413206</td>\n",
       "      <td>NaN</td>\n",
       "      <td>NaN</td>\n",
       "      <td>992</td>\n",
       "      <td>{\"provisional\":{...</td>\n",
       "    </tr>\n",
       "  </tbody>\n",
       "</table>\n",
       "</div>"
      ],
      "text/plain": [
       "   No.         Exon / Intron      Start        End Start Phase End Phase  \\\n",
       "0  NaN  5' upstream sequence          0          0         NaN       NaN   \n",
       "1    1       ENSE00003022330  154411539  154411952           -         1   \n",
       "2                 Intron 1-2  154411953  154412085         NaN       NaN   \n",
       "3    2       ENSE00003127263  154412086  154412214           1         1   \n",
       "4                 Intron 2-3  154412215  154413206         NaN       NaN   \n",
       "\n",
       "  Length                                           Sequence  \n",
       "0    NaN                                {\"provisional\":{...  \n",
       "1    414                                {\"url\":\"/Homo_sa...  \n",
       "2    133                                {\"provisional\":{...  \n",
       "3    129                                {\"provisional\":{...  \n",
       "4    992                                {\"provisional\":{...  "
      ]
     },
     "execution_count": 9,
     "metadata": {},
     "output_type": "execute_result"
    }
   ],
   "source": [
    "taz_positions.head()"
   ]
  },
  {
   "cell_type": "markdown",
   "id": "0d669799-6013-4beb-bc09-0dc453ec5ccd",
   "metadata": {},
   "source": [
    "### Load cdna"
   ]
  },
  {
   "cell_type": "code",
   "execution_count": 10,
   "id": "00b4619c-1970-4c09-8f22-5e9190b04831",
   "metadata": {
    "tags": []
   },
   "outputs": [
    {
     "name": "stdout",
     "output_type": "stream",
     "text": [
      "ENST00000601016.6 TAFAZZIN-213 cdna:protein_coding\n",
      "-----\n",
      "TAFAZZIN-213 cds:protein_coding\n",
      "-----\n",
      "TAFAZZIN-213 ENSE00003022330 exon:protein_coding\n",
      "-----\n",
      "TAFAZZIN-213 ENSE00003127263 exon:protein_coding\n",
      "-----\n",
      "TAFAZZIN-213 ENSE00003736420 exon:protein_coding\n",
      "-----\n",
      "TAFAZZIN-213 ENSE00003017673 exon:protein_coding\n",
      "-----\n",
      "TAFAZZIN-213 ENSE00003050674 exon:protein_coding\n",
      "-----\n",
      "TAFAZZIN-213 ENSE00003154518 exon:protein_coding\n",
      "-----\n",
      "TAFAZZIN-213 ENSE00003158525 exon:protein_coding\n",
      "-----\n",
      "TAFAZZIN-213 ENSE00003787276 exon:protein_coding\n",
      "-----\n",
      "TAFAZZIN-213 ENSE00003724812 exon:protein_coding\n",
      "-----\n",
      "TAFAZZIN-213 ENSE00003736683 exon:protein_coding\n",
      "-----\n",
      "TAFAZZIN-213 ENSE00003627163 exon:protein_coding\n",
      "-----\n",
      "TAFAZZIN-213 intron 1:protein_coding\n",
      "-----\n",
      "TAFAZZIN-213 intron 2:protein_coding\n",
      "-----\n",
      "TAFAZZIN-213 intron 3:protein_coding\n",
      "-----\n",
      "TAFAZZIN-213 intron 4:protein_coding\n",
      "-----\n",
      "TAFAZZIN-213 intron 5:protein_coding\n",
      "-----\n",
      "TAFAZZIN-213 intron 6:protein_coding\n",
      "-----\n",
      "TAFAZZIN-213 intron 7:protein_coding\n",
      "-----\n",
      "TAFAZZIN-213 intron 8:protein_coding\n",
      "-----\n",
      "TAFAZZIN-213 intron 9:protein_coding\n",
      "-----\n",
      "TAFAZZIN-213 intron 10:protein_coding\n",
      "-----\n",
      "TAFAZZIN-213 peptide: ENSP00000469981 pep:protein_coding\n",
      "-----\n",
      "TAFAZZIN-213 utr3:protein_coding\n",
      "-----\n",
      "TAFAZZIN-213 utr5:protein_coding\n",
      "-----\n",
      "X dna:chromosome chromosome:GRCh38:X:154411539:154421726:1\n",
      "-----\n"
     ]
    }
   ],
   "source": [
    "for seq_record in SeqIO.parse(taz_cdna_path, \"fasta\"):\n",
    "    #print(seq_record.id)\n",
    "    #print(seq_record.name)\n",
    "    print(seq_record.description)\n",
    "    #print(repr(seq_record.seq))\n",
    "    #print(len(seq_record))\n",
    "    print('-----')"
   ]
  },
  {
   "cell_type": "code",
   "execution_count": 11,
   "id": "91ea0252-0d94-454a-a255-ed92ca8c13fa",
   "metadata": {},
   "outputs": [
    {
     "data": {
      "text/plain": [
       "10188"
      ]
     },
     "execution_count": 11,
     "metadata": {},
     "output_type": "execute_result"
    }
   ],
   "source": [
    "len(seq_record)"
   ]
  },
  {
   "cell_type": "code",
   "execution_count": 12,
   "id": "84c64ff3-e952-4bf5-8797-353d11a6103a",
   "metadata": {},
   "outputs": [
    {
     "data": {
      "text/plain": [
       "Seq('GCTTTCCGGCGGTTGCACCGGGCCGGGGTGCCAGCGCCCGCCTTCCCGTTTCCT...AAA')"
      ]
     },
     "execution_count": 12,
     "metadata": {},
     "output_type": "execute_result"
    }
   ],
   "source": [
    "seq_record.seq"
   ]
  },
  {
   "cell_type": "code",
   "execution_count": 13,
   "id": "b5b2c265-5c4b-4779-9bf3-7f95a3736abe",
   "metadata": {},
   "outputs": [
    {
     "data": {
      "text/plain": [
       "'A'"
      ]
     },
     "execution_count": 13,
     "metadata": {},
     "output_type": "execute_result"
    }
   ],
   "source": [
    "seq_record.seq[-1]"
   ]
  },
  {
   "cell_type": "code",
   "execution_count": 14,
   "id": "28018b42-409b-4da5-a953-91051f837c58",
   "metadata": {},
   "outputs": [
    {
     "data": {
      "text/plain": [
       "SeqRecord(seq=Seq('GCTTTCCGGCGGTTGCACCGGGCCGGGGTGCCAGCGCCCGCCTTCCCGTTTCCT...AAA'), id='X', name='X', description='X dna:chromosome chromosome:GRCh38:X:154411539:154421726:1', dbxrefs=[])"
      ]
     },
     "execution_count": 14,
     "metadata": {},
     "output_type": "execute_result"
    }
   ],
   "source": [
    "seq_record"
   ]
  },
  {
   "cell_type": "markdown",
   "id": "d1923492-5cbd-47e2-b1dc-1fc222f6cd3b",
   "metadata": {},
   "source": [
    "### Load Tafazzin database"
   ]
  },
  {
   "cell_type": "code",
   "execution_count": 15,
   "id": "76f9465f-4f81-4437-8932-756888b18353",
   "metadata": {},
   "outputs": [],
   "source": [
    "df_pathogenic = pd.read_csv(input_path_prefix + 'pathogenic.csv')\n",
    "df_vus = pd.read_csv(input_path_prefix + 'vus.csv')\n",
    "df_exon5 = pd.read_csv(input_path_prefix + 'exon5.csv')\n",
    "df_benign = pd.read_csv(input_path_prefix + 'benign.csv')"
   ]
  },
  {
   "cell_type": "code",
   "execution_count": 16,
   "id": "e8ed74a2-d20f-45f2-9058-a42aca7ea62c",
   "metadata": {},
   "outputs": [
    {
     "data": {
      "text/html": [
       "<div>\n",
       "<style scoped>\n",
       "    .dataframe tbody tr th:only-of-type {\n",
       "        vertical-align: middle;\n",
       "    }\n",
       "\n",
       "    .dataframe tbody tr th {\n",
       "        vertical-align: top;\n",
       "    }\n",
       "\n",
       "    .dataframe thead th {\n",
       "        text-align: right;\n",
       "    }\n",
       "</style>\n",
       "<table border=\"1\" class=\"dataframe\">\n",
       "  <thead>\n",
       "    <tr style=\"text-align: right;\">\n",
       "      <th></th>\n",
       "      <th>Location</th>\n",
       "      <th>Location in Genome release 37 (hg19)</th>\n",
       "      <th>Location in Genome release 38 (hg38)</th>\n",
       "      <th>Protein Variant Type</th>\n",
       "      <th>Impact of Variant</th>\n",
       "      <th>DNA Modifications</th>\n",
       "      <th>Protein or mRNA Variants</th>\n",
       "      <th>Functional outcome (MLCL/CL ratio)</th>\n",
       "      <th>Taffazin Functional motifs</th>\n",
       "      <th>Method of Validation</th>\n",
       "      <th>References</th>\n",
       "      <th>Source</th>\n",
       "      <th>Additional variants in other genes</th>\n",
       "      <th>Location and Order of Discovery</th>\n",
       "      <th>Notes</th>\n",
       "      <th>Unnamed: 15</th>\n",
       "    </tr>\n",
       "  </thead>\n",
       "  <tbody>\n",
       "    <tr>\n",
       "      <th>0</th>\n",
       "      <td>Exon 1</td>\n",
       "      <td>X:153640189</td>\n",
       "      <td>X:154411852</td>\n",
       "      <td>Frameshift</td>\n",
       "      <td>NaN</td>\n",
       "      <td>c.9_10dupG</td>\n",
       "      <td>p.His4Alafs*130</td>\n",
       "      <td>MLCL/CL elevated</td>\n",
       "      <td>NaN</td>\n",
       "      <td>NaN</td>\n",
       "      <td>Ref. 1 (Pat.1); Ref. 80;  Ref. 113</td>\n",
       "      <td>NaN</td>\n",
       "      <td>NaN</td>\n",
       "      <td>1-1</td>\n",
       "      <td>NaN</td>\n",
       "      <td>NaN</td>\n",
       "    </tr>\n",
       "  </tbody>\n",
       "</table>\n",
       "</div>"
      ],
      "text/plain": [
       "  Location Location in Genome release 37 (hg19)  \\\n",
       "0   Exon 1                          X:153640189   \n",
       "\n",
       "  Location in Genome release 38 (hg38) Protein Variant Type Impact of Variant  \\\n",
       "0                          X:154411852           Frameshift               NaN   \n",
       "\n",
       "  DNA Modifications Protein or mRNA Variants  \\\n",
       "0        c.9_10dupG          p.His4Alafs*130   \n",
       "\n",
       "  Functional outcome (MLCL/CL ratio)  Taffazin Functional motifs  \\\n",
       "0                   MLCL/CL elevated                         NaN   \n",
       "\n",
       "  Method of Validation                          References Source  \\\n",
       "0                  NaN  Ref. 1 (Pat.1); Ref. 80;  Ref. 113    NaN   \n",
       "\n",
       "  Additional variants in other genes Location and Order of Discovery Notes  \\\n",
       "0                                NaN                             1-1   NaN   \n",
       "\n",
       "  Unnamed: 15  \n",
       "0         NaN  "
      ]
     },
     "execution_count": 16,
     "metadata": {},
     "output_type": "execute_result"
    }
   ],
   "source": [
    "df_pathogenic.head(1)"
   ]
  },
  {
   "cell_type": "code",
   "execution_count": 17,
   "id": "74d812aa-11af-436b-a098-7d54f10e8bdc",
   "metadata": {},
   "outputs": [],
   "source": [
    "loc_38_col = 'Location in Genome release 38 (hg38)'\n",
    "loc_37_col = 'Location in Genome release 37 (hg19)'\n",
    "dna_modif_col = 'DNA Modifications'"
   ]
  },
  {
   "cell_type": "code",
   "execution_count": 18,
   "id": "d525f975-415b-4804-8d2a-638772791809",
   "metadata": {},
   "outputs": [],
   "source": [
    "def get_exon_intron_from_taz_positions(taz_database_38_loc, taz_positions=taz_positions):\n",
    "    matching_rows = taz_positions[(taz_positions['Start'] <= taz_database_38_loc) & (taz_positions['End'] >= taz_database_38_loc)]\n",
    "    #rows = #matching_rows['Exon / Intron'].values\n",
    "    # If you expect only one match and want to get a single value\n",
    "    if len(matching_rows) == 1:\n",
    "        return matching_rows.iloc[0]\n",
    "    else:\n",
    "        print(\"Multiple or no matching rows found!\")\n",
    "        return None"
   ]
  },
  {
   "cell_type": "code",
   "execution_count": 19,
   "id": "943ade62-860a-4104-936c-c8f8be734ef9",
   "metadata": {},
   "outputs": [],
   "source": [
    "def find_seq_record(search_string, taz_cdna_path=taz_cdna_path):\n",
    "    # Use a generator expression to find the first matching seq_record\n",
    "    seq_record = next((record for record in SeqIO.parse(taz_cdna_path, \"fasta\") if search_string in record.description), None)\n",
    "    return seq_record\n"
   ]
  },
  {
   "cell_type": "code",
   "execution_count": 23,
   "id": "03e09e3e-a67a-4a3b-b65d-c11555734cbc",
   "metadata": {},
   "outputs": [
    {
     "name": "stdout",
     "output_type": "stream",
     "text": [
      "c.9_10dupG G\n",
      "Multiple or no matching rows found!\n",
      "c.51G>A      G\n",
      "c.51G>A     G\n",
      "c.53_54delCC C\n",
      "c.82_84del GTG G\n",
      "c.83T>A        T\n",
      "c.86G>A       G\n",
      "No matching record found.\n",
      "No matching record found.\n",
      "No matching record found.\n",
      "No matching record found.\n",
      "No matching record found.\n",
      "No matching record found.\n",
      "No matching record found.\n",
      "No matching record found.\n",
      "No matching record found.\n",
      "No matching record found.\n",
      "No matching record found.\n",
      "No matching record found.\n",
      "c.118A>G    A\n",
      "c.124delC    CTGA >TGA C\n",
      "c.124delC    CTGA >TGA C\n",
      "c.127A>C   A\n",
      "c.129del C\n",
      "Multiple or no matching rows found!\n",
      "c.137A>T A\n",
      "Multiple or no matching rows found!\n",
      "c.143delGG A\n",
      "c.145delG G\n",
      "c.149T>C    T\n",
      "c.149T>C     T\n",
      "c.149T>C    T\n",
      "c.149T>C    T\n",
      "c.153C>G   C\n",
      "c.153C>G    C\n",
      "c.153C>G    C\n",
      "c.154G > T G\n",
      "c.157dupC    CTC > CCTC C\n",
      "Multiple or no matching rows found!\n",
      "c.161T>A   T\n",
      "c.162C>G C\n",
      "c.163G>T  G\n",
      "Multiple or no matching rows found!\n",
      "c.170G>T    G\n",
      "c.170G>T  G\n",
      "c.171delA A\n",
      "c.184C>T C\n",
      "c.185C>T   C\n",
      "c.207C>G    C\n",
      "c.207C>G     C\n",
      "c.207C>G    C\n",
      "c.208C>T     C\n",
      "c.208C>T    C\n",
      "c.211T>C   T\n",
      "c.211T>C   T\n",
      "c.216C>A   C\n",
      "c.222C>A   C\n",
      "c.222C>G   C\n",
      "c.223G>C   G\n",
      "c.223G>A    G\n",
      "c.227delC C\n",
      "c.227C>G T\n",
      "c.230A>G A\n",
      "c.236G >A  G\n",
      "c.238G>A  Ggtacc > Agtacc     [r.238G>A     GGG > AGG] G\n",
      "c.238G>A  Ggtacc > Agtacc     [r.238G>A     GGG > AGG] G\n",
      "c.238G>A  Ggtacc > Agtacc     [r.238G>A     GGG > AGG] G\n",
      "c.238G>A  Ggtacc > Agtacc    [r.238G>A     GGG > AGG] G\n",
      "c.238G>A  Ggtacc > Agtacc    [r.238G>A     GGG > AGG] G\n",
      "c.238G>C  Ggtacc > Cgtacc    [r.238G>C     GGG > CGG] G\n",
      "c.238G>C  Ggtacc > Cgtacc    [r.238G>C     GGG > CGG] G\n",
      "Multiple or no matching rows found!\n",
      "No matching record found.\n",
      "No matching record found.\n",
      "No matching record found.\n",
      "No matching record found.\n",
      "c.239G>A   G\n",
      "c.239G>A   G\n",
      "Multiple or no matching rows found!\n",
      "c.245T>C   T\n",
      "c.245T>C   T\n",
      "c.253insC     C\n",
      "c.264G>A    G\n",
      "c.280C>T    C\n",
      "c.280C>T    C\n",
      "c.280C>T    C\n",
      "c.280C>T    C\n",
      "c.280C>T    C\n",
      "c.280C>T    C\n",
      "c.280C>T    C\n",
      "c.280C>T    C\n",
      "c.280C>T    C\n",
      "c.280C>T    C\n",
      "c.280C>T    C\n",
      "c.280C>T    C\n",
      "c.280C >G    C\n",
      "c.280C >G    C\n",
      "c.280C>A       C\n",
      "c.280C>A   C\n",
      "c.281G>A    G\n",
      "c.281G>A    G\n",
      "c.281G>A    G\n",
      "c.281G>A    G\n",
      "c.281G>A    G\n",
      "c.281G>A    G\n",
      "c.281G>A    G\n",
      "c.281G>A    G\n",
      "c.281G>A    G\n",
      "c.281G>A    G\n",
      "c.281G>A    G\n",
      "c.281G>A    G\n",
      "c.281G>A    G\n",
      "c.281G>T   G\n",
      "c.281G>T   G\n",
      "c.281G>C   G\n",
      "c.281G>C  G\n",
      "c.284dupG   TGgtg > TGGgtg G\n",
      "No matching record found.\n",
      "No matching record found.\n",
      "No matching record found.\n",
      "No matching record found.\n",
      "No matching record found.\n",
      "No matching record found.\n",
      "No matching record found.\n",
      "No matching record found.\n",
      "c.285G>A     TGG > TGA G\n",
      "c.293_294insTTAGGACCCC  A\n",
      "c.302G>T    A\n",
      "c.302A>T    A\n",
      "c.307T>C    T\n",
      "c.310T>G   T\n",
      "c.310T>C   T\n",
      "Multiple or no matching rows found!\n",
      "Multiple or no matching rows found!\n",
      "c.328T>C   T\n",
      "c.328T>C  T\n",
      "c.337_339delTTC T\n",
      "c.337_339delTTC T\n",
      "c.346G>C   G\n",
      "c.347G>A  G\n",
      "c.347G>A   G\n",
      "c.347G>A   G\n",
      "c.348C>T C\n",
      "c.348delC      GG(C) C\n",
      "c.349A>G  A\n",
      "c.352T>C  T\n",
      "c.352T>C   T\n",
      "c.355G>A G\n",
      "c.356T>G  T\n",
      "c.358C>A    C\n",
      "c.367C>T   C\n",
      "c.367C>T   C\n",
      "c.367C>T   C\n",
      "c.367C>T   C\n",
      "c.367C>T   C\n",
      "c.367C>T   C\n",
      "c.367C>T   C\n",
      "c.367C>T   C\n",
      "c.367C>T   C\n",
      "Multiple or no matching rows found!\n",
      "c.370G>A  G\n",
      "c.370G>C   G\n",
      "c.370G>T G\n",
      "c.370G>T G\n",
      "No matching record found.\n",
      "No matching record found.\n",
      "No matching record found.\n",
      "No matching record found.\n",
      "No matching record found.\n",
      "No matching record found.\n",
      "No matching record found.\n",
      "No matching record found.\n",
      "c.476A>C   A\n",
      "c.478A>T  A\n",
      "c.478A>T  A\n",
      "c.478del A   A\n",
      "c.481G>A  G\n",
      "c.481G>A  G\n",
      "Multiple or no matching rows found!\n",
      "c.483delG G\n",
      "c.488A>G A\n",
      "c.492insC C\n",
      "c.497T>A   T\n",
      "c.505C>T C\n",
      "c.505C>T C\n",
      "c.506T>A   T\n",
      "c.507C>T  C\n",
      "c.517delG  G\n",
      "c.517delG  G\n",
      "c.517delG   G\n",
      "c.520T>G T\n",
      "c.526C>T  C\n",
      "c.526C>T  C\n",
      "c.527A>G  A\n",
      "c.527A>G    A\n",
      "c.528A>C A\n",
      "c.532T>A  T\n",
      "c.532T>C  T\n",
      "c.536delC    (CCA G> CAG) C\n",
      "No matching record found.\n",
      "No matching record found.\n",
      "Multiple or no matching rows found!\n",
      "No matching record found.\n",
      "No matching record found.\n",
      "No matching record found.\n",
      "c.548T>G   T\n",
      "c.553A>G   new exonic Splicing donor at codon Met185 A\n",
      "c.553A>G   new exonic Splicing donor at codon Met185 A\n",
      "c.553A>G   new exonic Splicing donor at codon Met185 A\n",
      "c.553A>G   new exonic Splicing donor at codon Met185 A\n",
      "c.562G>T   and    c.578A>T  G\n",
      "Multiple or no matching rows found!\n",
      "Multiple or no matching rows found!\n",
      "c.582G>A  G\n",
      "c.582G>A G\n",
      "c.583G>T G\n",
      "c.583G>T G\n",
      "c.583G>T  G\n",
      "c.583G>T   G\n",
      "No matching record found.\n",
      "No matching record found.\n",
      "No matching record found.\n",
      "No matching record found.\n",
      "No matching record found.\n",
      "No matching record found.\n",
      "c.584G>T   G\n",
      "c.589G>A G\n",
      "c.589G>A G\n",
      "c.589G>A G\n",
      "c.589G>A G\n",
      "c.589G>A G\n",
      "c.589G>A G\n",
      "c.589G>A G\n",
      "c.589G>A G\n",
      "c.589G>A G\n",
      "c.589G>A G\n",
      "c.589G>A G\n",
      "c.589G>A G\n",
      "c.589G>A G\n",
      "c.589G>A G\n",
      "c.589G>A   G\n",
      "c.589G>A G\n",
      "c.589G>A G\n",
      "c.589G>T  G\n",
      "c.589G>T   G\n",
      "c.590G>T  G\n",
      "c.590G>A    and   c.791A>G   G\n",
      "c.590G>A  G\n",
      "c.590G>A   G\n",
      "c.590G>A G\n",
      "c.593G>T G\n",
      "c.593G>A G\n",
      "c.602C>T  in NM_000116     (publ as c.469 C>T, p.Leu157Phe, in NM_181313) C\n",
      "Multiple or no matching rows found!\n",
      "Multiple or no matching rows found!\n",
      "c.622A>G   A\n",
      "c.626T>A  T\n",
      "c.626T>A   T\n",
      "c.629T>G   T\n",
      "c.634delC    CCCC > CCC C\n",
      "c.635T>C  T\n",
      "c.639G>A G\n",
      "c.640C>T   G\n",
      "c.641A>G   A\n",
      "c.646G>A  G\n",
      "c.646G>A  G\n",
      "c.646G>A   G\n",
      "c.646G>A/C GGA>A/CGA G\n",
      "c.646G>A   G\n",
      "c.646G>A   G\n",
      "c.646G>A   G\n",
      "c.646G>A   G\n",
      "c.646G>A   G\n",
      "c.646G>A   G\n",
      "c.646G>A   G\n",
      "c.646G>A   G\n",
      "c.646G>A   G\n",
      "c.646G>A   G\n",
      "c.646G>A   G\n",
      "c.646G>A   G\n",
      "c.646G>A   G\n",
      "c.646G>A   G\n",
      "c.646G>A   G\n",
      "c.646G>A   G\n",
      "c.646G>A   G\n",
      "c.646G>A   G\n",
      "No matching record found.\n",
      "c.647G>A G\n",
      "c.647G>T   G\n",
      "Multiple or no matching rows found!\n",
      "Multiple or no matching rows found!\n",
      "Multiple or no matching rows found!\n",
      "c.680dupA A\n",
      "Multiple or no matching rows found!\n",
      "Multiple or no matching rows found!\n",
      "c.688delC   C\n",
      "c.688delC   C\n",
      "c.694G>T    C\n",
      "c.697C>T  C\n",
      "c.697C>T    C\n",
      "c.697C>T   C\n",
      "No matching record found.\n",
      "No matching record found.\n",
      "No matching record found.\n",
      "No matching record found.\n",
      "No matching record found.\n",
      "No matching record found.\n",
      "c.703dupA A\n",
      "Multiple or no matching rows found!\n",
      "c.718G>A  G\n",
      "c.718G>A  G\n",
      "c.718G>A  G\n",
      "c.718G>A  G\n",
      "c.718G>A  G\n",
      "c.718G>A  G\n",
      "c.718G>A  G\n",
      "c.718G>A  G\n",
      "c.718G>C   G\n",
      "c.718G>A   G\n",
      "c.718G>A   G\n",
      "c.718G>A   G\n",
      "c.718G>A   G\n",
      "c.718G>A   G\n",
      "Multiple or no matching rows found!\n",
      "Multiple or no matching rows found!\n",
      "Multiple or no matching rows found!\n",
      "Multiple or no matching rows found!\n",
      "Multiple or no matching rows found!\n",
      "Multiple or no matching rows found!\n",
      "Multiple or no matching rows found!\n",
      "c.748G>T   C\n",
      "c.748delGinsAAA C\n",
      "c.773C>A  C\n",
      "c.773C>A C\n",
      "c.773C>A   C\n",
      "Multiple or no matching rows found!\n",
      "No matching record found.\n",
      "No matching record found.\n",
      "No matching record found.\n",
      "c.778-63_51del G\n",
      "No matching record found.\n",
      "No matching record found.\n",
      "c.778-1G>T G\n",
      "c.798-801delGACG G\n",
      "c.800C>A   C\n",
      "Multiple or no matching rows found!\n",
      "c.811C>T C\n",
      "c.811C>T C\n",
      "c.823C>T   C\n",
      "c.823insTC C\n",
      "c.836delC                          (reported as NM_181312.3 ∆7 var :c.794delC;  p.Thr265Ilefs)  C\n",
      "c.837_838delTC T\n",
      "c.841delG G\n",
      "Multiple or no matching rows found!\n",
      "c.873delG G\n",
      "c.873delG G\n"
     ]
    }
   ],
   "source": [
    "for key, row in df_pathogenic.iterrows():\n",
    "    try:\n",
    "        taz_database_38_loc = int(row[loc_38_col].split(':')[1])\n",
    "        taz_database_37_loc = int(row[loc_37_col].split(':')[1])\n",
    "        taz_database_dna_modif = row[dna_modif_col]\n",
    "        row_from_taz_positions = get_exon_intron_from_taz_positions(taz_database_38_loc)\n",
    "        exon_intron_from_taz_positions = row_from_taz_positions['Exon / Intron']\n",
    "        start_from_taz_positions = row_from_taz_positions['Start']\n",
    "        end_from_taz_positions = row_from_taz_positions['End']\n",
    "\n",
    "\n",
    "        seq_record = find_seq_record(exon_intron_from_taz_positions)\n",
    "\n",
    "        if seq_record:\n",
    "            #print(f\"Found record: {seq_record.description}\")\n",
    "            sequence = seq_record.seq\n",
    "            pos_in_sequence = taz_database_38_loc - start_from_taz_positions\n",
    "            expected_letter = sequence[pos_in_sequence]\n",
    "            print(taz_database_dna_modif, expected_letter)\n",
    "            assert taz_database_dna_modif.endswith(expected_letter)\n",
    "            # TODO hg37, corner cases??\n",
    "        else:\n",
    "            print(\"No matching record found.\")\n",
    "        \n",
    "    except Exception as ex:\n",
    "        pass\n",
    "        # TODO!! solve these !!print(key, row[loc_38_col]) #, ex)\n",
    "    #break\n",
    "        "
   ]
  },
  {
   "cell_type": "code",
   "execution_count": null,
   "id": "b0ce00e9-cac4-405f-8d69-b9b2c79101c3",
   "metadata": {},
   "outputs": [],
   "source": [
    "expected_letter"
   ]
  },
  {
   "cell_type": "code",
   "execution_count": null,
   "id": "d52ccd39-7679-42c5-9b73-bba924839fbf",
   "metadata": {},
   "outputs": [],
   "source": [
    "taz_database_dna_modif"
   ]
  },
  {
   "cell_type": "code",
   "execution_count": null,
   "id": "5d0b8f92-bf65-4e58-9396-3c51bb64cb8b",
   "metadata": {},
   "outputs": [],
   "source": [
    "sequence"
   ]
  },
  {
   "cell_type": "code",
   "execution_count": null,
   "id": "f0a24afa-bb8c-4125-b746-57da61373542",
   "metadata": {},
   "outputs": [],
   "source": [
    "sequence[start_from_taz_positions - start_from_taz_positions]"
   ]
  },
  {
   "cell_type": "code",
   "execution_count": null,
   "id": "394ed2e4-3179-4a2c-adc8-52270bf17411",
   "metadata": {},
   "outputs": [],
   "source": [
    "row_from_taz_positions"
   ]
  },
  {
   "cell_type": "code",
   "execution_count": null,
   "id": "3ced75f7-f4f9-47d2-af7c-b594e8f6c7cc",
   "metadata": {},
   "outputs": [],
   "source": [
    "exon_intron_from_taz_positions"
   ]
  },
  {
   "cell_type": "code",
   "execution_count": null,
   "id": "e2100029-c848-4850-9646-8ae377edc4fd",
   "metadata": {},
   "outputs": [],
   "source": [
    "seq_record.seq"
   ]
  },
  {
   "cell_type": "code",
   "execution_count": null,
   "id": "a4386581-a7d8-437a-93ae-7966b348d35e",
   "metadata": {},
   "outputs": [],
   "source": [
    "matching_record.seq"
   ]
  },
  {
   "cell_type": "code",
   "execution_count": null,
   "id": "de0dbbfe-90b4-4f0c-8e49-9d70ba1968a8",
   "metadata": {},
   "outputs": [],
   "source": []
  },
  {
   "cell_type": "code",
   "execution_count": null,
   "id": "074c3b8a-a4b2-417e-b960-c693d10384d6",
   "metadata": {},
   "outputs": [],
   "source": [
    "taz_positions"
   ]
  },
  {
   "cell_type": "code",
   "execution_count": null,
   "id": "b09df742-f264-40bd-8c56-90e6b2f351fd",
   "metadata": {},
   "outputs": [],
   "source": [
    "taz_positions.Start"
   ]
  },
  {
   "cell_type": "code",
   "execution_count": null,
   "id": "ac5fb6c1-be13-4e02-bdfb-1dee1918079c",
   "metadata": {},
   "outputs": [],
   "source": [
    "taz_positions.head(20)"
   ]
  },
  {
   "cell_type": "code",
   "execution_count": null,
   "id": "8c09bb51-d1c8-49a7-a238-6bc749aa9ae4",
   "metadata": {},
   "outputs": [],
   "source": [
    "taz_database_38"
   ]
  },
  {
   "cell_type": "code",
   "execution_count": null,
   "id": "8d4bad78-ef1a-416e-9e3c-12057489c2e3",
   "metadata": {},
   "outputs": [],
   "source": [
    "taz_database_37"
   ]
  },
  {
   "cell_type": "code",
   "execution_count": null,
   "id": "7956bd3b-73ff-4b48-938f-8ad639243274",
   "metadata": {},
   "outputs": [],
   "source": [
    "taz_database_dna_modif"
   ]
  },
  {
   "cell_type": "code",
   "execution_count": null,
   "id": "a8a82d9f-3063-4779-8db2-176710f5d808",
   "metadata": {},
   "outputs": [],
   "source": [
    "df_pathogenic.Location.value_counts()"
   ]
  }
 ],
 "metadata": {
  "kernelspec": {
   "display_name": "Python 3 (ipykernel)",
   "language": "python",
   "name": "python3"
  },
  "language_info": {
   "codemirror_mode": {
    "name": "ipython",
    "version": 3
   },
   "file_extension": ".py",
   "mimetype": "text/x-python",
   "name": "python",
   "nbconvert_exporter": "python",
   "pygments_lexer": "ipython3",
   "version": "3.8.16"
  }
 },
 "nbformat": 4,
 "nbformat_minor": 5
}
