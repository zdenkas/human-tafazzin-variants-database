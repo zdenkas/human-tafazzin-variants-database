{
 "cells": [
  {
   "cell_type": "markdown",
   "id": "724080f7-202a-4618-b0ba-14b86f1c024e",
   "metadata": {},
   "source": [
    "TODO Luki format??"
   ]
  },
  {
   "cell_type": "markdown",
   "id": "4e53e2ee-97f7-4387-af6d-212af3de82f6",
   "metadata": {},
   "source": [
    "Co prioritizovat? https://github.com/zdenkas/human-tafazzin-variants-database/blob/main/TODO.txt\n",
    "Konzistence cisel (pozic) a nukleotidu\n",
    "Jake k tomu pouzit data?\n",
    "Kolik nekonzistenci tam najdeme? Pak to poslat BSF\n"
   ]
  },
  {
   "cell_type": "raw",
   "id": "4f9aef6a-b0a4-4dae-9f74-b5caa71ec687",
   "metadata": {},
   "source": [
    "! pip install biopython"
   ]
  },
  {
   "cell_type": "code",
   "execution_count": null,
   "id": "9e743aa0-c31a-4560-ad19-78ee0447e5e2",
   "metadata": {},
   "outputs": [],
   "source": [
    "import pandas as pd\n",
    "from Bio import SeqIO"
   ]
  },
  {
   "cell_type": "code",
   "execution_count": null,
   "id": "adebcc4a-d37f-46b6-abfb-0a84174bb0fc",
   "metadata": {
    "tags": []
   },
   "outputs": [],
   "source": [
    "import helpers"
   ]
  },
  {
   "cell_type": "code",
   "execution_count": null,
   "id": "49497dfd-9c1c-42d5-9d93-f9e3b54ce861",
   "metadata": {},
   "outputs": [],
   "source": [
    "database_folder = '../database_versions'"
   ]
  },
  {
   "cell_type": "code",
   "execution_count": null,
   "id": "750d1512-fe7e-4087-ba31-a13d845a483d",
   "metadata": {},
   "outputs": [],
   "source": [
    "input_path_prefix = '../database_versions/0001_2023-10-30-21-51-49-628455_Human-TAFAZZIN-Variants-Database_' \n",
    "# TODO get this automatically in next notebooks\n",
    "\n",
    "output_path_prefix = helpers.create_database_output_path_prefix()"
   ]
  },
  {
   "cell_type": "code",
   "execution_count": null,
   "id": "1f4a7882-909e-4183-beaf-6e1e23b239e6",
   "metadata": {},
   "outputs": [],
   "source": [
    "taz_cdna_path = '../data_external/Homo_sapiens_ENST00000601016_6_sequence.fa'\n",
    "taz_positions_path = '../data_external/ExonsSpreadsheet-Homo_sapiens_Transcript_Exons_ENST00000601016_whole_table.csv'"
   ]
  },
  {
   "cell_type": "markdown",
   "id": "31474d53-ac48-436d-8b37-f57c1b051822",
   "metadata": {},
   "source": [
    "### Load positions\n",
    "\n",
    "in hg38"
   ]
  },
  {
   "cell_type": "code",
   "execution_count": null,
   "id": "f78b8ff2-0dd9-4dc0-ad46-ad8a24486a61",
   "metadata": {},
   "outputs": [],
   "source": [
    "taz_positions = pd.read_csv(taz_positions_path)"
   ]
  },
  {
   "cell_type": "code",
   "execution_count": null,
   "id": "c03b8559-b590-4b38-811e-06475c1d9c18",
   "metadata": {},
   "outputs": [],
   "source": [
    "taz_positions['Start'] = pd.to_numeric(taz_positions['Start'].str.replace(',', ''), errors='coerce')\n",
    "taz_positions['Start'] = taz_positions['Start'].fillna(0).astype(int)"
   ]
  },
  {
   "cell_type": "code",
   "execution_count": null,
   "id": "0505a4e2-90d2-4d30-9d89-306b00091839",
   "metadata": {},
   "outputs": [],
   "source": [
    "taz_positions['End'] = pd.to_numeric(taz_positions['End'].str.replace(',', ''), errors='coerce')\n",
    "taz_positions['End'] = taz_positions['End'].fillna(0).astype(int)"
   ]
  },
  {
   "cell_type": "code",
   "execution_count": null,
   "id": "df036ff5-d50d-45f3-a6d0-68d479b1f04a",
   "metadata": {},
   "outputs": [],
   "source": [
    "taz_positions.head()"
   ]
  },
  {
   "cell_type": "markdown",
   "id": "0d669799-6013-4beb-bc09-0dc453ec5ccd",
   "metadata": {},
   "source": [
    "### Load cdna"
   ]
  },
  {
   "cell_type": "code",
   "execution_count": null,
   "id": "00b4619c-1970-4c09-8f22-5e9190b04831",
   "metadata": {
    "tags": []
   },
   "outputs": [],
   "source": [
    "for seq_record in SeqIO.parse(taz_cdna_path, \"fasta\"):\n",
    "    #print(seq_record.id)\n",
    "    #print(seq_record.name)\n",
    "    print(seq_record.description)\n",
    "    #print(repr(seq_record.seq))\n",
    "    #print(len(seq_record))\n",
    "    print('-----')"
   ]
  },
  {
   "cell_type": "code",
   "execution_count": null,
   "id": "91ea0252-0d94-454a-a255-ed92ca8c13fa",
   "metadata": {},
   "outputs": [],
   "source": [
    "len(seq_record)"
   ]
  },
  {
   "cell_type": "code",
   "execution_count": null,
   "id": "84c64ff3-e952-4bf5-8797-353d11a6103a",
   "metadata": {},
   "outputs": [],
   "source": [
    "seq_record.seq"
   ]
  },
  {
   "cell_type": "code",
   "execution_count": null,
   "id": "b5b2c265-5c4b-4779-9bf3-7f95a3736abe",
   "metadata": {},
   "outputs": [],
   "source": [
    "seq_record.seq[-1]"
   ]
  },
  {
   "cell_type": "code",
   "execution_count": null,
   "id": "28018b42-409b-4da5-a953-91051f837c58",
   "metadata": {},
   "outputs": [],
   "source": [
    "seq_record"
   ]
  },
  {
   "cell_type": "markdown",
   "id": "d1923492-5cbd-47e2-b1dc-1fc222f6cd3b",
   "metadata": {},
   "source": [
    "### Load Tafazzin database"
   ]
  },
  {
   "cell_type": "code",
   "execution_count": null,
   "id": "76f9465f-4f81-4437-8932-756888b18353",
   "metadata": {},
   "outputs": [],
   "source": [
    "df_pathogenic = pd.read_csv(input_path_prefix + 'pathogenic.csv')\n",
    "df_vus = pd.read_csv(input_path_prefix + 'vus.csv')\n",
    "df_exon5 = pd.read_csv(input_path_prefix + 'exon5.csv')\n",
    "df_benign = pd.read_csv(input_path_prefix + 'benign.csv')"
   ]
  },
  {
   "cell_type": "code",
   "execution_count": null,
   "id": "e8ed74a2-d20f-45f2-9058-a42aca7ea62c",
   "metadata": {},
   "outputs": [],
   "source": [
    "df_pathogenic.head(1)"
   ]
  },
  {
   "cell_type": "code",
   "execution_count": null,
   "id": "74d812aa-11af-436b-a098-7d54f10e8bdc",
   "metadata": {},
   "outputs": [],
   "source": [
    "loc_38_col = 'Location in Genome release 38 (hg38)'\n",
    "loc_37_col = 'Location in Genome release 37 (hg19)'\n",
    "dna_modif_col = 'DNA Modifications'"
   ]
  },
  {
   "cell_type": "code",
   "execution_count": null,
   "id": "d525f975-415b-4804-8d2a-638772791809",
   "metadata": {},
   "outputs": [],
   "source": [
    "def get_exon_intron_from_taz_positions(taz_database_38_loc, taz_positions=taz_positions):\n",
    "    matching_rows = taz_positions[(taz_positions['Start'] <= taz_database_38_loc) & (taz_positions['End'] >= taz_database_38_loc)]\n",
    "    exon_intron_values = matching_rows['Exon / Intron'].values\n",
    "\n",
    "    # If you expect only one match and want to get a single value\n",
    "    if len(exon_intron_values) == 1:\n",
    "        return exon_intron_values[0]\n",
    "    else:\n",
    "        print(\"Multiple or no matching rows found!\")\n",
    "        return None"
   ]
  },
  {
   "cell_type": "code",
   "execution_count": null,
   "id": "943ade62-860a-4104-936c-c8f8be734ef9",
   "metadata": {},
   "outputs": [],
   "source": [
    "def find_seq_record(search_string, taz_cdna_path=taz_cdna_path):\n",
    "    # Use a generator expression to find the first matching seq_record\n",
    "    seq_record = next((record for record in SeqIO.parse(taz_cdna_path, \"fasta\") if search_string in record.description), None)\n",
    "    return seq_record\n"
   ]
  },
  {
   "cell_type": "code",
   "execution_count": null,
   "id": "03e09e3e-a67a-4a3b-b65d-c11555734cbc",
   "metadata": {},
   "outputs": [],
   "source": [
    "for key, row in df_pathogenic.iterrows():\n",
    "    try:\n",
    "        taz_database_38_loc = int(row[loc_38_col].split(':')[1])\n",
    "        taz_database_37_loc = int(row[loc_37_col].split(':')[1])\n",
    "        taz_database_dna_modif = row[dna_modif_col]\n",
    "        exon_intron_from_taz_positions = get_exon_intron_from_taz_positions(taz_database_38_loc)\n",
    "        seq_record = find_seq_record(exon_intron_from_taz_positions)\n",
    "\n",
    "        if seq_record:\n",
    "            print(f\"Found record: {seq_record.description}\")\n",
    "            print(seq_record.sequence)\n",
    "        else:\n",
    "            print(\"No matching record found.\")\n",
    "        \n",
    "    except Exception as ex:\n",
    "        print(key, row[loc_38_col]) #, ex)\n",
    "    break\n",
    "        "
   ]
  },
  {
   "cell_type": "code",
   "execution_count": null,
   "id": "a4386581-a7d8-437a-93ae-7966b348d35e",
   "metadata": {},
   "outputs": [],
   "source": [
    "matching_record.seq"
   ]
  },
  {
   "cell_type": "code",
   "execution_count": null,
   "id": "de0dbbfe-90b4-4f0c-8e49-9d70ba1968a8",
   "metadata": {},
   "outputs": [],
   "source": []
  },
  {
   "cell_type": "code",
   "execution_count": null,
   "id": "074c3b8a-a4b2-417e-b960-c693d10384d6",
   "metadata": {},
   "outputs": [],
   "source": [
    "taz_positions"
   ]
  },
  {
   "cell_type": "code",
   "execution_count": null,
   "id": "b09df742-f264-40bd-8c56-90e6b2f351fd",
   "metadata": {},
   "outputs": [],
   "source": [
    "taz_positions.Start"
   ]
  },
  {
   "cell_type": "code",
   "execution_count": null,
   "id": "ac5fb6c1-be13-4e02-bdfb-1dee1918079c",
   "metadata": {},
   "outputs": [],
   "source": [
    "taz_positions.head(20)"
   ]
  },
  {
   "cell_type": "code",
   "execution_count": null,
   "id": "8c09bb51-d1c8-49a7-a238-6bc749aa9ae4",
   "metadata": {},
   "outputs": [],
   "source": [
    "taz_database_38"
   ]
  },
  {
   "cell_type": "code",
   "execution_count": null,
   "id": "8d4bad78-ef1a-416e-9e3c-12057489c2e3",
   "metadata": {},
   "outputs": [],
   "source": [
    "taz_database_37"
   ]
  },
  {
   "cell_type": "code",
   "execution_count": null,
   "id": "7956bd3b-73ff-4b48-938f-8ad639243274",
   "metadata": {},
   "outputs": [],
   "source": [
    "taz_database_dna_modif"
   ]
  },
  {
   "cell_type": "code",
   "execution_count": null,
   "id": "a8a82d9f-3063-4779-8db2-176710f5d808",
   "metadata": {},
   "outputs": [],
   "source": [
    "df_pathogenic.Location.value_counts()"
   ]
  }
 ],
 "metadata": {
  "kernelspec": {
   "display_name": "Python 3 (ipykernel)",
   "language": "python",
   "name": "python3"
  },
  "language_info": {
   "codemirror_mode": {
    "name": "ipython",
    "version": 3
   },
   "file_extension": ".py",
   "mimetype": "text/x-python",
   "name": "python",
   "nbconvert_exporter": "python",
   "pygments_lexer": "ipython3",
   "version": "3.8.16"
  }
 },
 "nbformat": 4,
 "nbformat_minor": 5
}
