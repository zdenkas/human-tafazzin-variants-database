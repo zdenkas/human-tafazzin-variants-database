{
 "cells": [
  {
   "cell_type": "markdown",
   "id": "724080f7-202a-4618-b0ba-14b86f1c024e",
   "metadata": {},
   "source": [
    "TODO Luki format??"
   ]
  },
  {
   "cell_type": "markdown",
   "id": "4e53e2ee-97f7-4387-af6d-212af3de82f6",
   "metadata": {},
   "source": [
    "Co prioritizovat? https://github.com/zdenkas/human-tafazzin-variants-database/blob/main/TODO.txt\n",
    "Konzistence cisel (pozic) a nukleotidu\n",
    "Jake k tomu pouzit data?\n",
    "Kolik nekonzistenci tam najdeme? Pak to poslat BSF\n"
   ]
  },
  {
   "cell_type": "raw",
   "id": "4f9aef6a-b0a4-4dae-9f74-b5caa71ec687",
   "metadata": {},
   "source": [
    "! pip install biopython"
   ]
  },
  {
   "cell_type": "code",
   "execution_count": null,
   "id": "9e743aa0-c31a-4560-ad19-78ee0447e5e2",
   "metadata": {},
   "outputs": [],
   "source": [
    "import pandas as pd\n",
    "from Bio import SeqIO"
   ]
  },
  {
   "cell_type": "code",
   "execution_count": null,
   "id": "adebcc4a-d37f-46b6-abfb-0a84174bb0fc",
   "metadata": {
    "tags": []
   },
   "outputs": [],
   "source": [
    "import helpers"
   ]
  },
  {
   "cell_type": "code",
   "execution_count": null,
   "id": "49497dfd-9c1c-42d5-9d93-f9e3b54ce861",
   "metadata": {},
   "outputs": [],
   "source": [
    "database_folder = '../database_versions'"
   ]
  },
  {
   "cell_type": "code",
   "execution_count": null,
   "id": "750d1512-fe7e-4087-ba31-a13d845a483d",
   "metadata": {},
   "outputs": [],
   "source": [
    "input_path_prefix = '../database_versions/0001_2023-10-30-21-51-49-628455_Human-TAFAZZIN-Variants-Database_' \n",
    "# TODO get this automatically in next notebooks\n",
    "\n",
    "output_path_prefix = helpers.create_database_output_path_prefix()"
   ]
  },
  {
   "cell_type": "code",
   "execution_count": null,
   "id": "1f4a7882-909e-4183-beaf-6e1e23b239e6",
   "metadata": {},
   "outputs": [],
   "source": [
    "taz_sequences_path = '../data_external/Homo_sapiens_ENST00000601016_6_sequence.fa'\n",
    "taz_positions_path = '../data_external/ExonsSpreadsheet-Homo_sapiens_Transcript_Exons_ENST00000601016_whole_table.csv'"
   ]
  },
  {
   "cell_type": "markdown",
   "id": "31474d53-ac48-436d-8b37-f57c1b051822",
   "metadata": {},
   "source": [
    "### Load positions\n",
    "\n",
    "TAZ positions from ensembl.org in hg38. "
   ]
  },
  {
   "cell_type": "code",
   "execution_count": null,
   "id": "f78b8ff2-0dd9-4dc0-ad46-ad8a24486a61",
   "metadata": {},
   "outputs": [],
   "source": [
    "taz_positions = pd.read_csv(taz_positions_path)"
   ]
  },
  {
   "cell_type": "code",
   "execution_count": null,
   "id": "c03b8559-b590-4b38-811e-06475c1d9c18",
   "metadata": {},
   "outputs": [],
   "source": [
    "taz_positions['Start'] = pd.to_numeric(taz_positions['Start'].str.replace(',', ''), errors='coerce')\n",
    "taz_positions['Start'] = taz_positions['Start'].fillna(0).astype(int)"
   ]
  },
  {
   "cell_type": "code",
   "execution_count": null,
   "id": "0505a4e2-90d2-4d30-9d89-306b00091839",
   "metadata": {},
   "outputs": [],
   "source": [
    "taz_positions['End'] = pd.to_numeric(taz_positions['End'].str.replace(',', ''), errors='coerce')\n",
    "taz_positions['End'] = taz_positions['End'].fillna(0).astype(int)"
   ]
  },
  {
   "cell_type": "markdown",
   "id": "a2acee88-ea78-43e1-913c-576a1570dc29",
   "metadata": {},
   "source": [
    "#### Sanity check for length of exon:"
   ]
  },
  {
   "cell_type": "code",
   "execution_count": null,
   "id": "e92deff5-bff9-4006-8621-5302409028f8",
   "metadata": {},
   "outputs": [],
   "source": [
    "taz_positions_exons_only = taz_positions[(taz_positions['No.'] != ' ') & (~taz_positions['No.'].isna())].copy(deep=True)\n",
    "taz_positions_exons_only"
   ]
  },
  {
   "cell_type": "code",
   "execution_count": null,
   "id": "a8eb2a17-308d-4a01-ac9a-a74f46fb6e77",
   "metadata": {},
   "outputs": [],
   "source": [
    "154411852 - 154411539"
   ]
  },
  {
   "cell_type": "code",
   "execution_count": null,
   "id": "2d2cd450-9928-4ac1-9876-601ef92a2444",
   "metadata": {},
   "outputs": [],
   "source": [
    "taz_positions_exons_only['Length'] = taz_positions_exons_only['Length'].astype(int)"
   ]
  },
  {
   "cell_type": "code",
   "execution_count": null,
   "id": "656dfe1a-7445-4b8d-954d-82f6332e8fc5",
   "metadata": {},
   "outputs": [],
   "source": [
    "taz_positions_exons_only['Length'].sum()"
   ]
  },
  {
   "cell_type": "markdown",
   "id": "0d669799-6013-4beb-bc09-0dc453ec5ccd",
   "metadata": {},
   "source": [
    "### Load TAZ sequences\n",
    "\n",
    "from ensembl.org"
   ]
  },
  {
   "cell_type": "code",
   "execution_count": null,
   "id": "00b4619c-1970-4c09-8f22-5e9190b04831",
   "metadata": {
    "tags": []
   },
   "outputs": [],
   "source": [
    "for seq_record in SeqIO.parse(taz_sequences_path, \"fasta\"):\n",
    "    #print(seq_record.id)\n",
    "    #print(seq_record.name)\n",
    "    print(seq_record.description)\n",
    "    #print(repr(seq_record.seq))\n",
    "    print(len(seq_record))\n",
    "    print('-----')"
   ]
  },
  {
   "cell_type": "code",
   "execution_count": null,
   "id": "91ea0252-0d94-454a-a255-ed92ca8c13fa",
   "metadata": {},
   "outputs": [],
   "source": [
    "len(seq_record)"
   ]
  },
  {
   "cell_type": "code",
   "execution_count": null,
   "id": "84c64ff3-e952-4bf5-8797-353d11a6103a",
   "metadata": {},
   "outputs": [],
   "source": [
    "seq_record.seq"
   ]
  },
  {
   "cell_type": "code",
   "execution_count": null,
   "id": "b5b2c265-5c4b-4779-9bf3-7f95a3736abe",
   "metadata": {},
   "outputs": [],
   "source": [
    "seq_record.seq[-1]"
   ]
  },
  {
   "cell_type": "code",
   "execution_count": null,
   "id": "28018b42-409b-4da5-a953-91051f837c58",
   "metadata": {},
   "outputs": [],
   "source": [
    "seq_record"
   ]
  },
  {
   "cell_type": "markdown",
   "id": "d1923492-5cbd-47e2-b1dc-1fc222f6cd3b",
   "metadata": {},
   "source": [
    "### Load Tafazzin database"
   ]
  },
  {
   "cell_type": "code",
   "execution_count": null,
   "id": "76f9465f-4f81-4437-8932-756888b18353",
   "metadata": {},
   "outputs": [],
   "source": [
    "df_pathogenic = pd.read_csv(input_path_prefix + 'pathogenic.csv')\n",
    "df_vus = pd.read_csv(input_path_prefix + 'vus.csv')\n",
    "df_exon5 = pd.read_csv(input_path_prefix + 'exon5.csv')\n",
    "df_benign = pd.read_csv(input_path_prefix + 'benign.csv')"
   ]
  },
  {
   "cell_type": "code",
   "execution_count": null,
   "id": "e8ed74a2-d20f-45f2-9058-a42aca7ea62c",
   "metadata": {},
   "outputs": [],
   "source": [
    "df_pathogenic.head(1)"
   ]
  },
  {
   "cell_type": "code",
   "execution_count": null,
   "id": "74d812aa-11af-436b-a098-7d54f10e8bdc",
   "metadata": {},
   "outputs": [],
   "source": [
    "loc_38_col = 'Location in Genome release 38 (hg38)'\n",
    "loc_37_col = 'Location in Genome release 37 (hg19)'\n",
    "dna_modif_col = 'DNA Modifications'"
   ]
  },
  {
   "cell_type": "code",
   "execution_count": null,
   "id": "d525f975-415b-4804-8d2a-638772791809",
   "metadata": {},
   "outputs": [],
   "source": [
    "def get_row_from_taz_positions(taz_database_38_loc, taz_positions=taz_positions):\n",
    "    matching_rows = taz_positions[(taz_positions['Start'] <= taz_database_38_loc) & (taz_positions['End'] >= taz_database_38_loc)]\n",
    "    #rows = #matching_rows['Exon / Intron'].values\n",
    "    # If you expect only one match and want to get a single value\n",
    "    if len(matching_rows) == 1:\n",
    "        return matching_rows.iloc[0]\n",
    "    else:\n",
    "        print(\"Multiple or no matching rows found!\")\n",
    "        return None"
   ]
  },
  {
   "cell_type": "code",
   "execution_count": null,
   "id": "943ade62-860a-4104-936c-c8f8be734ef9",
   "metadata": {},
   "outputs": [],
   "source": [
    "def find_seq_record(search_string, taz_sequences_path=taz_sequences_path):\n",
    "    # Use a generator expression to find the first matching seq_record\n",
    "    seq_record = next((record for record in SeqIO.parse(taz_sequences_path, \"fasta\") if search_string in record.description), None)\n",
    "    return seq_record\n"
   ]
  },
  {
   "cell_type": "code",
   "execution_count": null,
   "id": "8dfe9a7d-d776-4985-b843-986a5d59165d",
   "metadata": {},
   "outputs": [],
   "source": [
    "taz_positions"
   ]
  },
  {
   "cell_type": "code",
   "execution_count": null,
   "id": "03e09e3e-a67a-4a3b-b65d-c11555734cbc",
   "metadata": {},
   "outputs": [],
   "source": [
    "i = 0\n",
    "for key, row in df_pathogenic.iterrows():\n",
    "    i += 1\n",
    "    try:\n",
    "        taz_database_38_loc = int(row[loc_38_col].split(':')[1])\n",
    "        taz_database_37_loc = int(row[loc_37_col].split(':')[1])\n",
    "        taz_database_dna_motif = row[dna_modif_col]\n",
    "        row_from_taz_positions = get_row_from_taz_positions(taz_database_38_loc)\n",
    "        exon_intron_from_taz_positions = row_from_taz_positions['Exon / Intron']\n",
    "        start_from_taz_positions = row_from_taz_positions['Start']\n",
    "        end_from_taz_positions = row_from_taz_positions['End']\n",
    "        seq_from_taz_positions = row_from_taz_positions.Sequence.split('}')[-1].strip()\n",
    "        \n",
    "        seq_record = find_seq_record(exon_intron_from_taz_positions)\n",
    "\n",
    "        if seq_record:\n",
    "            #print(f\"Found record: {seq_record.description}\")\n",
    "            sequence = seq_record.seq\n",
    "            pos_in_sequence = taz_database_38_loc - start_from_taz_positions\n",
    "            expected_letter = sequence[pos_in_sequence]\n",
    "            print(taz_database_dna_motif, expected_letter)\n",
    "            #if not taz_database_dna_motif.endswith(expected_letter):\n",
    "            #    print('PROBLEM endswith')\n",
    "            #break\n",
    "            if i ==5:\n",
    "                break\n",
    "            \n",
    "            \n",
    "            # TODO hg37, corner cases??\n",
    "        else:\n",
    "            print(\"No matching record found.\")\n",
    "        #break\n",
    "        \n",
    "    except Exception as ex:\n",
    "        pass\n",
    "        # TODO!! solve these !!print(key, row[loc_38_col]) #, ex)\n",
    "    #break\n",
    "        "
   ]
  },
  {
   "cell_type": "code",
   "execution_count": null,
   "id": "ff5c6a60-672e-4427-8c49-689ddf2548a1",
   "metadata": {},
   "outputs": [],
   "source": [
    "154411894 -  154411539"
   ]
  },
  {
   "cell_type": "code",
   "execution_count": null,
   "id": "14b1c13d-dc13-48ae-b754-4545e729d2a1",
   "metadata": {},
   "outputs": [],
   "source": [
    "pos_in_sequence"
   ]
  },
  {
   "cell_type": "code",
   "execution_count": null,
   "id": "bc759a98-c202-48d9-90b6-03ccdfb62d9b",
   "metadata": {},
   "outputs": [],
   "source": [
    "seq_record"
   ]
  },
  {
   "cell_type": "code",
   "execution_count": null,
   "id": "e38f55d4-449c-456a-b6ec-05279fcfccff",
   "metadata": {},
   "outputs": [],
   "source": [
    "seq_record s"
   ]
  },
  {
   "cell_type": "code",
   "execution_count": null,
   "id": "8ae1da2a-aff7-4dd6-8145-37d0003b513b",
   "metadata": {},
   "outputs": [],
   "source": [
    "seq_record[51]"
   ]
  },
  {
   "cell_type": "code",
   "execution_count": null,
   "id": "c23d3771-3afd-44ee-8d52-2f908625a1f5",
   "metadata": {},
   "outputs": [],
   "source": [
    "pos_in_sequence"
   ]
  },
  {
   "cell_type": "code",
   "execution_count": null,
   "id": "86efbe1b-b4a7-449e-ab0b-eb74bbd354af",
   "metadata": {},
   "outputs": [],
   "source": [
    "len(seq_record)"
   ]
  },
  {
   "cell_type": "code",
   "execution_count": null,
   "id": "931b2b0d-c03e-4fc1-b0ef-cd1327f0a504",
   "metadata": {},
   "outputs": [],
   "source": [
    "154411952 - 154411539"
   ]
  },
  {
   "cell_type": "code",
   "execution_count": null,
   "id": "041e6535-cd15-4c00-9511-761939c0eddf",
   "metadata": {},
   "outputs": [],
   "source": [
    "row_from_taz_positions"
   ]
  },
  {
   "cell_type": "code",
   "execution_count": null,
   "id": "dda9a68a-ce47-46ee-966d-1eacb2f308f4",
   "metadata": {},
   "outputs": [],
   "source": [
    "str(seq_record.seq)"
   ]
  },
  {
   "cell_type": "code",
   "execution_count": null,
   "id": "7f4ef9d5-af0a-44ac-954a-cac16e9a35a7",
   "metadata": {},
   "outputs": [],
   "source": [
    "seq_record.seq[51]"
   ]
  },
  {
   "cell_type": "code",
   "execution_count": null,
   "id": "7bcf5082-dd64-414b-a415-6113f54be805",
   "metadata": {},
   "outputs": [],
   "source": [
    "for seq_record in SeqIO.parse(taz_sequences_path, \"fasta\"):\n",
    "    break"
   ]
  },
  {
   "cell_type": "code",
   "execution_count": null,
   "id": "b6614b0c-42f2-4925-8532-315e2226eb33",
   "metadata": {},
   "outputs": [],
   "source": [
    "seq_record[54]"
   ]
  },
  {
   "cell_type": "code",
   "execution_count": null,
   "id": "8876f443-998d-42cc-8a8b-a1823cc48e80",
   "metadata": {},
   "outputs": [],
   "source": [
    "len()"
   ]
  },
  {
   "cell_type": "code",
   "execution_count": null,
   "id": "0d1847b7-2dcb-4498-b16d-becdcd20db69",
   "metadata": {},
   "outputs": [],
   "source": [
    "seq_from_taz_positions == str(sequence)"
   ]
  },
  {
   "cell_type": "code",
   "execution_count": null,
   "id": "22fde77f-ae10-4e85-969d-7c75256ea0d0",
   "metadata": {},
   "outputs": [],
   "source": [
    "row_from_taz"
   ]
  },
  {
   "cell_type": "code",
   "execution_count": null,
   "id": "9fbdcb21-ace0-441e-b3df-980332752f2c",
   "metadata": {},
   "outputs": [],
   "source": [
    "seq_from_taz_positions[53]"
   ]
  },
  {
   "cell_type": "code",
   "execution_count": null,
   "id": "bec1e2c6-83fe-4a3b-80d9-71a977254b92",
   "metadata": {},
   "outputs": [],
   "source": [
    "row_from_taz_positions"
   ]
  },
  {
   "cell_type": "code",
   "execution_count": null,
   "id": "c3347ca4-05bc-481e-a67a-f6d6f5f31a52",
   "metadata": {},
   "outputs": [],
   "source": [
    "len(row_from_taz_positions.Sequence.split('}')[-1].strip())"
   ]
  },
  {
   "cell_type": "code",
   "execution_count": null,
   "id": "1e671bd1-bc3f-4cac-be73-21f0cf5db8a9",
   "metadata": {},
   "outputs": [],
   "source": []
  },
  {
   "cell_type": "code",
   "execution_count": null,
   "id": "2ae21423-4d55-41eb-9f60-49f32cc85b22",
   "metadata": {},
   "outputs": [],
   "source": [
    "start_from_taz_positions"
   ]
  },
  {
   "cell_type": "code",
   "execution_count": null,
   "id": "84a3b6f8-3670-49c8-a03d-e8b76be0d2b0",
   "metadata": {},
   "outputs": [],
   "source": [
    "pos_in_sequence"
   ]
  },
  {
   "cell_type": "code",
   "execution_count": null,
   "id": "c2bcc1cb-5e05-4501-9cfc-f12b110aef23",
   "metadata": {},
   "outputs": [],
   "source": [
    "taz_database_38_loc"
   ]
  },
  {
   "cell_type": "code",
   "execution_count": null,
   "id": "f09eec1b-9bf4-48ae-b7f9-929d55947c1b",
   "metadata": {},
   "outputs": [],
   "source": [
    "154411539 + "
   ]
  },
  {
   "cell_type": "code",
   "execution_count": null,
   "id": "e93ec44d-b4c6-4775-8b37-a70dc5860df1",
   "metadata": {},
   "outputs": [],
   "source": [
    "end_from_taz_positions"
   ]
  },
  {
   "cell_type": "code",
   "execution_count": null,
   "id": "b909e032-449e-4b22-a4fe-d2b5888967ea",
   "metadata": {},
   "outputs": [],
   "source": [
    "row_from_taz_positions"
   ]
  },
  {
   "cell_type": "markdown",
   "id": "5537329e-ee12-4710-b338-0a5b714e5c05",
   "metadata": {},
   "source": [
    "TODO dna modifications?? co je 51??"
   ]
  },
  {
   "cell_type": "code",
   "execution_count": null,
   "id": "c510360e-4eee-472c-84e9-78a24e0da6b5",
   "metadata": {},
   "outputs": [],
   "source": [
    "start_from_taz_positions"
   ]
  },
  {
   "cell_type": "code",
   "execution_count": null,
   "id": "755ddcf9-4c3b-4626-b73d-8525cf1c7543",
   "metadata": {},
   "outputs": [],
   "source": [
    "taz_database_38_loc"
   ]
  },
  {
   "cell_type": "code",
   "execution_count": null,
   "id": "0686173f-6647-4a49-a01e-c22f1daaca64",
   "metadata": {},
   "outputs": [],
   "source": [
    "pos_in_sequence"
   ]
  },
  {
   "cell_type": "code",
   "execution_count": null,
   "id": "965c4d70-6e3b-479b-ae52-07f88e60f4d0",
   "metadata": {},
   "outputs": [],
   "source": []
  },
  {
   "cell_type": "code",
   "execution_count": null,
   "id": "ebd04385-57f7-4558-9976-4c03d7b9be8f",
   "metadata": {},
   "outputs": [],
   "source": [
    "pos_in_sequence"
   ]
  },
  {
   "cell_type": "code",
   "execution_count": null,
   "id": "c292d2bb-718a-4d66-ab48-941c1db53b85",
   "metadata": {},
   "outputs": [],
   "source": [
    "pos_in_sequence"
   ]
  },
  {
   "cell_type": "code",
   "execution_count": null,
   "id": "8f7b7618-b5f5-412e-a994-bc690eb76e32",
   "metadata": {},
   "outputs": [],
   "source": [
    "assert taz_database_dna_motif.endswith(expected_letter)"
   ]
  },
  {
   "cell_type": "code",
   "execution_count": null,
   "id": "9ed90be7-caff-4243-8870-37ba50fa577c",
   "metadata": {},
   "outputs": [],
   "source": [
    "taz_database_dna_motife"
   ]
  },
  {
   "cell_type": "code",
   "execution_count": null,
   "id": "40d0523b-9c2b-444f-995c-7b475d696147",
   "metadata": {},
   "outputs": [],
   "source": [
    "taz_database_dna_motif.endswith(expected_letter)"
   ]
  },
  {
   "cell_type": "code",
   "execution_count": null,
   "id": "b4dd1a1b-c776-4bb3-970f-058660108242",
   "metadata": {},
   "outputs": [],
   "source": [
    "expected_letter"
   ]
  },
  {
   "cell_type": "code",
   "execution_count": null,
   "id": "f6a815bd-d182-4bb5-8574-6638a95ecee5",
   "metadata": {},
   "outputs": [],
   "source": [
    "taz_database_dna_motif.endswith(expected_letter)"
   ]
  },
  {
   "cell_type": "code",
   "execution_count": null,
   "id": "cef338d4-17dc-4cdd-b1da-eb0bd87e1446",
   "metadata": {},
   "outputs": [],
   "source": [
    "expected_letter"
   ]
  },
  {
   "cell_type": "code",
   "execution_count": null,
   "id": "90e910fc-3c1a-4fb3-ac51-390d1ace5968",
   "metadata": {},
   "outputs": [],
   "source": [
    "taz_database_dna_motif"
   ]
  },
  {
   "cell_type": "code",
   "execution_count": null,
   "id": "0da0a102-2a50-408a-a801-617e1ba8bef6",
   "metadata": {},
   "outputs": [],
   "source": [
    "taz_database_dna_modif"
   ]
  },
  {
   "cell_type": "code",
   "execution_count": null,
   "id": "cc9f9d7e-b899-480f-8e82-e76abcdea88c",
   "metadata": {},
   "outputs": [],
   "source": [
    "taz_database_dna_modif.endswith(expected_letter)"
   ]
  },
  {
   "cell_type": "code",
   "execution_count": null,
   "id": "d9a3e7fb-0347-40ca-878f-4ef1e7372e37",
   "metadata": {},
   "outputs": [],
   "source": [
    "expected_letter"
   ]
  },
  {
   "cell_type": "code",
   "execution_count": null,
   "id": "4968a7de-81e1-4466-8bbc-634dc6ebbe05",
   "metadata": {},
   "outputs": [],
   "source": [
    "pos_in_sequence"
   ]
  },
  {
   "cell_type": "code",
   "execution_count": null,
   "id": "b34d2827-bcc7-47b6-af39-5470fbad73ee",
   "metadata": {},
   "outputs": [],
   "source": [
    "taz_database_38_loc"
   ]
  },
  {
   "cell_type": "code",
   "execution_count": null,
   "id": "01e7a45c-59b6-455f-8788-32871e4a7f19",
   "metadata": {},
   "outputs": [],
   "source": [
    "exon_intron_from_taz_positions"
   ]
  },
  {
   "cell_type": "code",
   "execution_count": null,
   "id": "102e7ddb-d4b7-4b1d-8796-e199620eb90e",
   "metadata": {},
   "outputs": [],
   "source": [
    "seq_record"
   ]
  },
  {
   "cell_type": "code",
   "execution_count": null,
   "id": "4375f784-c8b3-4a47-b607-f46f787ad7dc",
   "metadata": {},
   "outputs": [],
   "source": [
    "row_from_taz_positions"
   ]
  },
  {
   "cell_type": "code",
   "execution_count": null,
   "id": "55d6deb6-d102-44cb-b0fc-4a73e4db8fcf",
   "metadata": {},
   "outputs": [],
   "source": [
    "exon_intron_from_taz_positions"
   ]
  },
  {
   "cell_type": "code",
   "execution_count": null,
   "id": "41cb1b59-584a-4209-a1c1-25136b713c7c",
   "metadata": {},
   "outputs": [],
   "source": [
    "start_from_taz_positions"
   ]
  },
  {
   "cell_type": "code",
   "execution_count": null,
   "id": "046eaa33-2370-4ee1-813f-0747d6b94e6b",
   "metadata": {},
   "outputs": [],
   "source": [
    "end_from_taz_positions"
   ]
  },
  {
   "cell_type": "code",
   "execution_count": null,
   "id": "b0ce00e9-cac4-405f-8d69-b9b2c79101c3",
   "metadata": {},
   "outputs": [],
   "source": [
    "expected_letter"
   ]
  },
  {
   "cell_type": "code",
   "execution_count": null,
   "id": "d52ccd39-7679-42c5-9b73-bba924839fbf",
   "metadata": {},
   "outputs": [],
   "source": [
    "taz_database_dna_modif"
   ]
  },
  {
   "cell_type": "code",
   "execution_count": null,
   "id": "5d0b8f92-bf65-4e58-9396-3c51bb64cb8b",
   "metadata": {},
   "outputs": [],
   "source": [
    "sequence"
   ]
  },
  {
   "cell_type": "code",
   "execution_count": null,
   "id": "f0a24afa-bb8c-4125-b746-57da61373542",
   "metadata": {},
   "outputs": [],
   "source": [
    "sequence[start_from_taz_positions - start_from_taz_positions]"
   ]
  },
  {
   "cell_type": "code",
   "execution_count": null,
   "id": "394ed2e4-3179-4a2c-adc8-52270bf17411",
   "metadata": {},
   "outputs": [],
   "source": [
    "row_from_taz_positions"
   ]
  },
  {
   "cell_type": "code",
   "execution_count": null,
   "id": "3ced75f7-f4f9-47d2-af7c-b594e8f6c7cc",
   "metadata": {},
   "outputs": [],
   "source": [
    "exon_intron_from_taz_positions"
   ]
  },
  {
   "cell_type": "code",
   "execution_count": null,
   "id": "e2100029-c848-4850-9646-8ae377edc4fd",
   "metadata": {},
   "outputs": [],
   "source": [
    "seq_record.seq"
   ]
  },
  {
   "cell_type": "code",
   "execution_count": null,
   "id": "a4386581-a7d8-437a-93ae-7966b348d35e",
   "metadata": {},
   "outputs": [],
   "source": [
    "matching_record.seq"
   ]
  },
  {
   "cell_type": "code",
   "execution_count": null,
   "id": "de0dbbfe-90b4-4f0c-8e49-9d70ba1968a8",
   "metadata": {},
   "outputs": [],
   "source": []
  },
  {
   "cell_type": "code",
   "execution_count": null,
   "id": "074c3b8a-a4b2-417e-b960-c693d10384d6",
   "metadata": {},
   "outputs": [],
   "source": [
    "taz_positions"
   ]
  },
  {
   "cell_type": "code",
   "execution_count": null,
   "id": "b09df742-f264-40bd-8c56-90e6b2f351fd",
   "metadata": {},
   "outputs": [],
   "source": [
    "taz_positions.Start"
   ]
  },
  {
   "cell_type": "code",
   "execution_count": null,
   "id": "ac5fb6c1-be13-4e02-bdfb-1dee1918079c",
   "metadata": {},
   "outputs": [],
   "source": [
    "taz_positions.head(20)"
   ]
  },
  {
   "cell_type": "code",
   "execution_count": null,
   "id": "8c09bb51-d1c8-49a7-a238-6bc749aa9ae4",
   "metadata": {},
   "outputs": [],
   "source": [
    "taz_database_38"
   ]
  },
  {
   "cell_type": "code",
   "execution_count": null,
   "id": "8d4bad78-ef1a-416e-9e3c-12057489c2e3",
   "metadata": {},
   "outputs": [],
   "source": [
    "taz_database_37"
   ]
  },
  {
   "cell_type": "code",
   "execution_count": null,
   "id": "7956bd3b-73ff-4b48-938f-8ad639243274",
   "metadata": {},
   "outputs": [],
   "source": [
    "taz_database_dna_modif"
   ]
  },
  {
   "cell_type": "code",
   "execution_count": null,
   "id": "a8a82d9f-3063-4779-8db2-176710f5d808",
   "metadata": {},
   "outputs": [],
   "source": [
    "df_pathogenic.Location.value_counts()"
   ]
  }
 ],
 "metadata": {
  "kernelspec": {
   "display_name": "Python 3 (ipykernel)",
   "language": "python",
   "name": "python3"
  },
  "language_info": {
   "codemirror_mode": {
    "name": "ipython",
    "version": 3
   },
   "file_extension": ".py",
   "mimetype": "text/x-python",
   "name": "python",
   "nbconvert_exporter": "python",
   "pygments_lexer": "ipython3",
   "version": "3.8.16"
  }
 },
 "nbformat": 4,
 "nbformat_minor": 5
}
