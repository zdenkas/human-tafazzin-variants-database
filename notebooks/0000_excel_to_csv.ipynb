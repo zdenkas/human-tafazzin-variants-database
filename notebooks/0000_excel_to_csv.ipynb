{
 "cells": [
  {
   "cell_type": "code",
   "execution_count": 1,
   "id": "877727dd-ecef-4f32-8e6b-732837414777",
   "metadata": {},
   "outputs": [],
   "source": [
    "import pandas as pd\n",
    "import os\n",
    "import helpers"
   ]
  },
  {
   "cell_type": "code",
   "execution_count": 2,
   "id": "12998234-49be-457d-a332-5b2bab371f7a",
   "metadata": {},
   "outputs": [
    {
     "name": "stdout",
     "output_type": "stream",
     "text": [
      "version number: 0000\n",
      "database output path prefix: ../database_versions/0000_2023-10-30-20-25-35-190953_Human-TAFAZZIN-Variants-Database_\n"
     ]
    }
   ],
   "source": [
    "input_path = '../database_original/[Data Only] Human TAFAZZIN Variants Database_v07-20-2023.xlsx'\n",
    "output_path_prefix = helpers.create_database_output_path_prefix()"
   ]
  },
  {
   "cell_type": "markdown",
   "id": "5c66529f-eb71-4a50-93b2-1e7068cde02d",
   "metadata": {},
   "source": [
    "# Load excel data"
   ]
  },
  {
   "cell_type": "code",
   "execution_count": 3,
   "id": "5418a783-686c-4edd-938c-e685c3ff02e5",
   "metadata": {},
   "outputs": [],
   "source": [
    "if not os.path.exists(input_path):\n",
    "    print('Please download the original database into `database_original` folder from https://drive.google.com/drive/folders/1O2MKa5FHsvq3hyjOVSsOZf37xkwKYAJ8 ')"
   ]
  },
  {
   "cell_type": "code",
   "execution_count": 4,
   "id": "516b77e4-ff5b-4e08-9518-7a5479fce06f",
   "metadata": {},
   "outputs": [
    {
     "name": "stdout",
     "output_type": "stream",
     "text": [
      "['1.PATHOGENIC LIKELY_v07062023', '2.VUS_v01222023', '3.BENIGN_v09012021', '4.EXON 5_v01012020']\n"
     ]
    }
   ],
   "source": [
    "xls = pd.ExcelFile(input_path)\n",
    "sheet_names = xls.sheet_names\n",
    "print(sheet_names)"
   ]
  },
  {
   "cell_type": "code",
   "execution_count": 5,
   "id": "9bfb8008-a038-4b4f-abe6-67633b8d51fe",
   "metadata": {},
   "outputs": [],
   "source": [
    "pathogenic_sheet_names = [a for a in sheet_names if 'PATHOGENIC' in a] \n",
    "assert len(pathogenic_sheet_names) == 1, 'we expect just one \"PATHOGENIC\" sheet'\n",
    "df_pathogenic = pd.read_excel(xls, pathogenic_sheet_names[0])\n",
    "    \n",
    "vus_sheet_names = [a for a in sheet_names if 'VUS' in a] \n",
    "assert len(vus_sheet_names) == 1, 'we expect just one \"VUS\" sheet'\n",
    "df_vus = pd.read_excel(xls, vus_sheet_names[0])\n",
    "    \n",
    "benign_sheet_names = [a for a in sheet_names if 'BENIGN' in a] \n",
    "assert len(benign_sheet_names) == 1, 'we expect just one \"BENIGN\" sheet'\n",
    "df_benign = pd.read_excel(xls, benign_sheet_names[0])\n",
    "    \n",
    "exon5_sheet_names = [a for a in sheet_names if 'EXON 5' in a] \n",
    "assert len(exon5_sheet_names) == 1, 'we expect just one \"EXON 5\" sheet'\n",
    "df_exon5 = pd.read_excel(xls, exon5_sheet_names[0])    "
   ]
  },
  {
   "cell_type": "code",
   "execution_count": 6,
   "id": "61116fa4-b36a-44e6-a82a-9306d1142ee2",
   "metadata": {},
   "outputs": [
    {
     "name": "stdout",
     "output_type": "stream",
     "text": [
      "(406, 16)\n"
     ]
    },
    {
     "data": {
      "text/html": [
       "<div>\n",
       "<style scoped>\n",
       "    .dataframe tbody tr th:only-of-type {\n",
       "        vertical-align: middle;\n",
       "    }\n",
       "\n",
       "    .dataframe tbody tr th {\n",
       "        vertical-align: top;\n",
       "    }\n",
       "\n",
       "    .dataframe thead th {\n",
       "        text-align: right;\n",
       "    }\n",
       "</style>\n",
       "<table border=\"1\" class=\"dataframe\">\n",
       "  <thead>\n",
       "    <tr style=\"text-align: right;\">\n",
       "      <th></th>\n",
       "      <th>Location</th>\n",
       "      <th>Location in  Genome release  37 (hg19)</th>\n",
       "      <th>Location in Genome release  38 (hg38)</th>\n",
       "      <th>Protein Variant Type</th>\n",
       "      <th>Impact of Variant</th>\n",
       "      <th>DNA Modifications</th>\n",
       "      <th>Protein or mRNA variants</th>\n",
       "      <th>Functional outcome (MLCL/CL ratio)</th>\n",
       "      <th>Taffazin Functional motifs</th>\n",
       "      <th>Method of Validation</th>\n",
       "      <th>References</th>\n",
       "      <th>Source</th>\n",
       "      <th>Additional variants in other genes</th>\n",
       "      <th>Location and Order of Discovery</th>\n",
       "      <th>Notes</th>\n",
       "      <th>Unnamed: 15</th>\n",
       "    </tr>\n",
       "  </thead>\n",
       "  <tbody>\n",
       "    <tr>\n",
       "      <th>0</th>\n",
       "      <td>Exon 1</td>\n",
       "      <td>X:153640189</td>\n",
       "      <td>X:154411852</td>\n",
       "      <td>Frameshift</td>\n",
       "      <td>NaN</td>\n",
       "      <td>c.9_10dupG</td>\n",
       "      <td>p.His4Alafs*130</td>\n",
       "      <td>MLCL/CL elevated</td>\n",
       "      <td>NaN</td>\n",
       "      <td>NaN</td>\n",
       "      <td>Ref. 1 (Pat.1); Ref. 80;  Ref. 113</td>\n",
       "      <td>NaN</td>\n",
       "      <td>NaN</td>\n",
       "      <td>1-1</td>\n",
       "      <td>NaN</td>\n",
       "      <td>NaN</td>\n",
       "    </tr>\n",
       "    <tr>\n",
       "      <th>1</th>\n",
       "      <td>Exon 1</td>\n",
       "      <td>X:153640197 - 153640198</td>\n",
       "      <td>X: 154411860 - 154411861</td>\n",
       "      <td>Frameshift</td>\n",
       "      <td>NaN</td>\n",
       "      <td>c.18_22dup</td>\n",
       "      <td>p.Pro8fs*</td>\n",
       "      <td>NaN</td>\n",
       "      <td>NaN</td>\n",
       "      <td>NaN</td>\n",
       "      <td>Ref. 140;  Ref.83</td>\n",
       "      <td>ClinVar</td>\n",
       "      <td>NaN</td>\n",
       "      <td>1-12</td>\n",
       "      <td>NaN</td>\n",
       "      <td>NaN</td>\n",
       "    </tr>\n",
       "    <tr>\n",
       "      <th>2</th>\n",
       "      <td>Exon 1</td>\n",
       "      <td>X:153640219_241</td>\n",
       "      <td>X:154411882_904</td>\n",
       "      <td>Frameshift</td>\n",
       "      <td>NaN</td>\n",
       "      <td>c.39_60del22</td>\n",
       "      <td>p.Pro14Alafs*19</td>\n",
       "      <td>MLCL/CL elevated</td>\n",
       "      <td>NaN</td>\n",
       "      <td>NaN</td>\n",
       "      <td>Ref. 95 (Pat. 1)</td>\n",
       "      <td>NaN</td>\n",
       "      <td>Mitochondrial: m.1555A&gt;G in 12S rRNA, homoplasmic</td>\n",
       "      <td>1-11</td>\n",
       "      <td>NaN</td>\n",
       "      <td>NaN</td>\n",
       "    </tr>\n",
       "  </tbody>\n",
       "</table>\n",
       "</div>"
      ],
      "text/plain": [
       "  Location Location in  Genome release  37 (hg19)  \\\n",
       "0   Exon 1                            X:153640189   \n",
       "1   Exon 1                X:153640197 - 153640198   \n",
       "2   Exon 1                        X:153640219_241   \n",
       "\n",
       "  Location in Genome release  38 (hg38) Protein Variant Type  \\\n",
       "0                           X:154411852           Frameshift   \n",
       "1              X: 154411860 - 154411861           Frameshift   \n",
       "2                       X:154411882_904           Frameshift   \n",
       "\n",
       "  Impact of Variant DNA Modifications Protein or mRNA variants  \\\n",
       "0               NaN        c.9_10dupG          p.His4Alafs*130   \n",
       "1               NaN        c.18_22dup                p.Pro8fs*   \n",
       "2               NaN      c.39_60del22          p.Pro14Alafs*19   \n",
       "\n",
       "   Functional outcome (MLCL/CL ratio)  Taffazin Functional motifs   \\\n",
       "0                    MLCL/CL elevated                          NaN   \n",
       "1                                 NaN                          NaN   \n",
       "2                    MLCL/CL elevated                          NaN   \n",
       "\n",
       "  Method of Validation                          References   Source  \\\n",
       "0                  NaN  Ref. 1 (Pat.1); Ref. 80;  Ref. 113      NaN   \n",
       "1                  NaN                   Ref. 140;  Ref.83  ClinVar   \n",
       "2                  NaN                    Ref. 95 (Pat. 1)      NaN   \n",
       "\n",
       "                  Additional variants in other genes  \\\n",
       "0                                                NaN   \n",
       "1                                                NaN   \n",
       "2  Mitochondrial: m.1555A>G in 12S rRNA, homoplasmic   \n",
       "\n",
       "  Location and Order of Discovery Notes Unnamed: 15  \n",
       "0                             1-1   NaN         NaN  \n",
       "1                            1-12   NaN         NaN  \n",
       "2                            1-11   NaN         NaN  "
      ]
     },
     "execution_count": 6,
     "metadata": {},
     "output_type": "execute_result"
    }
   ],
   "source": [
    "print(df_pathogenic.shape)\n",
    "df_pathogenic.head(3)"
   ]
  },
  {
   "cell_type": "code",
   "execution_count": 7,
   "id": "96584246-0c67-4d71-ad1e-8d6093202190",
   "metadata": {},
   "outputs": [
    {
     "name": "stdout",
     "output_type": "stream",
     "text": [
      "(126, 12)\n"
     ]
    },
    {
     "data": {
      "text/html": [
       "<div>\n",
       "<style scoped>\n",
       "    .dataframe tbody tr th:only-of-type {\n",
       "        vertical-align: middle;\n",
       "    }\n",
       "\n",
       "    .dataframe tbody tr th {\n",
       "        vertical-align: top;\n",
       "    }\n",
       "\n",
       "    .dataframe thead th {\n",
       "        text-align: right;\n",
       "    }\n",
       "</style>\n",
       "<table border=\"1\" class=\"dataframe\">\n",
       "  <thead>\n",
       "    <tr style=\"text-align: right;\">\n",
       "      <th></th>\n",
       "      <th>Location</th>\n",
       "      <th>Location in  Genome release 37 (hg19)</th>\n",
       "      <th>Location in Genome release 38 (hg38)</th>\n",
       "      <th>DNA Modifications</th>\n",
       "      <th>Protein or mRNA Variants</th>\n",
       "      <th>References &amp; population frequency</th>\n",
       "      <th>Source</th>\n",
       "      <th>SIFT prediction</th>\n",
       "      <th>PolyPhen2 prediction</th>\n",
       "      <th>Amino acid conservation &amp; comments</th>\n",
       "      <th>Additional variants in other genes</th>\n",
       "      <th>Notes</th>\n",
       "    </tr>\n",
       "  </thead>\n",
       "  <tbody>\n",
       "    <tr>\n",
       "      <th>0</th>\n",
       "      <td>Exon 1</td>\n",
       "      <td>X:153640193</td>\n",
       "      <td>X:154411856</td>\n",
       "      <td>c.13G&gt;T</td>\n",
       "      <td>p.Val5Leu</td>\n",
       "      <td>gnomad exomes; Ashk Jewish female  5/99652</td>\n",
       "      <td>ClinVar; LMM 2011; GeneDX 2017;  Invitae 2020;...</td>\n",
       "      <td>tolerated; 0.14</td>\n",
       "      <td>0.984</td>\n",
       "      <td>Vertebrates 100% Val;  invertebrates have Ile</td>\n",
       "      <td>NaN</td>\n",
       "      <td>NaN</td>\n",
       "    </tr>\n",
       "    <tr>\n",
       "      <th>1</th>\n",
       "      <td>Exon 1</td>\n",
       "      <td>X:153640197_198</td>\n",
       "      <td>X:154411860_861</td>\n",
       "      <td>c.17_18insA</td>\n",
       "      <td>fs*</td>\n",
       "      <td>Ref. 57</td>\n",
       "      <td>NaN</td>\n",
       "      <td>NaN</td>\n",
       "      <td>NaN</td>\n",
       "      <td>NaN</td>\n",
       "      <td>NaN</td>\n",
       "      <td>Not in ClinVar</td>\n",
       "    </tr>\n",
       "    <tr>\n",
       "      <th>2</th>\n",
       "      <td>Exon 1</td>\n",
       "      <td>X:153640207</td>\n",
       "      <td>X:154411870</td>\n",
       "      <td>c.27C&gt;G</td>\n",
       "      <td>p.Phe9Leu</td>\n",
       "      <td>NaN</td>\n",
       "      <td>ClinVar; Invitae 2020; Ambry 2020</td>\n",
       "      <td>deleterious</td>\n",
       "      <td>benign</td>\n",
       "      <td>vertebrates 100%</td>\n",
       "      <td>NaN</td>\n",
       "      <td>Not in ExAC</td>\n",
       "    </tr>\n",
       "  </tbody>\n",
       "</table>\n",
       "</div>"
      ],
      "text/plain": [
       "  Location Location in  Genome release 37 (hg19)  \\\n",
       "0   Exon 1                           X:153640193   \n",
       "1   Exon 1                       X:153640197_198   \n",
       "2   Exon 1                           X:153640207   \n",
       "\n",
       "  Location in Genome release 38 (hg38) DNA Modifications  \\\n",
       "0                          X:154411856           c.13G>T   \n",
       "1                      X:154411860_861       c.17_18insA   \n",
       "2                          X:154411870           c.27C>G   \n",
       "\n",
       "  Protein or mRNA Variants           References & population frequency  \\\n",
       "0                p.Val5Leu  gnomad exomes; Ashk Jewish female  5/99652   \n",
       "1                      fs*                                     Ref. 57   \n",
       "2                p.Phe9Leu                                         NaN   \n",
       "\n",
       "                                              Source  SIFT prediction  \\\n",
       "0  ClinVar; LMM 2011; GeneDX 2017;  Invitae 2020;...  tolerated; 0.14   \n",
       "1                                                NaN              NaN   \n",
       "2                  ClinVar; Invitae 2020; Ambry 2020      deleterious   \n",
       "\n",
       "  PolyPhen2 prediction             Amino acid conservation & comments  \\\n",
       "0                0.984  Vertebrates 100% Val;  invertebrates have Ile   \n",
       "1                  NaN                                            NaN   \n",
       "2               benign                               vertebrates 100%   \n",
       "\n",
       "  Additional variants in other genes           Notes  \n",
       "0                                NaN             NaN  \n",
       "1                                NaN  Not in ClinVar  \n",
       "2                                NaN     Not in ExAC  "
      ]
     },
     "execution_count": 7,
     "metadata": {},
     "output_type": "execute_result"
    }
   ],
   "source": [
    "print(df_vus.shape)\n",
    "df_vus.head(3)"
   ]
  },
  {
   "cell_type": "code",
   "execution_count": 8,
   "id": "5413d8a1-916f-485d-b71c-9704c44c3728",
   "metadata": {},
   "outputs": [
    {
     "name": "stdout",
     "output_type": "stream",
     "text": [
      "(178, 13)\n"
     ]
    },
    {
     "data": {
      "text/html": [
       "<div>\n",
       "<style scoped>\n",
       "    .dataframe tbody tr th:only-of-type {\n",
       "        vertical-align: middle;\n",
       "    }\n",
       "\n",
       "    .dataframe tbody tr th {\n",
       "        vertical-align: top;\n",
       "    }\n",
       "\n",
       "    .dataframe thead th {\n",
       "        text-align: right;\n",
       "    }\n",
       "</style>\n",
       "<table border=\"1\" class=\"dataframe\">\n",
       "  <thead>\n",
       "    <tr style=\"text-align: right;\">\n",
       "      <th></th>\n",
       "      <th>Location</th>\n",
       "      <th>Location in  Genome release 37 (hg19)</th>\n",
       "      <th>Location in Genome release 38 (hg38)</th>\n",
       "      <th>DNA Modifications</th>\n",
       "      <th>Protein or mRNA Variants</th>\n",
       "      <th>References &amp; population frequency</th>\n",
       "      <th>Source</th>\n",
       "      <th>Amino acid conservation &amp; comments</th>\n",
       "      <th>SIFT prediction</th>\n",
       "      <th>PolyPhen2 prediction</th>\n",
       "      <th>Splicing prediction</th>\n",
       "      <th>Additional variants in other genes</th>\n",
       "      <th>Notes</th>\n",
       "    </tr>\n",
       "  </thead>\n",
       "  <tbody>\n",
       "    <tr>\n",
       "      <th>0</th>\n",
       "      <td>5'UTR</td>\n",
       "      <td>X:153640060-153640061</td>\n",
       "      <td>X:154411724-154411725</td>\n",
       "      <td>c.-119 (or '-121_-119) insert/del T</td>\n",
       "      <td>NaN</td>\n",
       "      <td>ExAC 5786/6746 alleles; 3249 homozy; 1111 hemizy</td>\n",
       "      <td>ClinVar</td>\n",
       "      <td>NaN</td>\n",
       "      <td>NaN</td>\n",
       "      <td>NaN</td>\n",
       "      <td>NaN</td>\n",
       "      <td>NaN</td>\n",
       "      <td>Benign</td>\n",
       "    </tr>\n",
       "    <tr>\n",
       "      <th>1</th>\n",
       "      <td>5'UTR</td>\n",
       "      <td>X:153640093</td>\n",
       "      <td>X:154411756</td>\n",
       "      <td>c.-88G &gt; C</td>\n",
       "      <td>NaN</td>\n",
       "      <td>ExAC 28/6688; 13 hemizyg; Ref. 4; Ref. 14</td>\n",
       "      <td>ClinVar Jun 2016</td>\n",
       "      <td>NaN</td>\n",
       "      <td>NaN</td>\n",
       "      <td>NaN</td>\n",
       "      <td>NaN</td>\n",
       "      <td>NaN</td>\n",
       "      <td>NaN</td>\n",
       "    </tr>\n",
       "    <tr>\n",
       "      <th>2</th>\n",
       "      <td>5'UTR</td>\n",
       "      <td>X:153640097</td>\n",
       "      <td>X:154411760</td>\n",
       "      <td>c.-84C&gt;G</td>\n",
       "      <td>NaN</td>\n",
       "      <td>NaN</td>\n",
       "      <td>NaN</td>\n",
       "      <td>NaN</td>\n",
       "      <td>NaN</td>\n",
       "      <td>NaN</td>\n",
       "      <td>NaN</td>\n",
       "      <td>NaN</td>\n",
       "      <td>NaN</td>\n",
       "    </tr>\n",
       "  </tbody>\n",
       "</table>\n",
       "</div>"
      ],
      "text/plain": [
       "  Location Location in  Genome release 37 (hg19)  \\\n",
       "0    5'UTR                 X:153640060-153640061   \n",
       "1    5'UTR                           X:153640093   \n",
       "2    5'UTR                          X:153640097    \n",
       "\n",
       "  Location in Genome release 38 (hg38)                    DNA Modifications  \\\n",
       "0                X:154411724-154411725  c.-119 (or '-121_-119) insert/del T   \n",
       "1                          X:154411756                           c.-88G > C   \n",
       "2                          X:154411760                             c.-84C>G   \n",
       "\n",
       "  Protein or mRNA Variants                 References & population frequency  \\\n",
       "0                      NaN  ExAC 5786/6746 alleles; 3249 homozy; 1111 hemizy   \n",
       "1                      NaN         ExAC 28/6688; 13 hemizyg; Ref. 4; Ref. 14   \n",
       "2                      NaN                                               NaN   \n",
       "\n",
       "             Source Amino acid conservation & comments SIFT prediction  \\\n",
       "0           ClinVar                                NaN             NaN   \n",
       "1  ClinVar Jun 2016                                NaN             NaN   \n",
       "2               NaN                                NaN             NaN   \n",
       "\n",
       "  PolyPhen2 prediction Splicing prediction Additional variants in other genes  \\\n",
       "0                  NaN                 NaN                                NaN   \n",
       "1                  NaN                 NaN                                NaN   \n",
       "2                  NaN                 NaN                                NaN   \n",
       "\n",
       "    Notes  \n",
       "0  Benign  \n",
       "1     NaN  \n",
       "2     NaN  "
      ]
     },
     "execution_count": 8,
     "metadata": {},
     "output_type": "execute_result"
    }
   ],
   "source": [
    "print(df_benign.shape)\n",
    "df_benign.head(3)"
   ]
  },
  {
   "cell_type": "code",
   "execution_count": 9,
   "id": "bbbe1a02-50f0-4fc8-a599-992716ec7c6a",
   "metadata": {},
   "outputs": [
    {
     "name": "stdout",
     "output_type": "stream",
     "text": [
      "(11, 13)\n"
     ]
    },
    {
     "data": {
      "text/html": [
       "<div>\n",
       "<style scoped>\n",
       "    .dataframe tbody tr th:only-of-type {\n",
       "        vertical-align: middle;\n",
       "    }\n",
       "\n",
       "    .dataframe tbody tr th {\n",
       "        vertical-align: top;\n",
       "    }\n",
       "\n",
       "    .dataframe thead th {\n",
       "        text-align: right;\n",
       "    }\n",
       "</style>\n",
       "<table border=\"1\" class=\"dataframe\">\n",
       "  <thead>\n",
       "    <tr style=\"text-align: right;\">\n",
       "      <th></th>\n",
       "      <th>Location</th>\n",
       "      <th>Classification</th>\n",
       "      <th>Genome Assembly Release 37</th>\n",
       "      <th>Genome Assembly Release 38</th>\n",
       "      <th>DNA Modifications</th>\n",
       "      <th>Protein or mRNA Variants</th>\n",
       "      <th>References &amp; population frequency</th>\n",
       "      <th>Source</th>\n",
       "      <th>Amino acid conservation &amp; comments</th>\n",
       "      <th>SIFT prediction</th>\n",
       "      <th>PolyPhen2 prediction</th>\n",
       "      <th>Splicing Prediction</th>\n",
       "      <th>Notes</th>\n",
       "    </tr>\n",
       "  </thead>\n",
       "  <tbody>\n",
       "    <tr>\n",
       "      <th>0</th>\n",
       "      <td>Exon 5</td>\n",
       "      <td>VUS</td>\n",
       "      <td>X:153642485</td>\n",
       "      <td>X:154414148_52</td>\n",
       "      <td>c.418_422del ACAGGinsA</td>\n",
       "      <td>p.Arg142ThrfsX41</td>\n",
       "      <td>ExAC 1/79840; 1 hemizyg (LOW CONFIDENCE)</td>\n",
       "      <td>NaN</td>\n",
       "      <td>NaN</td>\n",
       "      <td>NaN</td>\n",
       "      <td>NaN</td>\n",
       "      <td>NaN</td>\n",
       "      <td>Not in ClinVar</td>\n",
       "    </tr>\n",
       "    <tr>\n",
       "      <th>1</th>\n",
       "      <td>Exon 5</td>\n",
       "      <td>VUS</td>\n",
       "      <td>X:153642486</td>\n",
       "      <td>X:154414149</td>\n",
       "      <td>c.419C&gt;T</td>\n",
       "      <td>p.Thr140Ile</td>\n",
       "      <td>Ref. 83</td>\n",
       "      <td>ClinVar Jan 2014</td>\n",
       "      <td>Not all primates</td>\n",
       "      <td>Tolerated; 0.36</td>\n",
       "      <td>0.0</td>\n",
       "      <td>Acceptor much reduced; donor small reduction</td>\n",
       "      <td>VUS; not in ExAC</td>\n",
       "    </tr>\n",
       "    <tr>\n",
       "      <th>2</th>\n",
       "      <td>Exon 5</td>\n",
       "      <td>VUS</td>\n",
       "      <td>X:153642492_95</td>\n",
       "      <td>X:154414155_58</td>\n",
       "      <td>c.425_428delGGCA  or  c.419_422delCAGG</td>\n",
       "      <td>p.Arg142ThrfsX41</td>\n",
       "      <td>Ref. 83</td>\n",
       "      <td>ClinVar Feb 2017</td>\n",
       "      <td>Should only manifest in FL variant</td>\n",
       "      <td>NaN</td>\n",
       "      <td>NaN</td>\n",
       "      <td>NaN</td>\n",
       "      <td>Likely path. Var ID 423852; Not in ExAC</td>\n",
       "    </tr>\n",
       "  </tbody>\n",
       "</table>\n",
       "</div>"
      ],
      "text/plain": [
       "  Location Classification Genome Assembly Release 37  \\\n",
       "0   Exon 5            VUS                X:153642485   \n",
       "1   Exon 5            VUS                X:153642486   \n",
       "2   Exon 5            VUS           X:153642492_95     \n",
       "\n",
       "  Genome Assembly Release 38                       DNA Modifications  \\\n",
       "0             X:154414148_52                  c.418_422del ACAGGinsA   \n",
       "1                X:154414149                                c.419C>T   \n",
       "2             X:154414155_58  c.425_428delGGCA  or  c.419_422delCAGG   \n",
       "\n",
       "  Protein or mRNA Variants         References & population frequency  \\\n",
       "0         p.Arg142ThrfsX41  ExAC 1/79840; 1 hemizyg (LOW CONFIDENCE)   \n",
       "1              p.Thr140Ile                                   Ref. 83   \n",
       "2         p.Arg142ThrfsX41                                   Ref. 83   \n",
       "\n",
       "             Source  Amino acid conservation & comments  SIFT prediction  \\\n",
       "0               NaN                                 NaN              NaN   \n",
       "1  ClinVar Jan 2014                    Not all primates  Tolerated; 0.36   \n",
       "2  ClinVar Feb 2017  Should only manifest in FL variant              NaN   \n",
       "\n",
       "   PolyPhen2 prediction                           Splicing Prediction  \\\n",
       "0                   NaN                                           NaN   \n",
       "1                   0.0  Acceptor much reduced; donor small reduction   \n",
       "2                   NaN                                           NaN   \n",
       "\n",
       "                                     Notes  \n",
       "0                           Not in ClinVar  \n",
       "1                         VUS; not in ExAC  \n",
       "2  Likely path. Var ID 423852; Not in ExAC  "
      ]
     },
     "execution_count": 9,
     "metadata": {},
     "output_type": "execute_result"
    }
   ],
   "source": [
    "print(df_exon5.shape)\n",
    "df_exon5.head(3)"
   ]
  },
  {
   "cell_type": "markdown",
   "id": "2e70abfe-df5a-4ba0-b746-6a1e3669c698",
   "metadata": {},
   "source": [
    "# Save as csvs"
   ]
  },
  {
   "cell_type": "code",
   "execution_count": 10,
   "id": "f35eb696-e42a-4f1b-afc2-bc1ff78ce50a",
   "metadata": {},
   "outputs": [
    {
     "name": "stdout",
     "output_type": "stream",
     "text": [
      "Dataframe of shape (406, 16) saved to ../database_versions/0000_2023-10-30-20-25-35-190953_Human-TAFAZZIN-Variants-Database_pathogenic.csv\n",
      "Dataframe of shape (178, 13) saved to ../database_versions/0000_2023-10-30-20-25-35-190953_Human-TAFAZZIN-Variants-Database_benign.csv\n",
      "Dataframe of shape (126, 12) saved to ../database_versions/0000_2023-10-30-20-25-35-190953_Human-TAFAZZIN-Variants-Database_vus.csv\n",
      "Dataframe of shape (11, 13) saved to ../database_versions/0000_2023-10-30-20-25-35-190953_Human-TAFAZZIN-Variants-Database_exon5.csv\n"
     ]
    }
   ],
   "source": [
    "helpers.save_output_as_csv(output_path_prefix,\n",
    "             df_pathogenic=df_pathogenic,\n",
    "             df_benign=df_benign,\n",
    "             df_vus=df_vus,\n",
    "             df_exon5=df_exon5)"
   ]
  },
  {
   "cell_type": "markdown",
   "id": "781ccd9d-b1ac-4af8-a248-3b4d3fb7fdd1",
   "metadata": {},
   "source": [
    "# Load and compare old and new versions"
   ]
  },
  {
   "cell_type": "code",
   "execution_count": 11,
   "id": "f76003c2-b387-4b40-9836-856887677ee2",
   "metadata": {},
   "outputs": [],
   "source": [
    "# remove working dataframes to make sure we are comparing only the saved excels\n",
    "\n",
    "del df_pathogenic\n",
    "del df_benign\n",
    "del df_vus\n",
    "del df_exon5"
   ]
  },
  {
   "cell_type": "code",
   "execution_count": 12,
   "id": "2f433e56-899e-4315-95a1-ba79a9676706",
   "metadata": {},
   "outputs": [
    {
     "name": "stdout",
     "output_type": "stream",
     "text": [
      "['1.PATHOGENIC LIKELY_v07062023', '2.VUS_v01222023', '3.BENIGN_v09012021', '4.EXON 5_v01012020']\n"
     ]
    }
   ],
   "source": [
    "xls = pd.ExcelFile(input_path)\n",
    "sheet_names = xls.sheet_names\n",
    "print(sheet_names)"
   ]
  },
  {
   "cell_type": "code",
   "execution_count": 13,
   "id": "890c2b70-c7a3-4f64-a709-cb9a98563b2f",
   "metadata": {},
   "outputs": [],
   "source": [
    "xls_orig = pd.ExcelFile(input_path)\n",
    "\n",
    "df_pathogenic_orig = pd.read_excel(xls_orig, pathogenic_sheet_names[0])\n",
    "df_vus_orig = pd.read_excel(xls_orig, vus_sheet_names[0])\n",
    "df_benign_orig = pd.read_excel(xls_orig, benign_sheet_names[0])\n",
    "df_exon5_orig = pd.read_excel(xls_orig, exon5_sheet_names[0]) "
   ]
  },
  {
   "cell_type": "code",
   "execution_count": 14,
   "id": "c0cd25a4-8b66-43cd-b509-5606ff26655b",
   "metadata": {},
   "outputs": [],
   "source": [
    "df_pathogenic_new = pd.read_csv(output_path_prefix + 'pathogenic.csv')\n",
    "df_vus_new = pd.read_csv(output_path_prefix + 'vus.csv')\n",
    "df_exon5_new = pd.read_csv(output_path_prefix + 'exon5.csv')\n",
    "df_benign_new = pd.read_csv(output_path_prefix + 'benign.csv')"
   ]
  },
  {
   "cell_type": "code",
   "execution_count": 15,
   "id": "531fff31-efd4-4ce1-9369-55a84ee92065",
   "metadata": {},
   "outputs": [],
   "source": [
    "assert df_pathogenic_new.equals(df_pathogenic_orig)"
   ]
  },
  {
   "cell_type": "code",
   "execution_count": 16,
   "id": "aeb1466b-60f9-4b99-8f9a-924cab617218",
   "metadata": {},
   "outputs": [],
   "source": [
    "assert df_exon5_new.equals(df_exon5_orig)"
   ]
  },
  {
   "cell_type": "markdown",
   "id": "65ece97f-01cf-41fa-98a1-a9015a6fc67b",
   "metadata": {},
   "source": [
    "### For benign and vus, we have different types in one column which has mixed types:\n",
    "\n",
    "(this is OK and expected, probably just caused by difference in loading libraries of csv files vs excel files)"
   ]
  },
  {
   "cell_type": "code",
   "execution_count": 17,
   "id": "31ba6349-5c09-4825-b25d-7cc14934fc77",
   "metadata": {},
   "outputs": [
    {
     "data": {
      "text/html": [
       "<div>\n",
       "<style scoped>\n",
       "    .dataframe tbody tr th:only-of-type {\n",
       "        vertical-align: middle;\n",
       "    }\n",
       "\n",
       "    .dataframe tbody tr th {\n",
       "        vertical-align: top;\n",
       "    }\n",
       "\n",
       "    .dataframe thead tr th {\n",
       "        text-align: left;\n",
       "    }\n",
       "</style>\n",
       "<table border=\"1\" class=\"dataframe\">\n",
       "  <thead>\n",
       "    <tr>\n",
       "      <th></th>\n",
       "      <th colspan=\"2\" halign=\"left\">PolyPhen2 prediction</th>\n",
       "    </tr>\n",
       "    <tr>\n",
       "      <th></th>\n",
       "      <th>self</th>\n",
       "      <th>other</th>\n",
       "    </tr>\n",
       "  </thead>\n",
       "  <tbody>\n",
       "    <tr>\n",
       "      <th>20</th>\n",
       "      <td>0.018</td>\n",
       "      <td>0.018</td>\n",
       "    </tr>\n",
       "    <tr>\n",
       "      <th>21</th>\n",
       "      <td>0.991</td>\n",
       "      <td>0.991</td>\n",
       "    </tr>\n",
       "    <tr>\n",
       "      <th>23</th>\n",
       "      <td>0.994</td>\n",
       "      <td>0.994</td>\n",
       "    </tr>\n",
       "    <tr>\n",
       "      <th>24</th>\n",
       "      <td>0.996</td>\n",
       "      <td>0.996</td>\n",
       "    </tr>\n",
       "    <tr>\n",
       "      <th>25</th>\n",
       "      <td>0.996</td>\n",
       "      <td>0.996</td>\n",
       "    </tr>\n",
       "    <tr>\n",
       "      <th>26</th>\n",
       "      <td>0.996</td>\n",
       "      <td>0.996</td>\n",
       "    </tr>\n",
       "    <tr>\n",
       "      <th>33</th>\n",
       "      <td>0.991</td>\n",
       "      <td>0.991</td>\n",
       "    </tr>\n",
       "    <tr>\n",
       "      <th>77</th>\n",
       "      <td>0.01</td>\n",
       "      <td>0.01</td>\n",
       "    </tr>\n",
       "    <tr>\n",
       "      <th>80</th>\n",
       "      <td>0.867</td>\n",
       "      <td>0.867</td>\n",
       "    </tr>\n",
       "    <tr>\n",
       "      <th>85</th>\n",
       "      <td>0.05</td>\n",
       "      <td>0.05</td>\n",
       "    </tr>\n",
       "    <tr>\n",
       "      <th>86</th>\n",
       "      <td>0.0</td>\n",
       "      <td>0.0</td>\n",
       "    </tr>\n",
       "    <tr>\n",
       "      <th>87</th>\n",
       "      <td>0.006</td>\n",
       "      <td>0.006</td>\n",
       "    </tr>\n",
       "    <tr>\n",
       "      <th>167</th>\n",
       "      <td>0.696</td>\n",
       "      <td>0.696</td>\n",
       "    </tr>\n",
       "    <tr>\n",
       "      <th>175</th>\n",
       "      <td>0.014</td>\n",
       "      <td>0.014</td>\n",
       "    </tr>\n",
       "  </tbody>\n",
       "</table>\n",
       "</div>"
      ],
      "text/plain": [
       "    PolyPhen2 prediction       \n",
       "                    self  other\n",
       "20                 0.018  0.018\n",
       "21                 0.991  0.991\n",
       "23                 0.994  0.994\n",
       "24                 0.996  0.996\n",
       "25                 0.996  0.996\n",
       "26                 0.996  0.996\n",
       "33                 0.991  0.991\n",
       "77                  0.01   0.01\n",
       "80                 0.867  0.867\n",
       "85                  0.05   0.05\n",
       "86                   0.0    0.0\n",
       "87                 0.006  0.006\n",
       "167                0.696  0.696\n",
       "175                0.014  0.014"
      ]
     },
     "execution_count": 17,
     "metadata": {},
     "output_type": "execute_result"
    }
   ],
   "source": [
    "df_benign_new.compare(df_benign_orig)"
   ]
  },
  {
   "cell_type": "code",
   "execution_count": 18,
   "id": "4b7f04f4-fbf0-4270-87b9-8d2c04139ce9",
   "metadata": {},
   "outputs": [
    {
     "data": {
      "text/plain": [
       "'0.018'"
      ]
     },
     "execution_count": 18,
     "metadata": {},
     "output_type": "execute_result"
    }
   ],
   "source": [
    "df_benign_new['PolyPhen2 prediction'].iloc[20]"
   ]
  },
  {
   "cell_type": "code",
   "execution_count": 19,
   "id": "ba6ecd5e-f608-49aa-9159-a753246b76ea",
   "metadata": {},
   "outputs": [
    {
     "data": {
      "text/plain": [
       "0.018"
      ]
     },
     "execution_count": 19,
     "metadata": {},
     "output_type": "execute_result"
    }
   ],
   "source": [
    "df_benign_orig['PolyPhen2 prediction'].iloc[20]"
   ]
  },
  {
   "cell_type": "code",
   "execution_count": 20,
   "id": "34318a50-3b9c-46ee-aba3-339dfba0e184",
   "metadata": {},
   "outputs": [
    {
     "data": {
      "text/plain": [
       "benign           13\n",
       "0.996             3\n",
       "0.991             2\n",
       "0.018             1\n",
       "0.994             1\n",
       "benign  0.209     1\n",
       "0.01              1\n",
       "0.867             1\n",
       "0.05              1\n",
       "0.0               1\n",
       "0.006             1\n",
       "0.696             1\n",
       "0.014             1\n",
       "Name: PolyPhen2 prediction, dtype: int64"
      ]
     },
     "execution_count": 20,
     "metadata": {},
     "output_type": "execute_result"
    }
   ],
   "source": [
    "df_benign_orig['PolyPhen2 prediction'].value_counts()"
   ]
  },
  {
   "cell_type": "code",
   "execution_count": 21,
   "id": "3bc7e9ea-c66b-49d8-90fe-e2d98f3bdba9",
   "metadata": {},
   "outputs": [
    {
     "data": {
      "text/plain": [
       "benign           13\n",
       "0.996             3\n",
       "0.991             2\n",
       "0.018             1\n",
       "0.994             1\n",
       "benign  0.209     1\n",
       "0.01              1\n",
       "0.867             1\n",
       "0.05              1\n",
       "0.0               1\n",
       "0.006             1\n",
       "0.696             1\n",
       "0.014             1\n",
       "Name: PolyPhen2 prediction, dtype: int64"
      ]
     },
     "execution_count": 21,
     "metadata": {},
     "output_type": "execute_result"
    }
   ],
   "source": [
    "df_benign_new['PolyPhen2 prediction'].value_counts()"
   ]
  },
  {
   "cell_type": "code",
   "execution_count": 22,
   "id": "9139641c-1776-4984-b288-2aa32a543934",
   "metadata": {},
   "outputs": [
    {
     "data": {
      "text/html": [
       "<div>\n",
       "<style scoped>\n",
       "    .dataframe tbody tr th:only-of-type {\n",
       "        vertical-align: middle;\n",
       "    }\n",
       "\n",
       "    .dataframe tbody tr th {\n",
       "        vertical-align: top;\n",
       "    }\n",
       "\n",
       "    .dataframe thead tr th {\n",
       "        text-align: left;\n",
       "    }\n",
       "</style>\n",
       "<table border=\"1\" class=\"dataframe\">\n",
       "  <thead>\n",
       "    <tr>\n",
       "      <th></th>\n",
       "      <th colspan=\"2\" halign=\"left\">PolyPhen2 prediction</th>\n",
       "    </tr>\n",
       "    <tr>\n",
       "      <th></th>\n",
       "      <th>self</th>\n",
       "      <th>other</th>\n",
       "    </tr>\n",
       "  </thead>\n",
       "  <tbody>\n",
       "    <tr>\n",
       "      <th>0</th>\n",
       "      <td>0.984</td>\n",
       "      <td>0.984</td>\n",
       "    </tr>\n",
       "    <tr>\n",
       "      <th>79</th>\n",
       "      <td>0.63</td>\n",
       "      <td>0.63</td>\n",
       "    </tr>\n",
       "    <tr>\n",
       "      <th>80</th>\n",
       "      <td>0.999</td>\n",
       "      <td>0.999</td>\n",
       "    </tr>\n",
       "    <tr>\n",
       "      <th>81</th>\n",
       "      <td>0.998</td>\n",
       "      <td>0.998</td>\n",
       "    </tr>\n",
       "    <tr>\n",
       "      <th>97</th>\n",
       "      <td>0.993</td>\n",
       "      <td>0.993</td>\n",
       "    </tr>\n",
       "    <tr>\n",
       "      <th>119</th>\n",
       "      <td>0.997</td>\n",
       "      <td>0.997</td>\n",
       "    </tr>\n",
       "  </tbody>\n",
       "</table>\n",
       "</div>"
      ],
      "text/plain": [
       "    PolyPhen2 prediction       \n",
       "                    self  other\n",
       "0                  0.984  0.984\n",
       "79                  0.63   0.63\n",
       "80                 0.999  0.999\n",
       "81                 0.998  0.998\n",
       "97                 0.993  0.993\n",
       "119                0.997  0.997"
      ]
     },
     "execution_count": 22,
     "metadata": {},
     "output_type": "execute_result"
    }
   ],
   "source": [
    "df_vus_new.compare(df_vus_orig)"
   ]
  },
  {
   "cell_type": "code",
   "execution_count": 23,
   "id": "ccda01f1-fd99-4b6c-a36c-f3e28ef1e4da",
   "metadata": {},
   "outputs": [
    {
     "data": {
      "text/plain": [
       "'0.63'"
      ]
     },
     "execution_count": 23,
     "metadata": {},
     "output_type": "execute_result"
    }
   ],
   "source": [
    "df_vus_new['PolyPhen2 prediction'].iloc[79]"
   ]
  },
  {
   "cell_type": "code",
   "execution_count": 24,
   "id": "d6d8addd-925b-43b9-8e0c-98bf7e7e3d19",
   "metadata": {},
   "outputs": [
    {
     "data": {
      "text/plain": [
       "0.63"
      ]
     },
     "execution_count": 24,
     "metadata": {},
     "output_type": "execute_result"
    }
   ],
   "source": [
    "df_vus_orig['PolyPhen2 prediction'].iloc[79]"
   ]
  },
  {
   "cell_type": "code",
   "execution_count": 25,
   "id": "0ab0710e-dce4-411f-ae82-1d5da026f3ce",
   "metadata": {},
   "outputs": [
    {
     "data": {
      "text/plain": [
       "benign                                            26\n",
       "probably damaging                                 12\n",
       "possibly damaging                                  6\n",
       "likely tolerated                                   2\n",
       "0.984                                              1\n",
       "0.63                                               1\n",
       "benirgn                                            1\n",
       "SIFT, PolyPhen-2, Align-GVGD suggest tolerated     1\n",
       "damaging                                           1\n",
       "0.993                                              1\n",
       "possibly damaging 0.942                            1\n",
       "Possibly damaging: 0.918??  Benign??               1\n",
       "0.998                                              1\n",
       "0.999                                              1\n",
       "likely benign                                      1\n",
       "probably-damaging:0.989                            1\n",
       "probably damaging 0.998                            1\n",
       "benign  0                                          1\n",
       "p.LOF high                                         1\n",
       "PolyPhen2  benign                                  1\n",
       "p. LOF high confidence                             1\n",
       "probably-damaging:0.999                            1\n",
       "Probably Damaging                                  1\n",
       "prob damaging                                      1\n",
       "Possibly damaging                                  1\n",
       "0.997                                              1\n",
       "Name: PolyPhen2 prediction, dtype: int64"
      ]
     },
     "execution_count": 25,
     "metadata": {},
     "output_type": "execute_result"
    }
   ],
   "source": [
    "df_vus_new['PolyPhen2 prediction'].value_counts()"
   ]
  },
  {
   "cell_type": "code",
   "execution_count": 26,
   "id": "1bc31f68-eabf-4158-8e8b-f6d0a1db0b34",
   "metadata": {},
   "outputs": [
    {
     "data": {
      "text/plain": [
       "benign                                            26\n",
       "probably damaging                                 12\n",
       "possibly damaging                                  6\n",
       "likely tolerated                                   2\n",
       "0.984                                              1\n",
       "0.63                                               1\n",
       "benirgn                                            1\n",
       "SIFT, PolyPhen-2, Align-GVGD suggest tolerated     1\n",
       "damaging                                           1\n",
       "0.993                                              1\n",
       "possibly damaging 0.942                            1\n",
       "Possibly damaging: 0.918??  Benign??               1\n",
       "0.998                                              1\n",
       "0.999                                              1\n",
       "likely benign                                      1\n",
       "probably-damaging:0.989                            1\n",
       "probably damaging 0.998                            1\n",
       "benign  0                                          1\n",
       "p.LOF high                                         1\n",
       "PolyPhen2  benign                                  1\n",
       "p. LOF high confidence                             1\n",
       "probably-damaging:0.999                            1\n",
       "Probably Damaging                                  1\n",
       "prob damaging                                      1\n",
       "Possibly damaging                                  1\n",
       "0.997                                              1\n",
       "Name: PolyPhen2 prediction, dtype: int64"
      ]
     },
     "execution_count": 26,
     "metadata": {},
     "output_type": "execute_result"
    }
   ],
   "source": [
    "df_vus_orig['PolyPhen2 prediction'].value_counts()"
   ]
  }
 ],
 "metadata": {
  "kernelspec": {
   "display_name": "Python 3 (ipykernel)",
   "language": "python",
   "name": "python3"
  },
  "language_info": {
   "codemirror_mode": {
    "name": "ipython",
    "version": 3
   },
   "file_extension": ".py",
   "mimetype": "text/x-python",
   "name": "python",
   "nbconvert_exporter": "python",
   "pygments_lexer": "ipython3",
   "version": "3.8.16"
  }
 },
 "nbformat": 4,
 "nbformat_minor": 5
}
