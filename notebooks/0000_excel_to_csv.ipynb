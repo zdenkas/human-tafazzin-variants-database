{
 "cells": [
  {
   "cell_type": "code",
   "execution_count": null,
   "id": "877727dd-ecef-4f32-8e6b-732837414777",
   "metadata": {},
   "outputs": [],
   "source": [
    "import pandas as pd\n",
    "import os\n",
    "import helpers"
   ]
  },
  {
   "cell_type": "code",
   "execution_count": null,
   "id": "12998234-49be-457d-a332-5b2bab371f7a",
   "metadata": {},
   "outputs": [],
   "source": [
    "input_path = '../database_original/[Data Only] Human TAFAZZIN Variants Database_v07-20-2023.xlsx'\n",
    "output_path_prefix = helpers.create_database_output_path_prefix()"
   ]
  },
  {
   "cell_type": "markdown",
   "id": "5c66529f-eb71-4a50-93b2-1e7068cde02d",
   "metadata": {},
   "source": [
    "# Load excel data"
   ]
  },
  {
   "cell_type": "code",
   "execution_count": null,
   "id": "5418a783-686c-4edd-938c-e685c3ff02e5",
   "metadata": {},
   "outputs": [],
   "source": [
    "if not os.path.exists(input_path):\n",
    "    print('Please download the original database into `database_original` folder from https://drive.google.com/drive/folders/1O2MKa5FHsvq3hyjOVSsOZf37xkwKYAJ8 ')"
   ]
  },
  {
   "cell_type": "code",
   "execution_count": null,
   "id": "516b77e4-ff5b-4e08-9518-7a5479fce06f",
   "metadata": {},
   "outputs": [],
   "source": [
    "xls = pd.ExcelFile(input_path)\n",
    "sheet_names = xls.sheet_names\n",
    "print(sheet_names)"
   ]
  },
  {
   "cell_type": "code",
   "execution_count": null,
   "id": "9bfb8008-a038-4b4f-abe6-67633b8d51fe",
   "metadata": {},
   "outputs": [],
   "source": [
    "pathogenic_sheet_names = [a for a in sheet_names if 'PATHOGENIC' in a] \n",
    "assert len(pathogenic_sheet_names) == 1, 'we expect just one \"PATHOGENIC\" sheet'\n",
    "df_pathogenic = pd.read_excel(xls, pathogenic_sheet_names[0])\n",
    "    \n",
    "vus_sheet_names = [a for a in sheet_names if 'VUS' in a] \n",
    "assert len(vus_sheet_names) == 1, 'we expect just one \"VUS\" sheet'\n",
    "df_vus = pd.read_excel(xls, vus_sheet_names[0])\n",
    "    \n",
    "benign_sheet_names = [a for a in sheet_names if 'BENIGN' in a] \n",
    "assert len(benign_sheet_names) == 1, 'we expect just one \"BENIGN\" sheet'\n",
    "df_benign = pd.read_excel(xls, benign_sheet_names[0])\n",
    "    \n",
    "exon5_sheet_names = [a for a in sheet_names if 'EXON 5' in a] \n",
    "assert len(exon5_sheet_names) == 1, 'we expect just one \"EXON 5\" sheet'\n",
    "df_exon5 = pd.read_excel(xls, exon5_sheet_names[0])    "
   ]
  },
  {
   "cell_type": "code",
   "execution_count": null,
   "id": "61116fa4-b36a-44e6-a82a-9306d1142ee2",
   "metadata": {},
   "outputs": [],
   "source": [
    "print(df_pathogenic.shape)\n",
    "df_pathogenic.head(3)"
   ]
  },
  {
   "cell_type": "code",
   "execution_count": null,
   "id": "96584246-0c67-4d71-ad1e-8d6093202190",
   "metadata": {},
   "outputs": [],
   "source": [
    "print(df_vus.shape)\n",
    "df_vus.head(3)"
   ]
  },
  {
   "cell_type": "code",
   "execution_count": null,
   "id": "5413d8a1-916f-485d-b71c-9704c44c3728",
   "metadata": {},
   "outputs": [],
   "source": [
    "print(df_benign.shape)\n",
    "df_benign.head(3)"
   ]
  },
  {
   "cell_type": "code",
   "execution_count": null,
   "id": "bbbe1a02-50f0-4fc8-a599-992716ec7c6a",
   "metadata": {},
   "outputs": [],
   "source": [
    "print(df_exon5.shape)\n",
    "df_exon5.head(3)"
   ]
  },
  {
   "cell_type": "markdown",
   "id": "2e70abfe-df5a-4ba0-b746-6a1e3669c698",
   "metadata": {},
   "source": [
    "# Save as csvs"
   ]
  },
  {
   "cell_type": "code",
   "execution_count": null,
   "id": "cfa0ec5f-dc90-4133-8641-b3225fff8f0b",
   "metadata": {},
   "outputs": [],
   "source": [
    "output_path_prefix"
   ]
  },
  {
   "cell_type": "code",
   "execution_count": null,
   "id": "d634557c-3fdf-4d3d-83c0-5a23e942a1c7",
   "metadata": {},
   "outputs": [],
   "source": [
    "def save_output_as_csv(output_path_prefix, \n",
    "                       df_pathogenic, df_benign, df_vus, df_exon5):\n",
    "    df_pathogenic.to_csv(output_path_prefix + 'pathogenic.csv', index=False)\n",
    "    print(f'Dataframe of shape {df_pathogenic.shape} saved to {output_path_prefix}pathogenic.csv')\n",
    "    \n",
    "    shutil.copyfile(\n",
    "    \n",
    "    df_benign.to_csv(output_path_prefix + 'benign.csv', index=False)\n",
    "    print(f'Dataframe of shape {df_benign.shape} saved to {output_path_prefix}benign.csv')\n",
    "\n",
    "    df_vus.to_csv(output_path_prefix + 'vus.csv', index=False)\n",
    "    print(f'Dataframe of shape {df_vus.shape} saved to {output_path_prefix}vus.csv')\n",
    "\n",
    "    df_exon5.to_csv(output_path_prefix + 'exon5', index=False)\n",
    "    print(f'Dataframe of shape {df_exon5.shape} saved to {output_path_prefix}exon5.csv')\n",
    "    "
   ]
  },
  {
   "cell_type": "code",
   "execution_count": null,
   "id": "f35eb696-e42a-4f1b-afc2-bc1ff78ce50a",
   "metadata": {},
   "outputs": [],
   "source": [
    "save_output_as_csv(output_path_prefix,\n",
    "             df_pathogenic=df_pathogenic,\n",
    "             df_benign=df_benign,\n",
    "             df_vus=df_vus,\n",
    "             df_exon5=df_exon5)"
   ]
  }
 ],
 "metadata": {
  "kernelspec": {
   "display_name": "Python 3 (ipykernel)",
   "language": "python",
   "name": "python3"
  },
  "language_info": {
   "codemirror_mode": {
    "name": "ipython",
    "version": 3
   },
   "file_extension": ".py",
   "mimetype": "text/x-python",
   "name": "python",
   "nbconvert_exporter": "python",
   "pygments_lexer": "ipython3",
   "version": "3.8.16"
  }
 },
 "nbformat": 4,
 "nbformat_minor": 5
}
