{
 "cells": [
  {
   "cell_type": "code",
   "execution_count": null,
   "id": "b2ba63f7-9c25-403b-8030-0c3c8df691df",
   "metadata": {},
   "outputs": [],
   "source": [
    "# WIP"
   ]
  },
  {
   "cell_type": "code",
   "execution_count": null,
   "id": "cef9e519-4e8b-4b7f-b56e-c6dde27fddcd",
   "metadata": {},
   "outputs": [],
   "source": [
    "##### Slightly more difficult comparison for df_pathogenic: we have removed that one empty column:"
   ]
  },
  {
   "cell_type": "code",
   "execution_count": null,
   "id": "82fa736a-6d9c-4a64-bccb-8c88ad8d40f7",
   "metadata": {},
   "outputs": [],
   "source": [
    "df_pathogenic_orig.columns = list(df_pathogenic_new.columns) + ['Unnamed: 15']"
   ]
  },
  {
   "cell_type": "code",
   "execution_count": null,
   "id": "f8268f90-f9c9-4c06-9f78-2a7a6ab04192",
   "metadata": {},
   "outputs": [],
   "source": [
    "df_pathogenic_new.shape"
   ]
  },
  {
   "cell_type": "code",
   "execution_count": null,
   "id": "e51f7254-ca78-4bbe-a511-1162cde7b614",
   "metadata": {},
   "outputs": [],
   "source": [
    "df_pathogenic_orig.shape"
   ]
  },
  {
   "cell_type": "code",
   "execution_count": null,
   "id": "c54437bd-3325-485d-a0e1-b7abc8e910d6",
   "metadata": {},
   "outputs": [],
   "source": [
    "df_pathogenic_orig['Unnamed: 15'].value_counts()  # show that the additional column is empty in the original data"
   ]
  },
  {
   "cell_type": "code",
   "execution_count": null,
   "id": "9a703b24-d3dd-4251-8bb9-b0936fc342f4",
   "metadata": {},
   "outputs": [],
   "source": [
    "assert df_pathogenic_new.equals(df_pathogenic_orig[df_pathogenic_new.columns]), 'dfs should be the same apart from the unnamed column'"
   ]
  }
 ],
 "metadata": {
  "kernelspec": {
   "display_name": "Python 3 (ipykernel)",
   "language": "python",
   "name": "python3"
  },
  "language_info": {
   "codemirror_mode": {
    "name": "ipython",
    "version": 3
   },
   "file_extension": ".py",
   "mimetype": "text/x-python",
   "name": "python",
   "nbconvert_exporter": "python",
   "pygments_lexer": "ipython3",
   "version": "3.8.16"
  }
 },
 "nbformat": 4,
 "nbformat_minor": 5
}
